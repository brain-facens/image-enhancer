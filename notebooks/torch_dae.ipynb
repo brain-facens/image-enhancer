{
 "cells": [
  {
   "cell_type": "markdown",
   "metadata": {},
   "source": [
    "# Pytorch Based Convolutional Autoencoders For Anomaly Detection\n",
    "useful links:\n",
    "- [Base autoencoder model](https://www.geeksforgeeks.org/denoising-autoencoders-in-machine-learning/)\n",
    "- [Batch Normalization Explained](https://towardsdatascience.com/batch-norm-explained-visually-how-it-works-and-why-neural-networks-need-it-b18919692739)\n",
    "- [Build a Neural Network in Pytorch](https://towardsdatascience.com/three-ways-to-build-a-neural-network-in-pytorch-8cea49f9a61a)\n",
    "- [Anomaly Detection With IQR](https://builtin.com/articles/1-5-iqr-rule)"
   ]
  },
  {
   "cell_type": "markdown",
   "metadata": {},
   "source": [
    "## Initial Setup"
   ]
  },
  {
   "cell_type": "code",
   "execution_count": 1,
   "metadata": {},
   "outputs": [
    {
     "name": "stderr",
     "output_type": "stream",
     "text": [
      "/home/nata-brain/miniconda3/envs/mpt/lib/python3.9/site-packages/tqdm/auto.py:21: TqdmWarning: IProgress not found. Please update jupyter and ipywidgets. See https://ipywidgets.readthedocs.io/en/stable/user_install.html\n",
      "  from .autonotebook import tqdm as notebook_tqdm\n"
     ]
    }
   ],
   "source": [
    "import os\n",
    "import matplotlib.pyplot as plt\n",
    "import numpy as np\n",
    "import seaborn as sns\n",
    "import torch\n",
    "\n",
    "from torch import nn, optim\n",
    "from torch.utils.data import DataLoader, random_split, Subset\n",
    "from torchvision import datasets\n",
    "from torchvision.transforms import v2\n",
    "from torchinfo import summary\n",
    "from tqdm.auto import tqdm"
   ]
  },
  {
   "cell_type": "markdown",
   "metadata": {},
   "source": [
    "# Check cuda availability"
   ]
  },
  {
   "cell_type": "code",
   "execution_count": 24,
   "metadata": {},
   "outputs": [
    {
     "data": {
      "text/plain": [
       "True"
      ]
     },
     "execution_count": 24,
     "metadata": {},
     "output_type": "execute_result"
    }
   ],
   "source": [
    "torch.cuda.is_available()"
   ]
  },
  {
   "cell_type": "markdown",
   "metadata": {},
   "source": [
    "# Set Parameters"
   ]
  },
  {
   "cell_type": "code",
   "execution_count": 23,
   "metadata": {},
   "outputs": [
    {
     "name": "stdout",
     "output_type": "stream",
     "text": [
      "cuda\n"
     ]
    }
   ],
   "source": [
    "# Env Parameters\n",
    "DATA_DIR='../datasets/cable_dataset_tester/images/dae_dataset'\n",
    "MODEL_OUT='../models'\n",
    "GRAPH_OUT='results'\n",
    "NET_NAME='cable_novelty.pt'\n",
    "\n",
    "# Hyperparameters\n",
    "DEVICE = 'cuda'\n",
    "print(DEVICE)\n",
    "IMG_SHAPE = (300, 600, 1)\n",
    "\n",
    "BATCH_SIZE = 32 # originaly 16\n",
    "LATENT_DIM = 2\n",
    "LR = 3e-4\n",
    "EPOCHS = 5000\n",
    "\n",
    "os.makedirs(MODEL_OUT, exist_ok=True)\n",
    "os.makedirs(GRAPH_OUT, exist_ok=True)"
   ]
  },
  {
   "cell_type": "markdown",
   "metadata": {},
   "source": [
    "## Neural Network Definition"
   ]
  },
  {
   "cell_type": "code",
   "execution_count": 25,
   "metadata": {},
   "outputs": [],
   "source": [
    "class DAE(nn.Module):\n",
    "    def __init__(self, img_shape: tuple, latent_dim: int) -> None:\n",
    "        super(DAE, self).__init__()\n",
    "        self.img_shape = img_shape\n",
    "        \n",
    "        # Deep Neural Network\n",
    "        self.linear1 = nn.Linear(np.prod(img_shape), 128) # Applies an affine linear transformation to the incoming data: y = x.A^T + b.\n",
    "        self.linear2 = nn.Linear(128, 256)\n",
    "        self.linear3 = nn.Linear(256, 512)\n",
    "        self.linear4 = nn.Linear(512, 256)\n",
    "        self.linear5 = nn.Linear(256, 128)\n",
    "        self.linear6 = nn.Linear(128, np.prod(img_shape))\n",
    "        self.latent1 = nn.Linear(512, latent_dim)\n",
    "        self.latent2 = nn.Linear(latent_dim, 512)\n",
    "\n",
    "        self.relu = nn.LeakyReLU(negative_slope=.1, inplace=True)\n",
    "        self.tanh = nn.Tanh()\n",
    "    \n",
    "    def encode(self, x):\n",
    "        \"\"\"\n",
    "        Encoder Creation\n",
    "        \n",
    "        Args: \n",
    "            x - pixel value\n",
    "            \n",
    "        Return:\n",
    "            Vector encoded\n",
    "        \"\"\"\n",
    "        \n",
    "        h1 = self.relu(self.linear1(x))\n",
    "        h2 = self.relu(self.linear2(h1))\n",
    "        \n",
    "        return self.relu(self.linear3(h2)) # Encoded data\n",
    "    \n",
    "    def decoder(self, z):\n",
    "        \"\"\"\n",
    "        Decoder Creation\n",
    "        \n",
    "        Args: \n",
    "            z - pixel value\n",
    "            \n",
    "        Return:\n",
    "            Vector decoded \n",
    "        \"\"\"\n",
    "        \n",
    "        h4 = self.relu(self.linear4(z))\n",
    "        h5 = self.relu(self.linear5(h4))\n",
    "        \n",
    "        return self.tanh(self.linear6(h5)) # Decoded data\n",
    "        \n",
    "    def forward(self, img):\n",
    "        \"\"\"\n",
    "        Feedfoward function to get the reconstructed image\n",
    "        \n",
    "        Args: \n",
    "            img - image vector\n",
    "            \n",
    "        Return:\n",
    "            Reconstructed vector \n",
    "        \"\"\"\n",
    "        \n",
    "        og_shape = img.shape\n",
    "        img_flat = img.view(img.shape[0], -1)\n",
    "        z = self.encode(img_flat)\n",
    "        recon = self.decoder(z)\n",
    "        \n",
    "        return recon.view(og_shape) # Reconstructed image vector"
   ]
  },
  {
   "cell_type": "markdown",
   "metadata": {},
   "source": [
    "# Model creation "
   ]
  },
  {
   "cell_type": "code",
   "execution_count": 27,
   "metadata": {},
   "outputs": [
    {
     "name": "stdout",
     "output_type": "stream",
     "text": [
      "cuda\n"
     ]
    }
   ],
   "source": [
    "model = DAE(IMG_SHAPE, LATENT_DIM).to(DEVICE)\n",
    "print(DEVICE)"
   ]
  },
  {
   "cell_type": "code",
   "execution_count": 28,
   "metadata": {},
   "outputs": [
    {
     "data": {
      "text/plain": [
       "==========================================================================================\n",
       "Layer (type:depth-idx)                   Output Shape              Param #\n",
       "==========================================================================================\n",
       "DAE                                      [32, 1, 600, 300]         2,562\n",
       "├─Linear: 1-1                            [32, 128]                 23,040,128\n",
       "├─LeakyReLU: 1-2                         [32, 128]                 --\n",
       "├─Linear: 1-3                            [32, 256]                 33,024\n",
       "├─LeakyReLU: 1-4                         [32, 256]                 --\n",
       "├─Linear: 1-5                            [32, 512]                 131,584\n",
       "├─LeakyReLU: 1-6                         [32, 512]                 --\n",
       "├─Linear: 1-7                            [32, 256]                 131,328\n",
       "├─LeakyReLU: 1-8                         [32, 256]                 --\n",
       "├─Linear: 1-9                            [32, 128]                 32,896\n",
       "├─LeakyReLU: 1-10                        [32, 128]                 --\n",
       "├─Linear: 1-11                           [32, 180000]              23,220,000\n",
       "├─Tanh: 1-12                             [32, 180000]              --\n",
       "==========================================================================================\n",
       "Total params: 46,591,522\n",
       "Trainable params: 46,591,522\n",
       "Non-trainable params: 0\n",
       "Total mult-adds (G): 1.49\n",
       "==========================================================================================\n",
       "Input size (MB): 23.04\n",
       "Forward/backward pass size (MB): 46.41\n",
       "Params size (MB): 186.36\n",
       "Estimated Total Size (MB): 255.80\n",
       "=========================================================================================="
      ]
     },
     "execution_count": 28,
     "metadata": {},
     "output_type": "execute_result"
    }
   ],
   "source": [
    "summary(model, input_size=(BATCH_SIZE, 1, 600, 300))"
   ]
  },
  {
   "cell_type": "code",
   "execution_count": 29,
   "metadata": {},
   "outputs": [],
   "source": [
    "# loss and optimizer\n",
    "criterion = nn.MSELoss()\n",
    "optimizer = optim.Adam(model.parameters(), lr=LR)"
   ]
  },
  {
   "cell_type": "code",
   "execution_count": 30,
   "metadata": {},
   "outputs": [],
   "source": [
    "class EarlyStopping:\n",
    "    def __init__(self, patience:int=5, min_delta:int=0) -> None:\n",
    "        self.patience = patience\n",
    "        self.min_delta = min_delta\n",
    "        self.counter = 0\n",
    "        self.min_val_loss = float('inf')\n",
    "    \n",
    "    def early_stop(self, val_loss):\n",
    "        if val_loss < self.min_val_loss:\n",
    "            self.min_val_loss = val_loss\n",
    "            self.counter = 0\n",
    "        elif val_loss > (self.min_val_loss + self.min_delta):\n",
    "            self.counter += 1\n",
    "            if self.counter >= self.patience:\n",
    "                return True\n",
    "        return False"
   ]
  },
  {
   "cell_type": "markdown",
   "metadata": {},
   "source": [
    "## Loading The Data"
   ]
  },
  {
   "cell_type": "code",
   "execution_count": 31,
   "metadata": {},
   "outputs": [],
   "source": [
    "img_transforms = v2.Compose([\n",
    "    v2.Resize(IMG_SHAPE[:-1]),\n",
    "    v2.Grayscale(),\n",
    "    v2.ToImage(),\n",
    "    v2.ToDtype(torch.float32, scale=True)\n",
    "])\n",
    "\n",
    "train_set = datasets.ImageFolder(\n",
    "    os.path.join(DATA_DIR, 'train'), \n",
    "    transform=img_transforms)\n",
    "\n",
    "train_set, val_set = random_split(train_set, [.7,.3])"
   ]
  },
  {
   "cell_type": "code",
   "execution_count": 32,
   "metadata": {},
   "outputs": [],
   "source": [
    "train_loader = DataLoader(train_set, BATCH_SIZE, shuffle=True, drop_last=True)\n",
    "val_loader = DataLoader(val_set, BATCH_SIZE, shuffle=False)"
   ]
  },
  {
   "cell_type": "markdown",
   "metadata": {},
   "source": [
    "## Training"
   ]
  },
  {
   "cell_type": "code",
   "execution_count": 33,
   "metadata": {},
   "outputs": [],
   "source": [
    "class AutoSave:\n",
    "    def __init__(self, filename: str) -> None:\n",
    "        if not filename.endswith('.pt'):\n",
    "            filename += '.pt'\n",
    "        self.filename = filename\n",
    "        self.best_loss = float('inf')\n",
    "        \n",
    "    def check_save(self, model, val_loss):\n",
    "        if val_loss < self.best_loss:\n",
    "            self.best_loss = val_loss\n",
    "            torch.save(model.state_dict(), \n",
    "                       os.path.join(MODEL_OUT, self.filename))"
   ]
  },
  {
   "cell_type": "code",
   "execution_count": 34,
   "metadata": {},
   "outputs": [
    {
     "name": "stderr",
     "output_type": "stream",
     "text": [
      "Model Training Progress:   0%|          | 0/5000 [00:21<?, ?it/s, Train Loss=1.14, Validation Loss=0.673]"
     ]
    },
    {
     "name": "stdout",
     "output_type": "stream",
     "text": [
      "Epoch 1/5000 -> Train loss: 1.1427144605689254,         Validation loss: 0.6728685024593558\n"
     ]
    },
    {
     "name": "stderr",
     "output_type": "stream",
     "text": [
      "Model Training Progress:   0%|          | 1/5000 [00:45<32:57:30, 23.73s/it, Train Loss=0.621, Validation Loss=0.558]"
     ]
    },
    {
     "name": "stdout",
     "output_type": "stream",
     "text": [
      "Epoch 2/5000 -> Train loss: 0.6214222854083301,         Validation loss: 0.5578732430136629\n"
     ]
    },
    {
     "name": "stderr",
     "output_type": "stream",
     "text": [
      "Model Training Progress:   0%|          | 2/5000 [01:10<34:01:02, 24.50s/it, Train Loss=0.514, Validation Loss=0.464]"
     ]
    },
    {
     "name": "stdout",
     "output_type": "stream",
     "text": [
      "Epoch 3/5000 -> Train loss: 0.5138373653764373,         Validation loss: 0.4635666819821511\n"
     ]
    },
    {
     "name": "stderr",
     "output_type": "stream",
     "text": [
      "Model Training Progress:   0%|          | 3/5000 [01:34<33:55:12, 24.44s/it, Train Loss=0.435, Validation Loss=0.393]"
     ]
    },
    {
     "name": "stdout",
     "output_type": "stream",
     "text": [
      "Epoch 4/5000 -> Train loss: 0.4354478407856877,         Validation loss: 0.39314977400270956\n"
     ]
    },
    {
     "name": "stderr",
     "output_type": "stream",
     "text": [
      "Model Training Progress:   0%|          | 4/5000 [01:58<33:39:52, 24.26s/it, Train Loss=0.374, Validation Loss=0.352]"
     ]
    },
    {
     "name": "stdout",
     "output_type": "stream",
     "text": [
      "Epoch 5/5000 -> Train loss: 0.3741268750531542,         Validation loss: 0.3522138810317431\n"
     ]
    },
    {
     "name": "stderr",
     "output_type": "stream",
     "text": [
      "Model Training Progress:   0%|          | 5/5000 [02:23<33:58:13, 24.48s/it, Train Loss=0.338, Validation Loss=0.321]"
     ]
    },
    {
     "name": "stdout",
     "output_type": "stream",
     "text": [
      "Epoch 6/5000 -> Train loss: 0.3375788690762286,         Validation loss: 0.3214073548625622\n"
     ]
    },
    {
     "name": "stderr",
     "output_type": "stream",
     "text": [
      "Model Training Progress:   0%|          | 6/5000 [02:46<33:23:40, 24.07s/it, Train Loss=0.316, Validation Loss=0.303]"
     ]
    },
    {
     "name": "stdout",
     "output_type": "stream",
     "text": [
      "Epoch 7/5000 -> Train loss: 0.315676248466676,         Validation loss: 0.3032135919268642\n"
     ]
    },
    {
     "name": "stderr",
     "output_type": "stream",
     "text": [
      "Model Training Progress:   0%|          | 7/5000 [03:10<33:07:56, 23.89s/it, Train Loss=0.299, Validation Loss=0.288]"
     ]
    },
    {
     "name": "stdout",
     "output_type": "stream",
     "text": [
      "Epoch 8/5000 -> Train loss: 0.2985498629556112,         Validation loss: 0.28790561386517116\n"
     ]
    },
    {
     "name": "stderr",
     "output_type": "stream",
     "text": [
      "Model Training Progress:   0%|          | 8/5000 [03:34<33:06:49, 23.88s/it, Train Loss=0.283, Validation Loss=0.274]"
     ]
    },
    {
     "name": "stdout",
     "output_type": "stream",
     "text": [
      "Epoch 9/5000 -> Train loss: 0.28268381861821273,         Validation loss: 0.27438337563404014\n"
     ]
    },
    {
     "name": "stderr",
     "output_type": "stream",
     "text": [
      "Model Training Progress:   0%|          | 9/5000 [03:57<32:54:41, 23.74s/it, Train Loss=0.27, Validation Loss=0.263] "
     ]
    },
    {
     "name": "stdout",
     "output_type": "stream",
     "text": [
      "Epoch 10/5000 -> Train loss: 0.26999003197883537,         Validation loss: 0.26315142533608843\n"
     ]
    },
    {
     "name": "stderr",
     "output_type": "stream",
     "text": [
      "Model Training Progress:   0%|          | 10/5000 [04:20<32:40:39, 23.57s/it, Train Loss=0.258, Validation Loss=0.253]"
     ]
    },
    {
     "name": "stdout",
     "output_type": "stream",
     "text": [
      "Epoch 11/5000 -> Train loss: 0.25799596382796397,         Validation loss: 0.2528036898534213\n"
     ]
    },
    {
     "name": "stderr",
     "output_type": "stream",
     "text": [
      "Model Training Progress:   0%|          | 11/5000 [04:43<32:32:14, 23.48s/it, Train Loss=0.249, Validation Loss=0.249]"
     ]
    },
    {
     "name": "stdout",
     "output_type": "stream",
     "text": [
      "Epoch 12/5000 -> Train loss: 0.24885475210434088,         Validation loss: 0.24884806642574922\n"
     ]
    },
    {
     "name": "stderr",
     "output_type": "stream",
     "text": [
      "Model Training Progress:   0%|          | 12/5000 [05:06<32:15:47, 23.29s/it, Train Loss=0.241, Validation Loss=0.238]"
     ]
    },
    {
     "name": "stdout",
     "output_type": "stream",
     "text": [
      "Epoch 13/5000 -> Train loss: 0.24112460236607886,         Validation loss: 0.23830826466104815\n"
     ]
    },
    {
     "name": "stderr",
     "output_type": "stream",
     "text": [
      "Model Training Progress:   0%|          | 13/5000 [05:30<32:10:45, 23.23s/it, Train Loss=0.234, Validation Loss=0.231]"
     ]
    },
    {
     "name": "stdout",
     "output_type": "stream",
     "text": [
      "Epoch 14/5000 -> Train loss: 0.23440944188577265,         Validation loss: 0.23148531699553132\n"
     ]
    },
    {
     "name": "stderr",
     "output_type": "stream",
     "text": [
      "Model Training Progress:   0%|          | 14/5000 [05:54<32:28:47, 23.45s/it, Train Loss=0.23, Validation Loss=0.228] "
     ]
    },
    {
     "name": "stdout",
     "output_type": "stream",
     "text": [
      "Epoch 15/5000 -> Train loss: 0.22968295065720387,         Validation loss: 0.22753841898271016\n"
     ]
    },
    {
     "name": "stderr",
     "output_type": "stream",
     "text": [
      "Model Training Progress:   0%|          | 15/5000 [06:17<32:37:04, 23.56s/it, Train Loss=0.224, Validation Loss=0.222]"
     ]
    },
    {
     "name": "stdout",
     "output_type": "stream",
     "text": [
      "Epoch 16/5000 -> Train loss: 0.22425657273070213,         Validation loss: 0.22185123654614602\n"
     ]
    },
    {
     "name": "stderr",
     "output_type": "stream",
     "text": [
      "Model Training Progress:   0%|          | 16/5000 [06:40<32:27:15, 23.44s/it, Train Loss=0.22, Validation Loss=0.218] "
     ]
    },
    {
     "name": "stdout",
     "output_type": "stream",
     "text": [
      "Epoch 17/5000 -> Train loss: 0.2200283367026803,         Validation loss: 0.21793508974037\n"
     ]
    },
    {
     "name": "stderr",
     "output_type": "stream",
     "text": [
      "Model Training Progress:   0%|          | 17/5000 [07:04<32:23:17, 23.40s/it, Train Loss=0.215, Validation Loss=0.213]"
     ]
    },
    {
     "name": "stdout",
     "output_type": "stream",
     "text": [
      "Epoch 18/5000 -> Train loss: 0.21495704540262925,         Validation loss: 0.21283038521983794\n"
     ]
    },
    {
     "name": "stderr",
     "output_type": "stream",
     "text": [
      "Model Training Progress:   0%|          | 18/5000 [07:27<32:19:41, 23.36s/it, Train Loss=0.211, Validation Loss=0.21] "
     ]
    },
    {
     "name": "stdout",
     "output_type": "stream",
     "text": [
      "Epoch 19/5000 -> Train loss: 0.21094085925195846,         Validation loss: 0.2103185241376715\n"
     ]
    },
    {
     "name": "stderr",
     "output_type": "stream",
     "text": [
      "Model Training Progress:   0%|          | 19/5000 [07:51<32:21:33, 23.39s/it, Train Loss=0.207, Validation Loss=0.206]"
     ]
    },
    {
     "name": "stdout",
     "output_type": "stream",
     "text": [
      "Epoch 20/5000 -> Train loss: 0.20698848311886467,         Validation loss: 0.20621261288012777\n"
     ]
    },
    {
     "name": "stderr",
     "output_type": "stream",
     "text": [
      "Model Training Progress:   0%|          | 20/5000 [08:16<32:49:43, 23.73s/it, Train Loss=0.203, Validation Loss=0.202]"
     ]
    },
    {
     "name": "stdout",
     "output_type": "stream",
     "text": [
      "Epoch 21/5000 -> Train loss: 0.20329884316292277,         Validation loss: 0.2018929135120873\n"
     ]
    },
    {
     "name": "stderr",
     "output_type": "stream",
     "text": [
      "Model Training Progress:   0%|          | 21/5000 [08:40<33:07:16, 23.95s/it, Train Loss=0.2, Validation Loss=0.198]  "
     ]
    },
    {
     "name": "stdout",
     "output_type": "stream",
     "text": [
      "Epoch 22/5000 -> Train loss: 0.19963349904750755,         Validation loss: 0.19804399522420552\n"
     ]
    },
    {
     "name": "stderr",
     "output_type": "stream",
     "text": [
      "Model Training Progress:   0%|          | 22/5000 [09:03<32:57:45, 23.84s/it, Train Loss=0.196, Validation Loss=0.195]"
     ]
    },
    {
     "name": "stdout",
     "output_type": "stream",
     "text": [
      "Epoch 23/5000 -> Train loss: 0.19639303594644816,         Validation loss: 0.19502085583683634\n"
     ]
    },
    {
     "name": "stderr",
     "output_type": "stream",
     "text": [
      "Model Training Progress:   0%|          | 23/5000 [09:29<33:20:00, 24.11s/it, Train Loss=0.193, Validation Loss=0.194]"
     ]
    },
    {
     "name": "stdout",
     "output_type": "stream",
     "text": [
      "Epoch 24/5000 -> Train loss: 0.1932184971366192,         Validation loss: 0.19374765497632324\n"
     ]
    },
    {
     "name": "stderr",
     "output_type": "stream",
     "text": [
      "Model Training Progress:   0%|          | 24/5000 [09:53<33:20:06, 24.12s/it, Train Loss=0.191, Validation Loss=0.19] "
     ]
    },
    {
     "name": "stdout",
     "output_type": "stream",
     "text": [
      "Epoch 25/5000 -> Train loss: 0.19099741424519592,         Validation loss: 0.19028042586786406\n"
     ]
    },
    {
     "name": "stderr",
     "output_type": "stream",
     "text": [
      "Model Training Progress:   0%|          | 25/5000 [10:19<33:49:06, 24.47s/it, Train Loss=0.188, Validation Loss=0.188]"
     ]
    },
    {
     "name": "stdout",
     "output_type": "stream",
     "text": [
      "Epoch 26/5000 -> Train loss: 0.1882514863566387,         Validation loss: 0.18782962053082883\n"
     ]
    },
    {
     "name": "stderr",
     "output_type": "stream",
     "text": [
      "Model Training Progress:   1%|          | 26/5000 [10:44<34:22:28, 24.88s/it, Train Loss=0.186, Validation Loss=0.185]"
     ]
    },
    {
     "name": "stdout",
     "output_type": "stream",
     "text": [
      "Epoch 27/5000 -> Train loss: 0.18621907415199865,         Validation loss: 0.1850220870825329\n"
     ]
    },
    {
     "name": "stderr",
     "output_type": "stream",
     "text": [
      "Model Training Progress:   1%|          | 27/5000 [11:08<34:21:48, 24.88s/it, Train Loss=0.184, Validation Loss=0.184]"
     ]
    },
    {
     "name": "stdout",
     "output_type": "stream",
     "text": [
      "Epoch 28/5000 -> Train loss: 0.1839168821832885,         Validation loss: 0.18449907833045082\n"
     ]
    },
    {
     "name": "stderr",
     "output_type": "stream",
     "text": [
      "Model Training Progress:   1%|          | 28/5000 [11:32<33:53:02, 24.53s/it, Train Loss=0.181, Validation Loss=0.182]"
     ]
    },
    {
     "name": "stdout",
     "output_type": "stream",
     "text": [
      "Epoch 29/5000 -> Train loss: 0.18143538819865945,         Validation loss: 0.18201372849621944\n"
     ]
    },
    {
     "name": "stderr",
     "output_type": "stream",
     "text": [
      "Model Training Progress:   1%|          | 29/5000 [11:56<33:42:42, 24.41s/it, Train Loss=0.18, Validation Loss=0.181] "
     ]
    },
    {
     "name": "stdout",
     "output_type": "stream",
     "text": [
      "Epoch 30/5000 -> Train loss: 0.1796010735393302,         Validation loss: 0.1806740735258375\n"
     ]
    },
    {
     "name": "stderr",
     "output_type": "stream",
     "text": [
      "Model Training Progress:   1%|          | 30/5000 [12:21<33:41:43, 24.41s/it, Train Loss=0.178, Validation Loss=0.178]"
     ]
    },
    {
     "name": "stdout",
     "output_type": "stream",
     "text": [
      "Epoch 31/5000 -> Train loss: 0.17777414976453487,         Validation loss: 0.1775530091420348\n"
     ]
    },
    {
     "name": "stderr",
     "output_type": "stream",
     "text": [
      "Model Training Progress:   1%|          | 31/5000 [12:44<33:35:59, 24.34s/it, Train Loss=0.176, Validation Loss=0.176]"
     ]
    },
    {
     "name": "stdout",
     "output_type": "stream",
     "text": [
      "Epoch 32/5000 -> Train loss: 0.1756555992492869,         Validation loss: 0.1761366813377078\n"
     ]
    },
    {
     "name": "stderr",
     "output_type": "stream",
     "text": [
      "Model Training Progress:   1%|          | 32/5000 [13:08<33:15:00, 24.09s/it, Train Loss=0.174, Validation Loss=0.174]"
     ]
    },
    {
     "name": "stdout",
     "output_type": "stream",
     "text": [
      "Epoch 33/5000 -> Train loss: 0.17375669612383549,         Validation loss: 0.1737393508997879\n"
     ]
    },
    {
     "name": "stderr",
     "output_type": "stream",
     "text": [
      "Model Training Progress:   1%|          | 33/5000 [13:32<33:11:45, 24.06s/it, Train Loss=0.172, Validation Loss=0.173]"
     ]
    },
    {
     "name": "stdout",
     "output_type": "stream",
     "text": [
      "Epoch 34/5000 -> Train loss: 0.17236840009597912,         Validation loss: 0.17324697435168282\n"
     ]
    },
    {
     "name": "stderr",
     "output_type": "stream",
     "text": [
      "Model Training Progress:   1%|          | 34/5000 [13:56<33:21:24, 24.18s/it, Train Loss=0.17, Validation Loss=0.171] "
     ]
    },
    {
     "name": "stdout",
     "output_type": "stream",
     "text": [
      "Epoch 35/5000 -> Train loss: 0.17025942241121655,         Validation loss: 0.17121180654503404\n"
     ]
    },
    {
     "name": "stderr",
     "output_type": "stream",
     "text": [
      "Model Training Progress:   1%|          | 35/5000 [14:19<32:54:56, 23.87s/it, Train Loss=0.169, Validation Loss=0.17] "
     ]
    },
    {
     "name": "stdout",
     "output_type": "stream",
     "text": [
      "Epoch 36/5000 -> Train loss: 0.16907036197057532,         Validation loss: 0.1699924288184515\n"
     ]
    },
    {
     "name": "stderr",
     "output_type": "stream",
     "text": [
      "Model Training Progress:   1%|          | 36/5000 [14:42<32:31:38, 23.59s/it, Train Loss=0.167, Validation Loss=0.168]"
     ]
    },
    {
     "name": "stdout",
     "output_type": "stream",
     "text": [
      "Epoch 37/5000 -> Train loss: 0.16731523313313906,         Validation loss: 0.16763721719118102\n"
     ]
    },
    {
     "name": "stderr",
     "output_type": "stream",
     "text": [
      "Model Training Progress:   1%|          | 37/5000 [15:12<34:34:40, 25.08s/it, Train Loss=0.166, Validation Loss=0.167]"
     ]
    },
    {
     "name": "stdout",
     "output_type": "stream",
     "text": [
      "Epoch 38/5000 -> Train loss: 0.16565328889006486,         Validation loss: 0.1670218841837985\n"
     ]
    },
    {
     "name": "stderr",
     "output_type": "stream",
     "text": [
      "Model Training Progress:   1%|          | 38/5000 [15:38<34:59:28, 25.39s/it, Train Loss=0.164, Validation Loss=0.166]"
     ]
    },
    {
     "name": "stdout",
     "output_type": "stream",
     "text": [
      "Epoch 39/5000 -> Train loss: 0.16423877063521578,         Validation loss: 0.1659347922408155\n"
     ]
    },
    {
     "name": "stderr",
     "output_type": "stream",
     "text": [
      "Model Training Progress:   1%|          | 39/5000 [16:04<35:18:06, 25.62s/it, Train Loss=0.163, Validation Loss=0.163]"
     ]
    },
    {
     "name": "stdout",
     "output_type": "stream",
     "text": [
      "Epoch 40/5000 -> Train loss: 0.16327174483267076,         Validation loss: 0.1628157211933285\n"
     ]
    },
    {
     "name": "stderr",
     "output_type": "stream",
     "text": [
      "Model Training Progress:   1%|          | 40/5000 [16:28<34:49:46, 25.28s/it, Train Loss=0.161, Validation Loss=0.162]"
     ]
    },
    {
     "name": "stdout",
     "output_type": "stream",
     "text": [
      "Epoch 41/5000 -> Train loss: 0.16139963726324538,         Validation loss: 0.16198015226982534\n"
     ]
    },
    {
     "name": "stderr",
     "output_type": "stream",
     "text": [
      "Model Training Progress:   1%|          | 41/5000 [16:54<35:01:27, 25.43s/it, Train Loss=0.16, Validation Loss=0.161] "
     ]
    },
    {
     "name": "stdout",
     "output_type": "stream",
     "text": [
      "Epoch 42/5000 -> Train loss: 0.1600827716885169,         Validation loss: 0.16087187845925136\n"
     ]
    },
    {
     "name": "stderr",
     "output_type": "stream",
     "text": [
      "Model Training Progress:   1%|          | 43/5000 [17:18<33:01:00, 23.98s/it, Step=4, Train Loss=0.161]               "
     ]
    },
    {
     "name": "stdout",
     "output_type": "stream",
     "text": [
      "Epoch 43/5000 -> Train loss: 0.1589394586583588,         Validation loss: 0.16118398951366544\n"
     ]
    },
    {
     "name": "stderr",
     "output_type": "stream",
     "text": [
      "Model Training Progress:   1%|          | 43/5000 [17:39<33:01:00, 23.98s/it, Train Loss=0.158, Validation Loss=0.158]"
     ]
    },
    {
     "name": "stdout",
     "output_type": "stream",
     "text": [
      "Epoch 44/5000 -> Train loss: 0.1580046918128897,         Validation loss: 0.1583631848317704\n"
     ]
    },
    {
     "name": "stderr",
     "output_type": "stream",
     "text": [
      "Model Training Progress:   1%|          | 44/5000 [18:03<33:06:01, 24.04s/it, Train Loss=0.157, Validation Loss=0.158]"
     ]
    },
    {
     "name": "stdout",
     "output_type": "stream",
     "text": [
      "Epoch 45/5000 -> Train loss: 0.15677910460376301,         Validation loss: 0.15827968803766582\n"
     ]
    },
    {
     "name": "stderr",
     "output_type": "stream",
     "text": [
      "Model Training Progress:   1%|          | 45/5000 [18:26<32:41:26, 23.75s/it, Train Loss=0.156, Validation Loss=0.156]"
     ]
    },
    {
     "name": "stdout",
     "output_type": "stream",
     "text": [
      "Epoch 46/5000 -> Train loss: 0.1558389094846746,         Validation loss: 0.15629922078390207\n"
     ]
    },
    {
     "name": "stderr",
     "output_type": "stream",
     "text": [
      "Model Training Progress:   1%|          | 46/5000 [18:49<32:22:34, 23.53s/it, Train Loss=0.155, Validation Loss=0.156]"
     ]
    },
    {
     "name": "stdout",
     "output_type": "stream",
     "text": [
      "Epoch 47/5000 -> Train loss: 0.15473309524951537,         Validation loss: 0.15584637935805534\n"
     ]
    },
    {
     "name": "stderr",
     "output_type": "stream",
     "text": [
      "Model Training Progress:   1%|          | 47/5000 [19:12<32:02:18, 23.29s/it, Train Loss=0.154, Validation Loss=0.156]"
     ]
    },
    {
     "name": "stdout",
     "output_type": "stream",
     "text": [
      "Epoch 48/5000 -> Train loss: 0.15362767342683728,         Validation loss: 0.1555038866054799\n"
     ]
    },
    {
     "name": "stderr",
     "output_type": "stream",
     "text": [
      "Model Training Progress:   1%|          | 48/5000 [19:36<32:06:55, 23.35s/it, Train Loss=0.153, Validation Loss=0.154]"
     ]
    },
    {
     "name": "stdout",
     "output_type": "stream",
     "text": [
      "Epoch 49/5000 -> Train loss: 0.1527088429847378,         Validation loss: 0.15381004604777054\n"
     ]
    },
    {
     "name": "stderr",
     "output_type": "stream",
     "text": [
      "Model Training Progress:   1%|          | 50/5000 [19:59<31:25:50, 22.86s/it, Step=4, Train Loss=0.151]               "
     ]
    },
    {
     "name": "stdout",
     "output_type": "stream",
     "text": [
      "Epoch 50/5000 -> Train loss: 0.15188107159605788,         Validation loss: 0.1546422163623252\n"
     ]
    },
    {
     "name": "stderr",
     "output_type": "stream",
     "text": [
      "Model Training Progress:   1%|          | 50/5000 [20:20<31:25:50, 22.86s/it, Train Loss=0.151, Validation Loss=0.152]"
     ]
    },
    {
     "name": "stdout",
     "output_type": "stream",
     "text": [
      "Epoch 51/5000 -> Train loss: 0.15093590543131155,         Validation loss: 0.15202322493839476\n"
     ]
    },
    {
     "name": "stderr",
     "output_type": "stream",
     "text": [
      "Model Training Progress:   1%|          | 52/5000 [20:45<31:06:29, 22.63s/it, Step=4, Train Loss=0.163]               "
     ]
    },
    {
     "name": "stdout",
     "output_type": "stream",
     "text": [
      "Epoch 52/5000 -> Train loss: 0.1500819515368324,         Validation loss: 0.15224053548382863\n"
     ]
    },
    {
     "name": "stderr",
     "output_type": "stream",
     "text": [
      "Model Training Progress:   1%|          | 52/5000 [21:05<31:06:29, 22.63s/it, Train Loss=0.149, Validation Loss=0.151]"
     ]
    },
    {
     "name": "stdout",
     "output_type": "stream",
     "text": [
      "Epoch 53/5000 -> Train loss: 0.14933900425404859,         Validation loss: 0.15063053792608636\n"
     ]
    },
    {
     "name": "stderr",
     "output_type": "stream",
     "text": [
      "Model Training Progress:   1%|          | 53/5000 [21:29<31:18:53, 22.79s/it, Train Loss=0.149, Validation Loss=0.151]"
     ]
    },
    {
     "name": "stdout",
     "output_type": "stream",
     "text": [
      "Epoch 54/5000 -> Train loss: 0.1486232248963388,         Validation loss: 0.15061599507794848\n"
     ]
    },
    {
     "name": "stderr",
     "output_type": "stream",
     "text": [
      "Model Training Progress:   1%|          | 54/5000 [21:52<31:12:01, 22.71s/it, Train Loss=0.147, Validation Loss=0.149]"
     ]
    },
    {
     "name": "stdout",
     "output_type": "stream",
     "text": [
      "Epoch 55/5000 -> Train loss: 0.14746949092650707,         Validation loss: 0.14947777230824744\n"
     ]
    },
    {
     "name": "stderr",
     "output_type": "stream",
     "text": [
      "Model Training Progress:   1%|          | 56/5000 [22:16<31:01:31, 22.59s/it, Step=4, Train Loss=0.149]               "
     ]
    },
    {
     "name": "stdout",
     "output_type": "stream",
     "text": [
      "Epoch 56/5000 -> Train loss: 0.14722484962706187,         Validation loss: 0.14959159436236535\n"
     ]
    },
    {
     "name": "stderr",
     "output_type": "stream",
     "text": [
      "Model Training Progress:   1%|          | 56/5000 [22:36<31:01:31, 22.59s/it, Train Loss=0.146, Validation Loss=0.148]"
     ]
    },
    {
     "name": "stdout",
     "output_type": "stream",
     "text": [
      "Epoch 57/5000 -> Train loss: 0.146361471776582,         Validation loss: 0.14840452682359942\n"
     ]
    },
    {
     "name": "stderr",
     "output_type": "stream",
     "text": [
      "Model Training Progress:   1%|          | 57/5000 [22:59<30:50:50, 22.47s/it, Train Loss=0.146, Validation Loss=0.148]"
     ]
    },
    {
     "name": "stdout",
     "output_type": "stream",
     "text": [
      "Epoch 58/5000 -> Train loss: 0.14569717839908747,         Validation loss: 0.14776947113818356\n"
     ]
    },
    {
     "name": "stderr",
     "output_type": "stream",
     "text": [
      "Model Training Progress:   1%|          | 58/5000 [23:22<31:14:32, 22.76s/it, Train Loss=0.145, Validation Loss=0.148]"
     ]
    },
    {
     "name": "stdout",
     "output_type": "stream",
     "text": [
      "Epoch 59/5000 -> Train loss: 0.1447358441773368,         Validation loss: 0.1476455695594528\n"
     ]
    },
    {
     "name": "stderr",
     "output_type": "stream",
     "text": [
      "Model Training Progress:   1%|          | 59/5000 [23:45<31:15:03, 22.77s/it, Train Loss=0.144, Validation Loss=0.147]"
     ]
    },
    {
     "name": "stdout",
     "output_type": "stream",
     "text": [
      "Epoch 60/5000 -> Train loss: 0.1443770274839884,         Validation loss: 0.1466803787409195\n"
     ]
    },
    {
     "name": "stderr",
     "output_type": "stream",
     "text": [
      "Model Training Progress:   1%|          | 60/5000 [24:09<31:44:25, 23.13s/it, Train Loss=0.144, Validation Loss=0.146]"
     ]
    },
    {
     "name": "stdout",
     "output_type": "stream",
     "text": [
      "Epoch 61/5000 -> Train loss: 0.14366686001328602,         Validation loss: 0.14646626408211888\n"
     ]
    },
    {
     "name": "stderr",
     "output_type": "stream",
     "text": [
      "Model Training Progress:   1%|          | 61/5000 [24:31<31:13:09, 22.76s/it, Train Loss=0.143, Validation Loss=0.146]"
     ]
    },
    {
     "name": "stdout",
     "output_type": "stream",
     "text": [
      "Epoch 62/5000 -> Train loss: 0.14314577607380832,         Validation loss: 0.14613638727792672\n"
     ]
    },
    {
     "name": "stderr",
     "output_type": "stream",
     "text": [
      "Model Training Progress:   1%|          | 62/5000 [24:55<31:41:27, 23.10s/it, Train Loss=0.142, Validation Loss=0.145]"
     ]
    },
    {
     "name": "stdout",
     "output_type": "stream",
     "text": [
      "Epoch 63/5000 -> Train loss: 0.14234921557863064,         Validation loss: 0.1449360861243414\n"
     ]
    },
    {
     "name": "stderr",
     "output_type": "stream",
     "text": [
      "Model Training Progress:   1%|▏         | 63/5000 [25:19<32:04:43, 23.39s/it, Train Loss=0.142, Validation Loss=0.144]"
     ]
    },
    {
     "name": "stdout",
     "output_type": "stream",
     "text": [
      "Epoch 64/5000 -> Train loss: 0.14190163515919557,         Validation loss: 0.14427200409450702\n"
     ]
    },
    {
     "name": "stderr",
     "output_type": "stream",
     "text": [
      "Model Training Progress:   1%|▏         | 65/5000 [25:43<31:18:27, 22.84s/it, Step=4, Train Loss=0.135]               "
     ]
    },
    {
     "name": "stdout",
     "output_type": "stream",
     "text": [
      "Epoch 65/5000 -> Train loss: 0.14124592537620317,         Validation loss: 0.14466282209780598\n"
     ]
    },
    {
     "name": "stderr",
     "output_type": "stream",
     "text": [
      "Model Training Progress:   1%|▏         | 65/5000 [26:05<31:18:27, 22.84s/it, Train Loss=0.141, Validation Loss=0.143]"
     ]
    },
    {
     "name": "stdout",
     "output_type": "stream",
     "text": [
      "Epoch 66/5000 -> Train loss: 0.14065413963209633,         Validation loss: 0.14313945665157268\n"
     ]
    },
    {
     "name": "stderr",
     "output_type": "stream",
     "text": [
      "Model Training Progress:   1%|▏         | 66/5000 [26:27<31:26:40, 22.94s/it, Train Loss=0.14, Validation Loss=0.142] "
     ]
    },
    {
     "name": "stdout",
     "output_type": "stream",
     "text": [
      "Epoch 67/5000 -> Train loss: 0.13998836891417124,         Validation loss: 0.14236666839569806\n"
     ]
    },
    {
     "name": "stderr",
     "output_type": "stream",
     "text": [
      "Model Training Progress:   1%|▏         | 68/5000 [26:50<30:45:24, 22.45s/it, Step=4, Train Loss=0.135]               "
     ]
    },
    {
     "name": "stdout",
     "output_type": "stream",
     "text": [
      "Epoch 68/5000 -> Train loss: 0.1394455978886847,         Validation loss: 0.14250657450008605\n"
     ]
    },
    {
     "name": "stderr",
     "output_type": "stream",
     "text": [
      "Model Training Progress:   1%|▏         | 68/5000 [27:12<30:45:24, 22.45s/it, Train Loss=0.139, Validation Loss=0.141]"
     ]
    },
    {
     "name": "stdout",
     "output_type": "stream",
     "text": [
      "Epoch 69/5000 -> Train loss: 0.13893010343876352,         Validation loss: 0.14147364819821504\n"
     ]
    },
    {
     "name": "stderr",
     "output_type": "stream",
     "text": [
      "Model Training Progress:   1%|▏         | 69/5000 [27:36<31:24:40, 22.93s/it, Train Loss=0.138, Validation Loss=0.141]"
     ]
    },
    {
     "name": "stdout",
     "output_type": "stream",
     "text": [
      "Epoch 70/5000 -> Train loss: 0.13844797227737363,         Validation loss: 0.1413800600517009\n"
     ]
    },
    {
     "name": "stderr",
     "output_type": "stream",
     "text": [
      "Model Training Progress:   1%|▏         | 70/5000 [28:00<31:28:07, 22.98s/it, Train Loss=0.138, Validation Loss=0.141]"
     ]
    },
    {
     "name": "stdout",
     "output_type": "stream",
     "text": [
      "Epoch 71/5000 -> Train loss: 0.13809988236317605,         Validation loss: 0.14081389691813717\n"
     ]
    },
    {
     "name": "stderr",
     "output_type": "stream",
     "text": [
      "Model Training Progress:   1%|▏         | 72/5000 [28:25<31:48:06, 23.23s/it, Step=4, Train Loss=0.149]               "
     ]
    },
    {
     "name": "stdout",
     "output_type": "stream",
     "text": [
      "Epoch 72/5000 -> Train loss: 0.1374445495429946,         Validation loss: 0.14131737362061228\n"
     ]
    },
    {
     "name": "stderr",
     "output_type": "stream",
     "text": [
      "Model Training Progress:   1%|▏         | 72/5000 [28:47<31:48:06, 23.23s/it, Train Loss=0.137, Validation Loss=0.141]"
     ]
    },
    {
     "name": "stdout",
     "output_type": "stream",
     "text": [
      "Epoch 73/5000 -> Train loss: 0.13731964142775974,         Validation loss: 0.14054424362922355\n"
     ]
    },
    {
     "name": "stderr",
     "output_type": "stream",
     "text": [
      "Model Training Progress:   1%|▏         | 73/5000 [29:13<32:46:24, 23.95s/it, Train Loss=0.137, Validation Loss=0.141]"
     ]
    },
    {
     "name": "stdout",
     "output_type": "stream",
     "text": [
      "Epoch 74/5000 -> Train loss: 0.1369722970287127,         Validation loss: 0.1405091066645192\n"
     ]
    },
    {
     "name": "stderr",
     "output_type": "stream",
     "text": [
      "Model Training Progress:   1%|▏         | 74/5000 [29:39<33:35:33, 24.55s/it, Train Loss=0.136, Validation Loss=0.14] "
     ]
    },
    {
     "name": "stdout",
     "output_type": "stream",
     "text": [
      "Epoch 75/5000 -> Train loss: 0.13593308218509143,         Validation loss: 0.14001026609247283\n"
     ]
    },
    {
     "name": "stderr",
     "output_type": "stream",
     "text": [
      "Model Training Progress:   2%|▏         | 75/5000 [30:04<33:43:24, 24.65s/it, Train Loss=0.136, Validation Loss=0.139]"
     ]
    },
    {
     "name": "stdout",
     "output_type": "stream",
     "text": [
      "Epoch 76/5000 -> Train loss: 0.1355127993445455,         Validation loss: 0.1388815360476396\n"
     ]
    },
    {
     "name": "stderr",
     "output_type": "stream",
     "text": [
      "Model Training Progress:   2%|▏         | 76/5000 [30:27<33:25:59, 24.44s/it, Train Loss=0.135, Validation Loss=0.138]"
     ]
    },
    {
     "name": "stdout",
     "output_type": "stream",
     "text": [
      "Epoch 77/5000 -> Train loss: 0.13530152336768578,         Validation loss: 0.13765660007484257\n"
     ]
    },
    {
     "name": "stderr",
     "output_type": "stream",
     "text": [
      "Model Training Progress:   2%|▏         | 78/5000 [30:52<32:24:07, 23.70s/it, Step=4, Train Loss=0.139]               "
     ]
    },
    {
     "name": "stdout",
     "output_type": "stream",
     "text": [
      "Epoch 78/5000 -> Train loss: 0.1348632030600419,         Validation loss: 0.13796620120826578\n"
     ]
    },
    {
     "name": "stderr",
     "output_type": "stream",
     "text": [
      "Model Training Progress:   2%|▏         | 78/5000 [31:15<32:24:07, 23.70s/it, Train Loss=0.134, Validation Loss=0.137]"
     ]
    },
    {
     "name": "stdout",
     "output_type": "stream",
     "text": [
      "Epoch 79/5000 -> Train loss: 0.13442452974114683,         Validation loss: 0.13749629114089268\n"
     ]
    },
    {
     "name": "stderr",
     "output_type": "stream",
     "text": [
      "Model Training Progress:   2%|▏         | 79/5000 [31:40<33:09:29, 24.26s/it, Train Loss=0.134, Validation Loss=0.137]"
     ]
    },
    {
     "name": "stdout",
     "output_type": "stream",
     "text": [
      "Epoch 80/5000 -> Train loss: 0.13395283343784647,         Validation loss: 0.13680376362587723\n"
     ]
    },
    {
     "name": "stderr",
     "output_type": "stream",
     "text": [
      "Model Training Progress:   2%|▏         | 81/5000 [32:05<32:47:01, 23.99s/it, Step=4, Train Loss=0.121]               "
     ]
    },
    {
     "name": "stdout",
     "output_type": "stream",
     "text": [
      "Epoch 81/5000 -> Train loss: 0.133438980241129,         Validation loss: 0.13707200757094792\n"
     ]
    },
    {
     "name": "stderr",
     "output_type": "stream",
     "text": [
      "Model Training Progress:   2%|▏         | 82/5000 [32:28<32:15:35, 23.61s/it, Step=3, Train Loss=0.126]               "
     ]
    },
    {
     "name": "stdout",
     "output_type": "stream",
     "text": [
      "Epoch 82/5000 -> Train loss: 0.13320605961914442,         Validation loss: 0.13743114585855176\n"
     ]
    },
    {
     "name": "stderr",
     "output_type": "stream",
     "text": [
      "Model Training Progress:   2%|▏         | 82/5000 [32:51<32:15:35, 23.61s/it, Train Loss=0.133, Validation Loss=0.136]"
     ]
    },
    {
     "name": "stdout",
     "output_type": "stream",
     "text": [
      "Epoch 83/5000 -> Train loss: 0.1329073011646607,         Validation loss: 0.13644810493237206\n"
     ]
    },
    {
     "name": "stderr",
     "output_type": "stream",
     "text": [
      "Model Training Progress:   2%|▏         | 83/5000 [33:16<32:56:50, 24.12s/it, Train Loss=0.132, Validation Loss=0.136]"
     ]
    },
    {
     "name": "stdout",
     "output_type": "stream",
     "text": [
      "Epoch 84/5000 -> Train loss: 0.132297834712852,         Validation loss: 0.13572218191277768\n"
     ]
    },
    {
     "name": "stderr",
     "output_type": "stream",
     "text": [
      "Model Training Progress:   2%|▏         | 85/5000 [33:41<32:29:48, 23.80s/it, Step=4, Train Loss=0.135]               "
     ]
    },
    {
     "name": "stdout",
     "output_type": "stream",
     "text": [
      "Epoch 85/5000 -> Train loss: 0.13234747054935234,         Validation loss: 0.136636820961056\n"
     ]
    },
    {
     "name": "stderr",
     "output_type": "stream",
     "text": [
      "Model Training Progress:   2%|▏         | 85/5000 [34:03<32:29:48, 23.80s/it, Train Loss=0.132, Validation Loss=0.135]"
     ]
    },
    {
     "name": "stdout",
     "output_type": "stream",
     "text": [
      "Epoch 86/5000 -> Train loss: 0.13184968322698323,         Validation loss: 0.13536360513951098\n"
     ]
    },
    {
     "name": "stderr",
     "output_type": "stream",
     "text": [
      "Model Training Progress:   2%|▏         | 86/5000 [34:29<33:16:59, 24.38s/it, Train Loss=0.131, Validation Loss=0.135]"
     ]
    },
    {
     "name": "stdout",
     "output_type": "stream",
     "text": [
      "Epoch 87/5000 -> Train loss: 0.1314668303664111,         Validation loss: 0.1349291271596615\n"
     ]
    },
    {
     "name": "stderr",
     "output_type": "stream",
     "text": [
      "Model Training Progress:   2%|▏         | 87/5000 [34:54<33:48:20, 24.77s/it, Train Loss=0.132, Validation Loss=0.135]"
     ]
    },
    {
     "name": "stdout",
     "output_type": "stream",
     "text": [
      "Epoch 88/5000 -> Train loss: 0.13167343302372775,         Validation loss: 0.1345812193849789\n"
     ]
    },
    {
     "name": "stderr",
     "output_type": "stream",
     "text": [
      "Model Training Progress:   2%|▏         | 88/5000 [35:19<33:46:31, 24.75s/it, Train Loss=0.131, Validation Loss=0.135]"
     ]
    },
    {
     "name": "stdout",
     "output_type": "stream",
     "text": [
      "Epoch 89/5000 -> Train loss: 0.13089481274957307,         Validation loss: 0.1345756176593048\n"
     ]
    },
    {
     "name": "stderr",
     "output_type": "stream",
     "text": [
      "Model Training Progress:   2%|▏         | 90/5000 [35:44<32:48:30, 24.06s/it, Step=4, Train Loss=0.128]               "
     ]
    },
    {
     "name": "stdout",
     "output_type": "stream",
     "text": [
      "Epoch 90/5000 -> Train loss: 0.13036559958673694,         Validation loss: 0.13473975261274193\n"
     ]
    },
    {
     "name": "stderr",
     "output_type": "stream",
     "text": [
      "Model Training Progress:   2%|▏         | 90/5000 [36:06<32:48:30, 24.06s/it, Train Loss=0.13, Validation Loss=0.134]"
     ]
    },
    {
     "name": "stdout",
     "output_type": "stream",
     "text": [
      "Epoch 91/5000 -> Train loss: 0.1303651507921014,         Validation loss: 0.1338643309992871\n"
     ]
    },
    {
     "name": "stderr",
     "output_type": "stream",
     "text": [
      "Model Training Progress:   2%|▏         | 92/5000 [36:29<31:43:16, 23.27s/it, Step=4, Train Loss=0.139]              "
     ]
    },
    {
     "name": "stdout",
     "output_type": "stream",
     "text": [
      "Epoch 92/5000 -> Train loss: 0.1300684488349897,         Validation loss: 0.1342251628903406\n"
     ]
    },
    {
     "name": "stderr",
     "output_type": "stream",
     "text": [
      "Model Training Progress:   2%|▏         | 93/5000 [36:51<31:10:17, 22.87s/it, Step=4, Train Loss=0.126]              "
     ]
    },
    {
     "name": "stdout",
     "output_type": "stream",
     "text": [
      "Epoch 93/5000 -> Train loss: 0.1297358375934004,         Validation loss: 0.1343443286538656\n"
     ]
    },
    {
     "name": "stderr",
     "output_type": "stream",
     "text": [
      "Model Training Progress:   2%|▏         | 93/5000 [37:12<31:10:17, 22.87s/it, Train Loss=0.13, Validation Loss=0.133]"
     ]
    },
    {
     "name": "stdout",
     "output_type": "stream",
     "text": [
      "Epoch 94/5000 -> Train loss: 0.12983843217963822,         Validation loss: 0.13346617690819715\n"
     ]
    },
    {
     "name": "stderr",
     "output_type": "stream",
     "text": [
      "Model Training Progress:   2%|▏         | 94/5000 [37:37<31:10:47, 22.88s/it, Train Loss=0.129, Validation Loss=0.133]"
     ]
    },
    {
     "name": "stdout",
     "output_type": "stream",
     "text": [
      "Epoch 95/5000 -> Train loss: 0.12924687415818495,         Validation loss: 0.1326028981246054\n"
     ]
    },
    {
     "name": "stderr",
     "output_type": "stream",
     "text": [
      "Model Training Progress:   2%|▏         | 96/5000 [38:00<31:07:00, 22.84s/it, Step=4, Train Loss=0.124]               "
     ]
    },
    {
     "name": "stdout",
     "output_type": "stream",
     "text": [
      "Epoch 96/5000 -> Train loss: 0.12925366332834484,         Validation loss: 0.13263767611767566\n"
     ]
    },
    {
     "name": "stderr",
     "output_type": "stream",
     "text": [
      "Model Training Progress:   2%|▏         | 96/5000 [38:22<31:07:00, 22.84s/it, Train Loss=0.129, Validation Loss=0.132]"
     ]
    },
    {
     "name": "stdout",
     "output_type": "stream",
     "text": [
      "Epoch 97/5000 -> Train loss: 0.12863952787650143,         Validation loss: 0.13224520626743988\n"
     ]
    },
    {
     "name": "stderr",
     "output_type": "stream",
     "text": [
      "Model Training Progress:   2%|▏         | 97/5000 [38:46<31:16:00, 22.96s/it, Train Loss=0.128, Validation Loss=0.132]"
     ]
    },
    {
     "name": "stdout",
     "output_type": "stream",
     "text": [
      "Epoch 98/5000 -> Train loss: 0.12834258032448453,         Validation loss: 0.13208370937832764\n"
     ]
    },
    {
     "name": "stderr",
     "output_type": "stream",
     "text": [
      "Model Training Progress:   2%|▏         | 99/5000 [39:10<31:26:14, 23.09s/it, Step=4, Train Loss=0.118]               "
     ]
    },
    {
     "name": "stdout",
     "output_type": "stream",
     "text": [
      "Epoch 99/5000 -> Train loss: 0.12835713905607996,         Validation loss: 0.13213185580846454\n"
     ]
    },
    {
     "name": "stderr",
     "output_type": "stream",
     "text": [
      "Model Training Progress:   2%|▏         | 99/5000 [39:32<31:26:14, 23.09s/it, Train Loss=0.128, Validation Loss=0.132]"
     ]
    },
    {
     "name": "stdout",
     "output_type": "stream",
     "text": [
      "Epoch 100/5000 -> Train loss: 0.1280352245170646,         Validation loss: 0.13181542899193507\n"
     ]
    },
    {
     "name": "stderr",
     "output_type": "stream",
     "text": [
      "Model Training Progress:   2%|▏         | 100/5000 [39:55<31:26:04, 23.09s/it, Train Loss=0.128, Validation Loss=0.132]"
     ]
    },
    {
     "name": "stdout",
     "output_type": "stream",
     "text": [
      "Epoch 101/5000 -> Train loss: 0.12759868197280205,         Validation loss: 0.13158025985051477\n"
     ]
    },
    {
     "name": "stderr",
     "output_type": "stream",
     "text": [
      "Model Training Progress:   2%|▏         | 102/5000 [40:19<31:13:05, 22.95s/it, Step=4, Train Loss=0.13]                "
     ]
    },
    {
     "name": "stdout",
     "output_type": "stream",
     "text": [
      "Epoch 102/5000 -> Train loss: 0.12777963232683257,         Validation loss: 0.13161532379952925\n"
     ]
    },
    {
     "name": "stderr",
     "output_type": "stream",
     "text": [
      "Model Training Progress:   2%|▏         | 102/5000 [40:41<31:13:05, 22.95s/it, Train Loss=0.127, Validation Loss=0.131]"
     ]
    },
    {
     "name": "stdout",
     "output_type": "stream",
     "text": [
      "Epoch 103/5000 -> Train loss: 0.12729514262244745,         Validation loss: 0.13142294604996485\n"
     ]
    },
    {
     "name": "stderr",
     "output_type": "stream",
     "text": [
      "Model Training Progress:   2%|▏         | 103/5000 [41:06<32:14:14, 23.70s/it, Train Loss=0.127, Validation Loss=0.131]"
     ]
    },
    {
     "name": "stdout",
     "output_type": "stream",
     "text": [
      "Epoch 104/5000 -> Train loss: 0.12716380573032093,         Validation loss: 0.13128396069764026\n"
     ]
    },
    {
     "name": "stderr",
     "output_type": "stream",
     "text": [
      "Model Training Progress:   2%|▏         | 104/5000 [41:35<33:27:17, 24.60s/it, Train Loss=0.127, Validation Loss=0.13] "
     ]
    },
    {
     "name": "stdout",
     "output_type": "stream",
     "text": [
      "Epoch 105/5000 -> Train loss: 0.12692988433080948,         Validation loss: 0.1303620728264962\n"
     ]
    },
    {
     "name": "stderr",
     "output_type": "stream",
     "text": [
      "Model Training Progress:   2%|▏         | 106/5000 [42:04<34:05:41, 25.08s/it, Step=4, Train Loss=0.122]               "
     ]
    },
    {
     "name": "stdout",
     "output_type": "stream",
     "text": [
      "Epoch 106/5000 -> Train loss: 0.12668415421814275,         Validation loss: 0.13104726398762848\n"
     ]
    },
    {
     "name": "stderr",
     "output_type": "stream",
     "text": [
      "Model Training Progress:   2%|▏         | 107/5000 [42:26<32:48:32, 24.14s/it, Step=4, Train Loss=0.12]                "
     ]
    },
    {
     "name": "stdout",
     "output_type": "stream",
     "text": [
      "Epoch 107/5000 -> Train loss: 0.12662485792684408,         Validation loss: 0.1306365461022194\n"
     ]
    },
    {
     "name": "stderr",
     "output_type": "stream",
     "text": [
      "Model Training Progress:   2%|▏         | 107/5000 [42:47<32:48:32, 24.14s/it, Train Loss=0.126, Validation Loss=0.13] "
     ]
    },
    {
     "name": "stdout",
     "output_type": "stream",
     "text": [
      "Epoch 108/5000 -> Train loss: 0.12622413825403694,         Validation loss: 0.12975753245742194\n"
     ]
    },
    {
     "name": "stderr",
     "output_type": "stream",
     "text": [
      "Model Training Progress:   2%|▏         | 109/5000 [43:15<32:40:51, 24.05s/it, Step=4, Train Loss=0.118]               "
     ]
    },
    {
     "name": "stdout",
     "output_type": "stream",
     "text": [
      "Epoch 109/5000 -> Train loss: 0.12607513429836992,         Validation loss: 0.13005388069099613\n"
     ]
    },
    {
     "name": "stderr",
     "output_type": "stream",
     "text": [
      "Model Training Progress:   2%|▏         | 110/5000 [43:36<31:33:35, 23.23s/it, Step=4, Train Loss=0.128]               "
     ]
    },
    {
     "name": "stdout",
     "output_type": "stream",
     "text": [
      "Epoch 110/5000 -> Train loss: 0.12594293462443937,         Validation loss: 0.1303772003855556\n"
     ]
    },
    {
     "name": "stderr",
     "output_type": "stream",
     "text": [
      "Model Training Progress:   2%|▏         | 111/5000 [43:58<30:46:19, 22.66s/it, Step=4, Train Loss=0.126]               "
     ]
    },
    {
     "name": "stdout",
     "output_type": "stream",
     "text": [
      "Epoch 111/5000 -> Train loss: 0.1256694988878958,         Validation loss: 0.13019778369925916\n"
     ]
    },
    {
     "name": "stderr",
     "output_type": "stream",
     "text": [
      "Model Training Progress:   2%|▏         | 112/5000 [44:19<30:11:22, 22.23s/it, Step=4, Train Loss=0.133]               "
     ]
    },
    {
     "name": "stdout",
     "output_type": "stream",
     "text": [
      "Epoch 112/5000 -> Train loss: 0.12580146805091869,         Validation loss: 0.1298914215793567\n"
     ]
    },
    {
     "name": "stderr",
     "output_type": "stream",
     "text": [
      "Model Training Progress:   2%|▏         | 112/5000 [44:40<30:11:22, 22.23s/it, Train Loss=0.126, Validation Loss=0.129]"
     ]
    },
    {
     "name": "stdout",
     "output_type": "stream",
     "text": [
      "Epoch 113/5000 -> Train loss: 0.12551072411284855,         Validation loss: 0.12927512446684497\n"
     ]
    },
    {
     "name": "stderr",
     "output_type": "stream",
     "text": [
      "Model Training Progress:   2%|▏         | 114/5000 [45:07<31:15:30, 23.03s/it, Step=4, Train Loss=0.136]               "
     ]
    },
    {
     "name": "stdout",
     "output_type": "stream",
     "text": [
      "Epoch 114/5000 -> Train loss: 0.12509859099618495,         Validation loss: 0.12950694330169688\n"
     ]
    },
    {
     "name": "stderr",
     "output_type": "stream",
     "text": [
      "Model Training Progress:   2%|▏         | 115/5000 [45:30<30:57:36, 22.82s/it, Step=3, Train Loss=0.131]               "
     ]
    },
    {
     "name": "stdout",
     "output_type": "stream",
     "text": [
      "Epoch 115/5000 -> Train loss: 0.12524831598978833,         Validation loss: 0.1297142728032278\n"
     ]
    },
    {
     "name": "stderr",
     "output_type": "stream",
     "text": [
      "Model Training Progress:   2%|▏         | 116/5000 [45:52<30:41:17, 22.62s/it, Step=4, Train Loss=0.132]               "
     ]
    },
    {
     "name": "stdout",
     "output_type": "stream",
     "text": [
      "Epoch 116/5000 -> Train loss: 0.1252227558588689,         Validation loss: 0.12943793583794364\n"
     ]
    },
    {
     "name": "stderr",
     "output_type": "stream",
     "text": [
      "Model Training Progress:   2%|▏         | 117/5000 [46:14<30:24:02, 22.41s/it, Step=4, Train Loss=0.134]               "
     ]
    },
    {
     "name": "stdout",
     "output_type": "stream",
     "text": [
      "Epoch 117/5000 -> Train loss: 0.12475473678276583,         Validation loss: 0.12961898040957748\n"
     ]
    },
    {
     "name": "stderr",
     "output_type": "stream",
     "text": [
      "Model Training Progress:   2%|▏         | 117/5000 [46:36<30:24:02, 22.41s/it, Train Loss=0.125, Validation Loss=0.129]"
     ]
    },
    {
     "name": "stdout",
     "output_type": "stream",
     "text": [
      "Epoch 118/5000 -> Train loss: 0.12463251156218212,         Validation loss: 0.12858602707274258\n"
     ]
    },
    {
     "name": "stderr",
     "output_type": "stream",
     "text": [
      "Model Training Progress:   2%|▏         | 118/5000 [47:03<32:00:01, 23.60s/it, Train Loss=0.125, Validation Loss=0.129]"
     ]
    },
    {
     "name": "stdout",
     "output_type": "stream",
     "text": [
      "Epoch 119/5000 -> Train loss: 0.12461072853280723,         Validation loss: 0.12852295957771795\n"
     ]
    },
    {
     "name": "stderr",
     "output_type": "stream",
     "text": [
      "Model Training Progress:   2%|▏         | 120/5000 [47:29<32:30:38, 23.98s/it, Step=3, Train Loss=0.124]               "
     ]
    },
    {
     "name": "stdout",
     "output_type": "stream",
     "text": [
      "Epoch 120/5000 -> Train loss: 0.12429562014487623,         Validation loss: 0.12853000903102968\n"
     ]
    },
    {
     "name": "stderr",
     "output_type": "stream",
     "text": [
      "Model Training Progress:   2%|▏         | 120/5000 [47:51<32:30:38, 23.98s/it, Train Loss=0.124, Validation Loss=0.128]"
     ]
    },
    {
     "name": "stdout",
     "output_type": "stream",
     "text": [
      "Epoch 121/5000 -> Train loss: 0.12407981227237753,         Validation loss: 0.12806698182996895\n"
     ]
    },
    {
     "name": "stderr",
     "output_type": "stream",
     "text": [
      "Model Training Progress:   2%|▏         | 122/5000 [48:20<33:04:16, 24.41s/it, Step=4, Train Loss=0.132]               "
     ]
    },
    {
     "name": "stdout",
     "output_type": "stream",
     "text": [
      "Epoch 122/5000 -> Train loss: 0.12401099112227651,         Validation loss: 0.12875896459445357\n"
     ]
    },
    {
     "name": "stderr",
     "output_type": "stream",
     "text": [
      "Model Training Progress:   2%|▏         | 122/5000 [48:42<33:04:16, 24.41s/it, Train Loss=0.124, Validation Loss=0.128]"
     ]
    },
    {
     "name": "stdout",
     "output_type": "stream",
     "text": [
      "Epoch 123/5000 -> Train loss: 0.1240565450690641,         Validation loss: 0.12799785449169576\n"
     ]
    },
    {
     "name": "stderr",
     "output_type": "stream",
     "text": [
      "Model Training Progress:   2%|▏         | 123/5000 [49:09<34:14:09, 25.27s/it, Train Loss=0.124, Validation Loss=0.128]"
     ]
    },
    {
     "name": "stdout",
     "output_type": "stream",
     "text": [
      "Epoch 124/5000 -> Train loss: 0.12351718819214523,         Validation loss: 0.127574219102306\n"
     ]
    },
    {
     "name": "stderr",
     "output_type": "stream",
     "text": [
      "Model Training Progress:   2%|▎         | 125/5000 [49:36<33:07:56, 24.47s/it, Step=4, Train Loss=0.118]               "
     ]
    },
    {
     "name": "stdout",
     "output_type": "stream",
     "text": [
      "Epoch 125/5000 -> Train loss: 0.12359909786402813,         Validation loss: 0.12826049338494028\n"
     ]
    },
    {
     "name": "stderr",
     "output_type": "stream",
     "text": [
      "Model Training Progress:   2%|▎         | 125/5000 [49:58<33:07:56, 24.47s/it, Train Loss=0.123, Validation Loss=0.128]"
     ]
    },
    {
     "name": "stdout",
     "output_type": "stream",
     "text": [
      "Epoch 126/5000 -> Train loss: 0.1234996651579266,         Validation loss: 0.12754564828106335\n"
     ]
    },
    {
     "name": "stderr",
     "output_type": "stream",
     "text": [
      "Model Training Progress:   3%|▎         | 127/5000 [50:25<32:45:01, 24.19s/it, Step=4, Train Loss=0.117]               "
     ]
    },
    {
     "name": "stdout",
     "output_type": "stream",
     "text": [
      "Epoch 127/5000 -> Train loss: 0.12347070289992847,         Validation loss: 0.12783289924263955\n"
     ]
    },
    {
     "name": "stderr",
     "output_type": "stream",
     "text": [
      "Model Training Progress:   3%|▎         | 128/5000 [50:46<31:41:01, 23.41s/it, Step=4, Train Loss=0.112]               "
     ]
    },
    {
     "name": "stdout",
     "output_type": "stream",
     "text": [
      "Epoch 128/5000 -> Train loss: 0.12330853993907297,         Validation loss: 0.12798857158049942\n"
     ]
    },
    {
     "name": "stderr",
     "output_type": "stream",
     "text": [
      "Model Training Progress:   3%|▎         | 128/5000 [51:08<31:41:01, 23.41s/it, Train Loss=0.123, Validation Loss=0.128]"
     ]
    },
    {
     "name": "stdout",
     "output_type": "stream",
     "text": [
      "Epoch 129/5000 -> Train loss: 0.1230269261618699,         Validation loss: 0.12751497732741493\n"
     ]
    },
    {
     "name": "stderr",
     "output_type": "stream",
     "text": [
      "Model Training Progress:   3%|▎         | 129/5000 [51:35<32:36:35, 24.10s/it, Train Loss=0.123, Validation Loss=0.127]"
     ]
    },
    {
     "name": "stdout",
     "output_type": "stream",
     "text": [
      "Epoch 130/5000 -> Train loss: 0.12292309973868856,         Validation loss: 0.1271267272465463\n"
     ]
    },
    {
     "name": "stderr",
     "output_type": "stream",
     "text": [
      "Model Training Progress:   3%|▎         | 130/5000 [52:00<33:16:24, 24.60s/it, Train Loss=0.123, Validation Loss=0.127]"
     ]
    },
    {
     "name": "stdout",
     "output_type": "stream",
     "text": [
      "Epoch 131/5000 -> Train loss: 0.1228672617966412,         Validation loss: 0.12709635808132588\n"
     ]
    },
    {
     "name": "stderr",
     "output_type": "stream",
     "text": [
      "Model Training Progress:   3%|▎         | 131/5000 [52:24<33:30:07, 24.77s/it, Train Loss=0.123, Validation Loss=0.127]"
     ]
    },
    {
     "name": "stdout",
     "output_type": "stream",
     "text": [
      "Epoch 132/5000 -> Train loss: 0.12266481713466118,         Validation loss: 0.12662467977165112\n"
     ]
    },
    {
     "name": "stderr",
     "output_type": "stream",
     "text": [
      "Model Training Progress:   3%|▎         | 133/5000 [52:50<32:19:37, 23.91s/it, Step=4, Train Loss=0.117]               "
     ]
    },
    {
     "name": "stdout",
     "output_type": "stream",
     "text": [
      "Epoch 133/5000 -> Train loss: 0.12259635715488276,         Validation loss: 0.12740318871635412\n"
     ]
    },
    {
     "name": "stderr",
     "output_type": "stream",
     "text": [
      "Model Training Progress:   3%|▎         | 133/5000 [53:11<32:19:37, 23.91s/it, Train Loss=0.122, Validation Loss=0.127]"
     ]
    },
    {
     "name": "stdout",
     "output_type": "stream",
     "text": [
      "Epoch 134/5000 -> Train loss: 0.12230116620294156,         Validation loss: 0.1265387934100415\n"
     ]
    },
    {
     "name": "stderr",
     "output_type": "stream",
     "text": [
      "Model Training Progress:   3%|▎         | 135/5000 [53:35<31:24:52, 23.25s/it, Step=4, Train Loss=0.126]               "
     ]
    },
    {
     "name": "stdout",
     "output_type": "stream",
     "text": [
      "Epoch 135/5000 -> Train loss: 0.12246801395632007,         Validation loss: 0.12696212568719473\n"
     ]
    },
    {
     "name": "stderr",
     "output_type": "stream",
     "text": [
      "Model Training Progress:   3%|▎         | 136/5000 [53:57<30:40:49, 22.71s/it, Step=4, Train Loss=0.12]                "
     ]
    },
    {
     "name": "stdout",
     "output_type": "stream",
     "text": [
      "Epoch 136/5000 -> Train loss: 0.1221624785131472,         Validation loss: 0.1268775476342333\n"
     ]
    },
    {
     "name": "stderr",
     "output_type": "stream",
     "text": [
      "Model Training Progress:   3%|▎         | 137/5000 [54:18<30:14:00, 22.38s/it, Step=4, Train Loss=0.125]               "
     ]
    },
    {
     "name": "stdout",
     "output_type": "stream",
     "text": [
      "Epoch 137/5000 -> Train loss: 0.12194742783446985,         Validation loss: 0.12696008635684847\n"
     ]
    },
    {
     "name": "stderr",
     "output_type": "stream",
     "text": [
      "Model Training Progress:   3%|▎         | 137/5000 [54:40<30:14:00, 22.38s/it, Train Loss=0.122, Validation Loss=0.126]"
     ]
    },
    {
     "name": "stdout",
     "output_type": "stream",
     "text": [
      "Epoch 138/5000 -> Train loss: 0.1221820404924498,         Validation loss: 0.12604938170074353\n"
     ]
    },
    {
     "name": "stderr",
     "output_type": "stream",
     "text": [
      "Model Training Progress:   3%|▎         | 139/5000 [55:04<30:26:57, 22.55s/it, Step=4, Train Loss=0.119]               "
     ]
    },
    {
     "name": "stdout",
     "output_type": "stream",
     "text": [
      "Epoch 139/5000 -> Train loss: 0.12222650347768894,         Validation loss: 0.1265142296174807\n"
     ]
    },
    {
     "name": "stderr",
     "output_type": "stream",
     "text": [
      "Model Training Progress:   3%|▎         | 139/5000 [55:26<30:26:57, 22.55s/it, Train Loss=0.122, Validation Loss=0.126]"
     ]
    },
    {
     "name": "stdout",
     "output_type": "stream",
     "text": [
      "Epoch 140/5000 -> Train loss: 0.1216404054519589,         Validation loss: 0.12604403884948365\n"
     ]
    },
    {
     "name": "stderr",
     "output_type": "stream",
     "text": [
      "Model Training Progress:   3%|▎         | 141/5000 [55:50<30:42:54, 22.76s/it, Step=4, Train Loss=0.121]               "
     ]
    },
    {
     "name": "stdout",
     "output_type": "stream",
     "text": [
      "Epoch 141/5000 -> Train loss: 0.12171324141369276,         Validation loss: 0.12634701879162874\n"
     ]
    },
    {
     "name": "stderr",
     "output_type": "stream",
     "text": [
      "Model Training Progress:   3%|▎         | 142/5000 [56:12<30:19:10, 22.47s/it, Step=4, Train Loss=0.123]               "
     ]
    },
    {
     "name": "stdout",
     "output_type": "stream",
     "text": [
      "Epoch 142/5000 -> Train loss: 0.12146194366041137,         Validation loss: 0.12607376314034419\n"
     ]
    },
    {
     "name": "stderr",
     "output_type": "stream",
     "text": [
      "Model Training Progress:   3%|▎         | 142/5000 [56:34<30:19:10, 22.47s/it, Train Loss=0.122, Validation Loss=0.126]"
     ]
    },
    {
     "name": "stdout",
     "output_type": "stream",
     "text": [
      "Epoch 143/5000 -> Train loss: 0.12175545921446355,         Validation loss: 0.12590005679854324\n"
     ]
    },
    {
     "name": "stderr",
     "output_type": "stream",
     "text": [
      "Model Training Progress:   3%|▎         | 144/5000 [56:59<30:42:59, 22.77s/it, Step=4, Train Loss=0.109]               "
     ]
    },
    {
     "name": "stdout",
     "output_type": "stream",
     "text": [
      "Epoch 144/5000 -> Train loss: 0.12129990475400826,         Validation loss: 0.12599669699557126\n"
     ]
    },
    {
     "name": "stderr",
     "output_type": "stream",
     "text": [
      "Model Training Progress:   3%|▎         | 144/5000 [57:20<30:42:59, 22.77s/it, Train Loss=0.121, Validation Loss=0.126]"
     ]
    },
    {
     "name": "stdout",
     "output_type": "stream",
     "text": [
      "Epoch 145/5000 -> Train loss: 0.12115710635492406,         Validation loss: 0.1255585152589317\n"
     ]
    },
    {
     "name": "stderr",
     "output_type": "stream",
     "text": [
      "Model Training Progress:   3%|▎         | 146/5000 [57:44<30:30:28, 22.63s/it, Step=4, Train Loss=0.119]               "
     ]
    },
    {
     "name": "stdout",
     "output_type": "stream",
     "text": [
      "Epoch 146/5000 -> Train loss: 0.12126642735275023,         Validation loss: 0.125790129768263\n"
     ]
    },
    {
     "name": "stderr",
     "output_type": "stream",
     "text": [
      "Model Training Progress:   3%|▎         | 147/5000 [58:06<30:08:24, 22.36s/it, Step=3, Train Loss=0.127]               "
     ]
    },
    {
     "name": "stdout",
     "output_type": "stream",
     "text": [
      "Epoch 147/5000 -> Train loss: 0.121202410341589,         Validation loss: 0.1259554919454136\n"
     ]
    },
    {
     "name": "stderr",
     "output_type": "stream",
     "text": [
      "Model Training Progress:   3%|▎         | 147/5000 [58:27<30:08:24, 22.36s/it, Train Loss=0.121, Validation Loss=0.126]"
     ]
    },
    {
     "name": "stdout",
     "output_type": "stream",
     "text": [
      "Epoch 148/5000 -> Train loss: 0.12127473367595233,         Validation loss: 0.12554418239742518\n"
     ]
    },
    {
     "name": "stderr",
     "output_type": "stream",
     "text": [
      "Model Training Progress:   3%|▎         | 149/5000 [58:51<30:09:09, 22.38s/it, Step=4, Train Loss=0.116]               "
     ]
    },
    {
     "name": "stdout",
     "output_type": "stream",
     "text": [
      "Epoch 149/5000 -> Train loss: 0.12112311312665969,         Validation loss: 0.12632333139356758\n"
     ]
    },
    {
     "name": "stderr",
     "output_type": "stream",
     "text": [
      "Model Training Progress:   3%|▎         | 149/5000 [59:13<30:09:09, 22.38s/it, Train Loss=0.121, Validation Loss=0.125]"
     ]
    },
    {
     "name": "stdout",
     "output_type": "stream",
     "text": [
      "Epoch 150/5000 -> Train loss: 0.12131029365161446,         Validation loss: 0.1252078049417053\n"
     ]
    },
    {
     "name": "stderr",
     "output_type": "stream",
     "text": [
      "Model Training Progress:   3%|▎         | 151/5000 [59:38<30:45:45, 22.84s/it, Step=4, Train Loss=0.113]               "
     ]
    },
    {
     "name": "stdout",
     "output_type": "stream",
     "text": [
      "Epoch 151/5000 -> Train loss: 0.12074985215726074,         Validation loss: 0.12580011509624975\n"
     ]
    },
    {
     "name": "stderr",
     "output_type": "stream",
     "text": [
      "Model Training Progress:   3%|▎         | 152/5000 [1:00:00<30:28:44, 22.63s/it, Step=4, Train Loss=0.11]                "
     ]
    },
    {
     "name": "stdout",
     "output_type": "stream",
     "text": [
      "Epoch 152/5000 -> Train loss: 0.12075471119280973,         Validation loss: 0.12538828466619764\n"
     ]
    },
    {
     "name": "stderr",
     "output_type": "stream",
     "text": [
      "Model Training Progress:   3%|▎         | 153/5000 [1:00:22<30:18:49, 22.51s/it, Step=4, Train Loss=0.111]              "
     ]
    },
    {
     "name": "stdout",
     "output_type": "stream",
     "text": [
      "Epoch 153/5000 -> Train loss: 0.12041400482683826,         Validation loss: 0.1253902632210936\n"
     ]
    },
    {
     "name": "stderr",
     "output_type": "stream",
     "text": [
      "Model Training Progress:   3%|▎         | 154/5000 [1:00:44<30:12:46, 22.44s/it, Step=4, Train Loss=0.129]               "
     ]
    },
    {
     "name": "stdout",
     "output_type": "stream",
     "text": [
      "Epoch 154/5000 -> Train loss: 0.12058447294531424,         Validation loss: 0.1260801248451961\n"
     ]
    },
    {
     "name": "stderr",
     "output_type": "stream",
     "text": [
      "Model Training Progress:   3%|▎         | 154/5000 [1:01:06<30:12:46, 22.44s/it, Train Loss=0.121, Validation Loss=0.125]"
     ]
    },
    {
     "name": "stdout",
     "output_type": "stream",
     "text": [
      "Epoch 155/5000 -> Train loss: 0.12071296554401609,         Validation loss: 0.1250713342268552\n"
     ]
    },
    {
     "name": "stderr",
     "output_type": "stream",
     "text": [
      "Model Training Progress:   3%|▎         | 155/5000 [1:01:30<30:31:24, 22.68s/it, Train Loss=0.12, Validation Loss=0.125] "
     ]
    },
    {
     "name": "stdout",
     "output_type": "stream",
     "text": [
      "Epoch 156/5000 -> Train loss: 0.12017109862134501,         Validation loss: 0.12466575037688017\n"
     ]
    },
    {
     "name": "stderr",
     "output_type": "stream",
     "text": [
      "Model Training Progress:   3%|▎         | 157/5000 [1:01:54<30:36:19, 22.75s/it, Step=4, Train Loss=0.12]               "
     ]
    },
    {
     "name": "stdout",
     "output_type": "stream",
     "text": [
      "Epoch 157/5000 -> Train loss: 0.12024712322588348,         Validation loss: 0.12487396879919938\n"
     ]
    },
    {
     "name": "stderr",
     "output_type": "stream",
     "text": [
      "Model Training Progress:   3%|▎         | 158/5000 [1:02:16<30:10:38, 22.44s/it, Step=4, Train Loss=0.125]              "
     ]
    },
    {
     "name": "stdout",
     "output_type": "stream",
     "text": [
      "Epoch 158/5000 -> Train loss: 0.12043755254679663,         Validation loss: 0.12514529621361623\n"
     ]
    },
    {
     "name": "stderr",
     "output_type": "stream",
     "text": [
      "Model Training Progress:   3%|▎         | 158/5000 [1:02:37<30:10:38, 22.44s/it, Train Loss=0.12, Validation Loss=0.124]"
     ]
    },
    {
     "name": "stdout",
     "output_type": "stream",
     "text": [
      "Epoch 159/5000 -> Train loss: 0.12013663136703105,         Validation loss: 0.12443305755566274\n"
     ]
    },
    {
     "name": "stderr",
     "output_type": "stream",
     "text": [
      "Model Training Progress:   3%|▎         | 160/5000 [1:03:02<30:26:33, 22.64s/it, Step=4, Train Loss=0.13]               "
     ]
    },
    {
     "name": "stdout",
     "output_type": "stream",
     "text": [
      "Epoch 160/5000 -> Train loss: 0.11996778027594455,         Validation loss: 0.12481310547196439\n"
     ]
    },
    {
     "name": "stderr",
     "output_type": "stream",
     "text": [
      "Model Training Progress:   3%|▎         | 161/5000 [1:03:23<30:06:24, 22.40s/it, Step=4, Train Loss=0.124]              "
     ]
    },
    {
     "name": "stdout",
     "output_type": "stream",
     "text": [
      "Epoch 161/5000 -> Train loss: 0.12018331853341471,         Validation loss: 0.12480708347367389\n"
     ]
    },
    {
     "name": "stderr",
     "output_type": "stream",
     "text": [
      "Model Training Progress:   3%|▎         | 162/5000 [1:03:45<29:53:12, 22.24s/it, Step=4, Train Loss=0.129]              "
     ]
    },
    {
     "name": "stdout",
     "output_type": "stream",
     "text": [
      "Epoch 162/5000 -> Train loss: 0.12003890996330355,         Validation loss: 0.12472063907688218\n"
     ]
    },
    {
     "name": "stderr",
     "output_type": "stream",
     "text": [
      "Model Training Progress:   3%|▎         | 163/5000 [1:04:07<29:45:32, 22.15s/it, Step=4, Train Loss=0.118]              "
     ]
    },
    {
     "name": "stdout",
     "output_type": "stream",
     "text": [
      "Epoch 163/5000 -> Train loss: 0.11974396353210408,         Validation loss: 0.12464268406453942\n"
     ]
    },
    {
     "name": "stderr",
     "output_type": "stream",
     "text": [
      "Model Training Progress:   3%|▎         | 164/5000 [1:04:29<29:35:50, 22.03s/it, Step=4, Train Loss=0.117]              "
     ]
    },
    {
     "name": "stdout",
     "output_type": "stream",
     "text": [
      "Epoch 164/5000 -> Train loss: 0.11972609911959596,         Validation loss: 0.1244538842899991\n"
     ]
    },
    {
     "name": "stderr",
     "output_type": "stream",
     "text": [
      "Model Training Progress:   3%|▎         | 165/5000 [1:04:51<29:34:38, 22.02s/it, Step=4, Train Loss=0.115]              "
     ]
    },
    {
     "name": "stdout",
     "output_type": "stream",
     "text": [
      "Epoch 165/5000 -> Train loss: 0.12011058639986383,         Validation loss: 0.12462939811604364\n"
     ]
    },
    {
     "name": "stderr",
     "output_type": "stream",
     "text": [
      "Model Training Progress:   3%|▎         | 166/5000 [1:05:13<29:35:44, 22.04s/it, Step=4, Train Loss=0.117]              "
     ]
    },
    {
     "name": "stdout",
     "output_type": "stream",
     "text": [
      "Epoch 166/5000 -> Train loss: 0.11986524673418765,         Validation loss: 0.12504514272856926\n"
     ]
    },
    {
     "name": "stderr",
     "output_type": "stream",
     "text": [
      "Model Training Progress:   3%|▎         | 166/5000 [1:05:35<29:35:44, 22.04s/it, Train Loss=0.12, Validation Loss=0.124]"
     ]
    },
    {
     "name": "stdout",
     "output_type": "stream",
     "text": [
      "Epoch 167/5000 -> Train loss: 0.11951201735921432,         Validation loss: 0.12410306593935405\n"
     ]
    },
    {
     "name": "stderr",
     "output_type": "stream",
     "text": [
      "Model Training Progress:   3%|▎         | 168/5000 [1:05:59<30:01:42, 22.37s/it, Step=4, Train Loss=0.117]              "
     ]
    },
    {
     "name": "stdout",
     "output_type": "stream",
     "text": [
      "Epoch 168/5000 -> Train loss: 0.11965362663649343,         Validation loss: 0.12418586855887302\n"
     ]
    },
    {
     "name": "stderr",
     "output_type": "stream",
     "text": [
      "Model Training Progress:   3%|▎         | 169/5000 [1:06:21<29:57:13, 22.32s/it, Step=4, Train Loss=0.114]              "
     ]
    },
    {
     "name": "stdout",
     "output_type": "stream",
     "text": [
      "Epoch 169/5000 -> Train loss: 0.1197257896005376,         Validation loss: 0.1247096436031695\n"
     ]
    },
    {
     "name": "stderr",
     "output_type": "stream",
     "text": [
      "Model Training Progress:   3%|▎         | 169/5000 [1:06:43<29:57:13, 22.32s/it, Train Loss=0.119, Validation Loss=0.124]"
     ]
    },
    {
     "name": "stdout",
     "output_type": "stream",
     "text": [
      "Epoch 170/5000 -> Train loss: 0.11937231463065907,         Validation loss: 0.12388095124624669\n"
     ]
    },
    {
     "name": "stderr",
     "output_type": "stream",
     "text": [
      "Model Training Progress:   3%|▎         | 171/5000 [1:07:07<30:13:31, 22.53s/it, Step=4, Train Loss=0.125]               "
     ]
    },
    {
     "name": "stdout",
     "output_type": "stream",
     "text": [
      "Epoch 171/5000 -> Train loss: 0.11934646929791369,         Validation loss: 0.1238983940399651\n"
     ]
    },
    {
     "name": "stderr",
     "output_type": "stream",
     "text": [
      "Model Training Progress:   3%|▎         | 172/5000 [1:07:29<30:01:30, 22.39s/it, Step=4, Train Loss=0.115]              "
     ]
    },
    {
     "name": "stdout",
     "output_type": "stream",
     "text": [
      "Epoch 172/5000 -> Train loss: 0.11966237057846017,         Validation loss: 0.1255902753078512\n"
     ]
    },
    {
     "name": "stderr",
     "output_type": "stream",
     "text": [
      "Model Training Progress:   3%|▎         | 173/5000 [1:07:51<29:46:14, 22.20s/it, Step=4, Train Loss=0.113]               "
     ]
    },
    {
     "name": "stdout",
     "output_type": "stream",
     "text": [
      "Epoch 173/5000 -> Train loss: 0.11928721446475368,         Validation loss: 0.12407051009525145\n"
     ]
    },
    {
     "name": "stderr",
     "output_type": "stream",
     "text": [
      "Model Training Progress:   3%|▎         | 174/5000 [1:08:13<29:43:03, 22.17s/it, Step=4, Train Loss=0.124]               "
     ]
    },
    {
     "name": "stdout",
     "output_type": "stream",
     "text": [
      "Epoch 174/5000 -> Train loss: 0.11938705441593392,         Validation loss: 0.12417777999570327\n"
     ]
    },
    {
     "name": "stderr",
     "output_type": "stream",
     "text": [
      "Model Training Progress:   3%|▎         | 174/5000 [1:08:35<29:43:03, 22.17s/it, Train Loss=0.119, Validation Loss=0.123]"
     ]
    },
    {
     "name": "stdout",
     "output_type": "stream",
     "text": [
      "Epoch 175/5000 -> Train loss: 0.11888298719115784,         Validation loss: 0.12320066270684557\n"
     ]
    },
    {
     "name": "stderr",
     "output_type": "stream",
     "text": [
      "Model Training Progress:   4%|▎         | 176/5000 [1:08:58<30:01:15, 22.40s/it, Step=4, Train Loss=0.116]               "
     ]
    },
    {
     "name": "stdout",
     "output_type": "stream",
     "text": [
      "Epoch 176/5000 -> Train loss: 0.11897965662318505,         Validation loss: 0.12361204229029162\n"
     ]
    },
    {
     "name": "stderr",
     "output_type": "stream",
     "text": [
      "Model Training Progress:   4%|▎         | 177/5000 [1:09:20<29:54:20, 22.32s/it, Step=4, Train Loss=0.115]               "
     ]
    },
    {
     "name": "stdout",
     "output_type": "stream",
     "text": [
      "Epoch 177/5000 -> Train loss: 0.11892668822883097,         Validation loss: 0.12337593246650483\n"
     ]
    },
    {
     "name": "stderr",
     "output_type": "stream",
     "text": [
      "Model Training Progress:   4%|▎         | 178/5000 [1:09:43<29:56:32, 22.35s/it, Step=3, Train Loss=0.111]               "
     ]
    },
    {
     "name": "stdout",
     "output_type": "stream",
     "text": [
      "Epoch 178/5000 -> Train loss: 0.11924786134365878,         Validation loss: 0.12365838851380562\n"
     ]
    },
    {
     "name": "stderr",
     "output_type": "stream",
     "text": [
      "Model Training Progress:   4%|▎         | 179/5000 [1:10:05<29:47:29, 22.25s/it, Step=4, Train Loss=0.122]               "
     ]
    },
    {
     "name": "stdout",
     "output_type": "stream",
     "text": [
      "Epoch 179/5000 -> Train loss: 0.11920062288002002,         Validation loss: 0.1234262187499553\n"
     ]
    },
    {
     "name": "stderr",
     "output_type": "stream",
     "text": [
      "Model Training Progress:   4%|▎         | 179/5000 [1:10:27<29:47:29, 22.25s/it, Train Loss=0.119, Validation Loss=0.123]"
     ]
    },
    {
     "name": "stdout",
     "output_type": "stream",
     "text": [
      "Epoch 180/5000 -> Train loss: 0.11899547484571948,         Validation loss: 0.123095189826563\n"
     ]
    },
    {
     "name": "stderr",
     "output_type": "stream",
     "text": [
      "Model Training Progress:   4%|▎         | 181/5000 [1:10:51<30:21:09, 22.67s/it, Step=4, Train Loss=0.121]               "
     ]
    },
    {
     "name": "stdout",
     "output_type": "stream",
     "text": [
      "Epoch 181/5000 -> Train loss: 0.11872423277950726,         Validation loss: 0.12375447329665934\n"
     ]
    },
    {
     "name": "stderr",
     "output_type": "stream",
     "text": [
      "Model Training Progress:   4%|▎         | 182/5000 [1:11:14<30:10:25, 22.55s/it, Step=4, Train Loss=0.126]               "
     ]
    },
    {
     "name": "stdout",
     "output_type": "stream",
     "text": [
      "Epoch 182/5000 -> Train loss: 0.11866888415319787,         Validation loss: 0.12354791503665703\n"
     ]
    },
    {
     "name": "stderr",
     "output_type": "stream",
     "text": [
      "Model Training Progress:   4%|▎         | 183/5000 [1:11:36<30:07:15, 22.51s/it, Step=3, Train Loss=0.121]               "
     ]
    },
    {
     "name": "stdout",
     "output_type": "stream",
     "text": [
      "Epoch 183/5000 -> Train loss: 0.11879927470731588,         Validation loss: 0.12379627400077879\n"
     ]
    },
    {
     "name": "stderr",
     "output_type": "stream",
     "text": [
      "Model Training Progress:   4%|▎         | 184/5000 [1:11:59<30:02:43, 22.46s/it, Step=4, Train Loss=0.123]               "
     ]
    },
    {
     "name": "stdout",
     "output_type": "stream",
     "text": [
      "Epoch 184/5000 -> Train loss: 0.11886697488785522,         Validation loss: 0.12368671837528901\n"
     ]
    },
    {
     "name": "stderr",
     "output_type": "stream",
     "text": [
      "Model Training Progress:   4%|▎         | 185/5000 [1:12:21<30:04:51, 22.49s/it, Step=4, Train Loss=0.113]               "
     ]
    },
    {
     "name": "stdout",
     "output_type": "stream",
     "text": [
      "Epoch 185/5000 -> Train loss: 0.11868287056135984,         Validation loss: 0.12322251722216607\n"
     ]
    },
    {
     "name": "stderr",
     "output_type": "stream",
     "text": [
      "Model Training Progress:   4%|▎         | 185/5000 [1:12:43<30:04:51, 22.49s/it, Train Loss=0.118, Validation Loss=0.123]"
     ]
    },
    {
     "name": "stdout",
     "output_type": "stream",
     "text": [
      "Epoch 186/5000 -> Train loss: 0.1183292443858334,         Validation loss: 0.1229691513680986\n"
     ]
    },
    {
     "name": "stderr",
     "output_type": "stream",
     "text": [
      "Model Training Progress:   4%|▎         | 186/5000 [1:13:09<31:22:31, 23.46s/it, Train Loss=0.118, Validation Loss=0.123]"
     ]
    },
    {
     "name": "stdout",
     "output_type": "stream",
     "text": [
      "Epoch 187/5000 -> Train loss: 0.1183468888919412,         Validation loss: 0.1227041905812387\n"
     ]
    },
    {
     "name": "stderr",
     "output_type": "stream",
     "text": [
      "Model Training Progress:   4%|▍         | 188/5000 [1:13:35<31:27:00, 23.53s/it, Step=4, Train Loss=0.121]               "
     ]
    },
    {
     "name": "stdout",
     "output_type": "stream",
     "text": [
      "Epoch 188/5000 -> Train loss: 0.11846605164964506,         Validation loss: 0.12331716122238763\n"
     ]
    },
    {
     "name": "stderr",
     "output_type": "stream",
     "text": [
      "Model Training Progress:   4%|▍         | 189/5000 [1:13:56<30:47:33, 23.04s/it, Step=4, Train Loss=0.116]               "
     ]
    },
    {
     "name": "stdout",
     "output_type": "stream",
     "text": [
      "Epoch 189/5000 -> Train loss: 0.11854409796694305,         Validation loss: 0.12373334257198232\n"
     ]
    },
    {
     "name": "stderr",
     "output_type": "stream",
     "text": [
      "Model Training Progress:   4%|▍         | 190/5000 [1:14:18<30:20:55, 22.71s/it, Step=3, Train Loss=0.113]               "
     ]
    },
    {
     "name": "stdout",
     "output_type": "stream",
     "text": [
      "Epoch 190/5000 -> Train loss: 0.11866817449682329,         Validation loss: 0.12324447929193931\n"
     ]
    },
    {
     "name": "stderr",
     "output_type": "stream",
     "text": [
      "Model Training Progress:   4%|▍         | 191/5000 [1:14:41<30:14:05, 22.63s/it, Step=3, Train Loss=0.114]               "
     ]
    },
    {
     "name": "stdout",
     "output_type": "stream",
     "text": [
      "Epoch 191/5000 -> Train loss: 0.11838189594767576,         Validation loss: 0.1232013501027333\n"
     ]
    },
    {
     "name": "stderr",
     "output_type": "stream",
     "text": [
      "Model Training Progress:   4%|▍         | 192/5000 [1:15:03<30:07:45, 22.56s/it, Step=4, Train Loss=0.122]               "
     ]
    },
    {
     "name": "stdout",
     "output_type": "stream",
     "text": [
      "Epoch 192/5000 -> Train loss: 0.1184640947980749,         Validation loss: 0.12358686097764543\n"
     ]
    },
    {
     "name": "stderr",
     "output_type": "stream",
     "text": [
      "Model Training Progress:   4%|▍         | 193/5000 [1:15:25<29:57:03, 22.43s/it, Step=4, Train Loss=0.114]               "
     ]
    },
    {
     "name": "stdout",
     "output_type": "stream",
     "text": [
      "Epoch 193/5000 -> Train loss: 0.1184245590920463,         Validation loss: 0.12298889388330281\n"
     ]
    },
    {
     "name": "stderr",
     "output_type": "stream",
     "text": [
      "Model Training Progress:   4%|▍         | 194/5000 [1:15:48<29:50:33, 22.35s/it, Step=4, Train Loss=0.116]               "
     ]
    },
    {
     "name": "stdout",
     "output_type": "stream",
     "text": [
      "Epoch 194/5000 -> Train loss: 0.1182627280934091,         Validation loss: 0.12322200945844608\n"
     ]
    },
    {
     "name": "stderr",
     "output_type": "stream",
     "text": [
      "Model Training Progress:   4%|▍         | 195/5000 [1:16:10<29:42:43, 22.26s/it, Step=4, Train Loss=0.12]                "
     ]
    },
    {
     "name": "stdout",
     "output_type": "stream",
     "text": [
      "Epoch 195/5000 -> Train loss: 0.11833378992563376,         Validation loss: 0.12387880639705275\n"
     ]
    },
    {
     "name": "stderr",
     "output_type": "stream",
     "text": [
      "Model Training Progress:   4%|▍         | 195/5000 [1:16:31<29:42:43, 22.26s/it, Train Loss=0.118, Validation Loss=0.123]"
     ]
    },
    {
     "name": "stdout",
     "output_type": "stream",
     "text": [
      "Epoch 196/5000 -> Train loss: 0.11820234657705196,         Validation loss: 0.12255960063609694\n"
     ]
    },
    {
     "name": "stderr",
     "output_type": "stream",
     "text": [
      "Model Training Progress:   4%|▍         | 197/5000 [1:16:56<30:10:41, 22.62s/it, Step=4, Train Loss=0.122]               "
     ]
    },
    {
     "name": "stdout",
     "output_type": "stream",
     "text": [
      "Epoch 197/5000 -> Train loss: 0.11794148659779251,         Validation loss: 0.12310294223550175\n"
     ]
    },
    {
     "name": "stderr",
     "output_type": "stream",
     "text": [
      "Model Training Progress:   4%|▍         | 198/5000 [1:17:18<29:47:18, 22.33s/it, Step=4, Train Loss=0.123]               "
     ]
    },
    {
     "name": "stdout",
     "output_type": "stream",
     "text": [
      "Epoch 198/5000 -> Train loss: 0.11831075094777382,         Validation loss: 0.12346119246046458\n"
     ]
    },
    {
     "name": "stderr",
     "output_type": "stream",
     "text": [
      "Model Training Progress:   4%|▍         | 198/5000 [1:17:39<29:47:18, 22.33s/it, Train Loss=0.118, Validation Loss=0.122]"
     ]
    },
    {
     "name": "stdout",
     "output_type": "stream",
     "text": [
      "Epoch 199/5000 -> Train loss: 0.1181147754009516,         Validation loss: 0.12241671429281788\n"
     ]
    },
    {
     "name": "stderr",
     "output_type": "stream",
     "text": [
      "Model Training Progress:   4%|▍         | 200/5000 [1:18:04<30:12:50, 22.66s/it, Step=4, Train Loss=0.113]               "
     ]
    },
    {
     "name": "stdout",
     "output_type": "stream",
     "text": [
      "Epoch 200/5000 -> Train loss: 0.11777610528322817,         Validation loss: 0.12307025494187006\n"
     ]
    },
    {
     "name": "stderr",
     "output_type": "stream",
     "text": [
      "Model Training Progress:   4%|▍         | 201/5000 [1:18:26<29:39:40, 22.25s/it, Step=4, Train Loss=0.115]               "
     ]
    },
    {
     "name": "stdout",
     "output_type": "stream",
     "text": [
      "Epoch 201/5000 -> Train loss: 0.11845049776274003,         Validation loss: 0.12345070741804583\n"
     ]
    },
    {
     "name": "stderr",
     "output_type": "stream",
     "text": [
      "Model Training Progress:   4%|▍         | 202/5000 [1:18:47<29:16:30, 21.97s/it, Step=4, Train Loss=0.117]               "
     ]
    },
    {
     "name": "stdout",
     "output_type": "stream",
     "text": [
      "Epoch 202/5000 -> Train loss: 0.1179329757264421,         Validation loss: 0.12264198370810066\n"
     ]
    },
    {
     "name": "stderr",
     "output_type": "stream",
     "text": [
      "Model Training Progress:   4%|▍         | 203/5000 [1:19:08<29:03:04, 21.80s/it, Step=4, Train Loss=0.113]               "
     ]
    },
    {
     "name": "stdout",
     "output_type": "stream",
     "text": [
      "Epoch 203/5000 -> Train loss: 0.11764477314484631,         Validation loss: 0.12303222733815866\n"
     ]
    },
    {
     "name": "stderr",
     "output_type": "stream",
     "text": [
      "Model Training Progress:   4%|▍         | 203/5000 [1:19:30<29:03:04, 21.80s/it, Train Loss=0.118, Validation Loss=0.122]"
     ]
    },
    {
     "name": "stdout",
     "output_type": "stream",
     "text": [
      "Epoch 204/5000 -> Train loss: 0.1177733943231998,         Validation loss: 0.12231000833479422\n"
     ]
    },
    {
     "name": "stderr",
     "output_type": "stream",
     "text": [
      "Model Training Progress:   4%|▍         | 205/5000 [1:19:53<29:17:59, 22.00s/it, Step=4, Train Loss=0.118]               "
     ]
    },
    {
     "name": "stdout",
     "output_type": "stream",
     "text": [
      "Epoch 205/5000 -> Train loss: 0.11741182496028443,         Validation loss: 0.12286012025017823\n"
     ]
    },
    {
     "name": "stderr",
     "output_type": "stream",
     "text": [
      "Model Training Progress:   4%|▍         | 206/5000 [1:20:14<29:03:07, 21.82s/it, Step=4, Train Loss=0.125]               "
     ]
    },
    {
     "name": "stdout",
     "output_type": "stream",
     "text": [
      "Epoch 206/5000 -> Train loss: 0.11796416554805692,         Validation loss: 0.1223543355440987\n"
     ]
    },
    {
     "name": "stderr",
     "output_type": "stream",
     "text": [
      "Model Training Progress:   4%|▍         | 207/5000 [1:20:36<28:56:15, 21.73s/it, Step=4, Train Loss=0.13]                "
     ]
    },
    {
     "name": "stdout",
     "output_type": "stream",
     "text": [
      "Epoch 207/5000 -> Train loss: 0.11794026282850219,         Validation loss: 0.1228896899414914\n"
     ]
    },
    {
     "name": "stderr",
     "output_type": "stream",
     "text": [
      "Model Training Progress:   4%|▍         | 207/5000 [1:20:57<28:56:15, 21.73s/it, Train Loss=0.118, Validation Loss=0.122]"
     ]
    },
    {
     "name": "stdout",
     "output_type": "stream",
     "text": [
      "Epoch 208/5000 -> Train loss: 0.11760593386241264,         Validation loss: 0.12222844335649695\n"
     ]
    },
    {
     "name": "stderr",
     "output_type": "stream",
     "text": [
      "Model Training Progress:   4%|▍         | 209/5000 [1:21:21<29:21:23, 22.06s/it, Step=4, Train Loss=0.11]                "
     ]
    },
    {
     "name": "stdout",
     "output_type": "stream",
     "text": [
      "Epoch 209/5000 -> Train loss: 0.1176284411065052,         Validation loss: 0.12273339998376157\n"
     ]
    },
    {
     "name": "stderr",
     "output_type": "stream",
     "text": [
      "Model Training Progress:   4%|▍         | 210/5000 [1:21:42<28:55:02, 21.73s/it, Step=4, Train Loss=0.122]               "
     ]
    },
    {
     "name": "stdout",
     "output_type": "stream",
     "text": [
      "Epoch 210/5000 -> Train loss: 0.11752815233783488,         Validation loss: 0.12282358560977237\n"
     ]
    },
    {
     "name": "stderr",
     "output_type": "stream",
     "text": [
      "Model Training Progress:   4%|▍         | 211/5000 [1:22:03<28:39:21, 21.54s/it, Step=4, Train Loss=0.121]               "
     ]
    },
    {
     "name": "stdout",
     "output_type": "stream",
     "text": [
      "Epoch 211/5000 -> Train loss: 0.11770777214615623,         Validation loss: 0.12251845244983477\n"
     ]
    },
    {
     "name": "stderr",
     "output_type": "stream",
     "text": [
      "Model Training Progress:   4%|▍         | 212/5000 [1:22:25<28:34:59, 21.49s/it, Step=3, Train Loss=0.118]               "
     ]
    },
    {
     "name": "stdout",
     "output_type": "stream",
     "text": [
      "Epoch 212/5000 -> Train loss: 0.11750932126963065,         Validation loss: 0.1225113095782165\n"
     ]
    },
    {
     "name": "stderr",
     "output_type": "stream",
     "text": [
      "Model Training Progress:   4%|▍         | 213/5000 [1:22:46<28:20:07, 21.31s/it, Step=4, Train Loss=0.12]                "
     ]
    },
    {
     "name": "stdout",
     "output_type": "stream",
     "text": [
      "Epoch 213/5000 -> Train loss: 0.11755191578181243,         Validation loss: 0.12247916078860206\n"
     ]
    },
    {
     "name": "stderr",
     "output_type": "stream",
     "text": [
      "Model Training Progress:   4%|▍         | 213/5000 [1:23:07<28:20:07, 21.31s/it, Train Loss=0.118, Validation Loss=0.122]"
     ]
    },
    {
     "name": "stdout",
     "output_type": "stream",
     "text": [
      "Epoch 214/5000 -> Train loss: 0.11776724869122535,         Validation loss: 0.12175676635067378\n"
     ]
    },
    {
     "name": "stderr",
     "output_type": "stream",
     "text": [
      "Model Training Progress:   4%|▍         | 215/5000 [1:23:29<28:30:53, 21.45s/it, Step=4, Train Loss=0.114]               "
     ]
    },
    {
     "name": "stdout",
     "output_type": "stream",
     "text": [
      "Epoch 215/5000 -> Train loss: 0.11744953861082989,         Validation loss: 0.12287513532542757\n"
     ]
    },
    {
     "name": "stderr",
     "output_type": "stream",
     "text": [
      "Model Training Progress:   4%|▍         | 216/5000 [1:23:51<28:35:20, 21.51s/it, Step=4, Train Loss=0.123]               "
     ]
    },
    {
     "name": "stdout",
     "output_type": "stream",
     "text": [
      "Epoch 216/5000 -> Train loss: 0.11734847457039575,         Validation loss: 0.12191726093047432\n"
     ]
    },
    {
     "name": "stderr",
     "output_type": "stream",
     "text": [
      "Model Training Progress:   4%|▍         | 217/5000 [1:24:12<28:39:36, 21.57s/it, Step=4, Train Loss=0.12]                "
     ]
    },
    {
     "name": "stdout",
     "output_type": "stream",
     "text": [
      "Epoch 217/5000 -> Train loss: 0.11766091103385562,         Validation loss: 0.12223695613709944\n"
     ]
    },
    {
     "name": "stderr",
     "output_type": "stream",
     "text": [
      "Model Training Progress:   4%|▍         | 218/5000 [1:24:33<28:27:06, 21.42s/it, Step=4, Train Loss=0.112]               "
     ]
    },
    {
     "name": "stdout",
     "output_type": "stream",
     "text": [
      "Epoch 218/5000 -> Train loss: 0.11741305602017356,         Validation loss: 0.12242806848537709\n"
     ]
    },
    {
     "name": "stderr",
     "output_type": "stream",
     "text": [
      "Model Training Progress:   4%|▍         | 219/5000 [1:24:55<28:24:22, 21.39s/it, Step=4, Train Loss=0.116]               "
     ]
    },
    {
     "name": "stdout",
     "output_type": "stream",
     "text": [
      "Epoch 219/5000 -> Train loss: 0.11724494189663899,         Validation loss: 0.12277882608052876\n"
     ]
    },
    {
     "name": "stderr",
     "output_type": "stream",
     "text": [
      "Model Training Progress:   4%|▍         | 220/5000 [1:25:16<28:14:59, 21.28s/it, Step=4, Train Loss=0.113]               "
     ]
    },
    {
     "name": "stdout",
     "output_type": "stream",
     "text": [
      "Epoch 220/5000 -> Train loss: 0.11730803818973295,         Validation loss: 0.12229676893247025\n"
     ]
    },
    {
     "name": "stderr",
     "output_type": "stream",
     "text": [
      "Model Training Progress:   4%|▍         | 221/5000 [1:25:37<28:18:40, 21.33s/it, Step=4, Train Loss=0.117]               "
     ]
    },
    {
     "name": "stdout",
     "output_type": "stream",
     "text": [
      "Epoch 221/5000 -> Train loss: 0.11742846912310168,         Validation loss: 0.12185730738565326\n"
     ]
    },
    {
     "name": "stderr",
     "output_type": "stream",
     "text": [
      "Model Training Progress:   4%|▍         | 222/5000 [1:25:59<28:19:18, 21.34s/it, Step=4, Train Loss=0.115]               "
     ]
    },
    {
     "name": "stdout",
     "output_type": "stream",
     "text": [
      "Epoch 222/5000 -> Train loss: 0.11717356412322974,         Validation loss: 0.12185644665067749\n"
     ]
    },
    {
     "name": "stderr",
     "output_type": "stream",
     "text": [
      "Model Training Progress:   4%|▍         | 223/5000 [1:26:20<28:13:41, 21.27s/it, Step=4, Train Loss=0.122]               "
     ]
    },
    {
     "name": "stdout",
     "output_type": "stream",
     "text": [
      "Epoch 223/5000 -> Train loss: 0.117338373045797,         Validation loss: 0.12281830691333329\n"
     ]
    },
    {
     "name": "stderr",
     "output_type": "stream",
     "text": [
      "Model Training Progress:   4%|▍         | 224/5000 [1:26:41<28:12:12, 21.26s/it, Step=4, Train Loss=0.127]               "
     ]
    },
    {
     "name": "stdout",
     "output_type": "stream",
     "text": [
      "Epoch 224/5000 -> Train loss: 0.11728009759831282,         Validation loss: 0.12313352151374732\n"
     ]
    },
    {
     "name": "stderr",
     "output_type": "stream",
     "text": [
      "Model Training Progress:   4%|▍         | 225/5000 [1:27:02<28:11:06, 21.25s/it, Step=4, Train Loss=0.106]               "
     ]
    },
    {
     "name": "stdout",
     "output_type": "stream",
     "text": [
      "Epoch 225/5000 -> Train loss: 0.11724578111541052,         Validation loss: 0.1217873225387718\n"
     ]
    },
    {
     "name": "stderr",
     "output_type": "stream",
     "text": [
      "Model Training Progress:   4%|▍         | 225/5000 [1:27:24<28:11:06, 21.25s/it, Train Loss=0.117, Validation Loss=0.122]"
     ]
    },
    {
     "name": "stdout",
     "output_type": "stream",
     "text": [
      "Epoch 226/5000 -> Train loss: 0.1170525350179409,         Validation loss: 0.1217141213427697\n"
     ]
    },
    {
     "name": "stderr",
     "output_type": "stream",
     "text": [
      "Model Training Progress:   5%|▍         | 227/5000 [1:27:47<28:58:25, 21.85s/it, Step=4, Train Loss=0.117]               "
     ]
    },
    {
     "name": "stdout",
     "output_type": "stream",
     "text": [
      "Epoch 227/5000 -> Train loss: 0.11723313903424637,         Validation loss: 0.12211911796059992\n"
     ]
    },
    {
     "name": "stderr",
     "output_type": "stream",
     "text": [
      "Model Training Progress:   5%|▍         | 228/5000 [1:28:09<29:00:42, 21.89s/it, Step=4, Train Loss=0.119]               "
     ]
    },
    {
     "name": "stdout",
     "output_type": "stream",
     "text": [
      "Epoch 228/5000 -> Train loss: 0.1171161210381546,         Validation loss: 0.1218563348254455\n"
     ]
    },
    {
     "name": "stderr",
     "output_type": "stream",
     "text": [
      "Model Training Progress:   5%|▍         | 229/5000 [1:28:31<28:50:35, 21.76s/it, Step=4, Train Loss=0.113]               "
     ]
    },
    {
     "name": "stdout",
     "output_type": "stream",
     "text": [
      "Epoch 229/5000 -> Train loss: 0.11710077771014231,         Validation loss: 0.12173584225986685\n"
     ]
    },
    {
     "name": "stderr",
     "output_type": "stream",
     "text": [
      "Model Training Progress:   5%|▍         | 230/5000 [1:28:52<28:32:29, 21.54s/it, Step=4, Train Loss=0.111]               "
     ]
    },
    {
     "name": "stdout",
     "output_type": "stream",
     "text": [
      "Epoch 230/5000 -> Train loss: 0.1171018881437603,         Validation loss: 0.12255695423643503\n"
     ]
    },
    {
     "name": "stderr",
     "output_type": "stream",
     "text": [
      "Model Training Progress:   5%|▍         | 231/5000 [1:29:13<28:21:12, 21.40s/it, Step=4, Train Loss=0.126]               "
     ]
    },
    {
     "name": "stdout",
     "output_type": "stream",
     "text": [
      "Epoch 231/5000 -> Train loss: 0.11691411257795761,         Validation loss: 0.12212640699664397\n"
     ]
    },
    {
     "name": "stderr",
     "output_type": "stream",
     "text": [
      "Model Training Progress:   5%|▍         | 232/5000 [1:29:34<28:12:36, 21.30s/it, Step=4, Train Loss=0.118]               "
     ]
    },
    {
     "name": "stdout",
     "output_type": "stream",
     "text": [
      "Epoch 232/5000 -> Train loss: 0.11711815383536683,         Validation loss: 0.12251424441513206\n"
     ]
    },
    {
     "name": "stderr",
     "output_type": "stream",
     "text": [
      "Model Training Progress:   5%|▍         | 233/5000 [1:29:56<28:17:27, 21.37s/it, Step=4, Train Loss=0.123]               "
     ]
    },
    {
     "name": "stdout",
     "output_type": "stream",
     "text": [
      "Epoch 233/5000 -> Train loss: 0.11922402069703933,         Validation loss: 0.1222358758428267\n"
     ]
    },
    {
     "name": "stderr",
     "output_type": "stream",
     "text": [
      "Model Training Progress:   5%|▍         | 233/5000 [1:30:17<28:17:27, 21.37s/it, Train Loss=0.117, Validation Loss=0.122]"
     ]
    },
    {
     "name": "stdout",
     "output_type": "stream",
     "text": [
      "Epoch 234/5000 -> Train loss: 0.11671441199223688,         Validation loss: 0.12156093670055271\n"
     ]
    },
    {
     "name": "stderr",
     "output_type": "stream",
     "text": [
      "Model Training Progress:   5%|▍         | 235/5000 [1:30:41<28:58:48, 21.89s/it, Step=4, Train Loss=0.116]               "
     ]
    },
    {
     "name": "stdout",
     "output_type": "stream",
     "text": [
      "Epoch 235/5000 -> Train loss: 0.11670657315868542,         Validation loss: 0.12172898562358958\n"
     ]
    },
    {
     "name": "stderr",
     "output_type": "stream",
     "text": [
      "Model Training Progress:   5%|▍         | 235/5000 [1:31:02<28:58:48, 21.89s/it, Train Loss=0.117, Validation Loss=0.121]"
     ]
    },
    {
     "name": "stdout",
     "output_type": "stream",
     "text": [
      "Epoch 236/5000 -> Train loss: 0.11667115312138218,         Validation loss: 0.12138382528376367\n"
     ]
    },
    {
     "name": "stderr",
     "output_type": "stream",
     "text": [
      "Model Training Progress:   5%|▍         | 237/5000 [1:31:28<29:40:43, 22.43s/it, Step=4, Train Loss=0.108]               "
     ]
    },
    {
     "name": "stdout",
     "output_type": "stream",
     "text": [
      "Epoch 237/5000 -> Train loss: 0.11656900746690715,         Validation loss: 0.12181768706068397\n"
     ]
    },
    {
     "name": "stderr",
     "output_type": "stream",
     "text": [
      "Model Training Progress:   5%|▍         | 237/5000 [1:31:49<29:40:43, 22.43s/it, Train Loss=0.117, Validation Loss=0.121]"
     ]
    },
    {
     "name": "stdout",
     "output_type": "stream",
     "text": [
      "Epoch 238/5000 -> Train loss: 0.11653493970998226,         Validation loss: 0.1211634395976684\n"
     ]
    },
    {
     "name": "stderr",
     "output_type": "stream",
     "text": [
      "Model Training Progress:   5%|▍         | 239/5000 [1:32:12<29:35:29, 22.38s/it, Step=4, Train Loss=0.108]               "
     ]
    },
    {
     "name": "stdout",
     "output_type": "stream",
     "text": [
      "Epoch 239/5000 -> Train loss: 0.11642757039859983,         Validation loss: 0.12134707534818777\n"
     ]
    },
    {
     "name": "stderr",
     "output_type": "stream",
     "text": [
      "Model Training Progress:   5%|▍         | 240/5000 [1:32:34<29:25:34, 22.26s/it, Step=4, Train Loss=0.108]               "
     ]
    },
    {
     "name": "stdout",
     "output_type": "stream",
     "text": [
      "Epoch 240/5000 -> Train loss: 0.11650241214347763,         Validation loss: 0.12116397619912667\n"
     ]
    },
    {
     "name": "stderr",
     "output_type": "stream",
     "text": [
      "Model Training Progress:   5%|▍         | 241/5000 [1:32:56<29:11:57, 22.09s/it, Step=4, Train Loss=0.116]               "
     ]
    },
    {
     "name": "stdout",
     "output_type": "stream",
     "text": [
      "Epoch 241/5000 -> Train loss: 0.11658927501162138,         Validation loss: 0.12155671253401254\n"
     ]
    },
    {
     "name": "stderr",
     "output_type": "stream",
     "text": [
      "Model Training Progress:   5%|▍         | 242/5000 [1:33:18<28:55:41, 21.89s/it, Step=4, Train Loss=0.111]               "
     ]
    },
    {
     "name": "stdout",
     "output_type": "stream",
     "text": [
      "Epoch 242/5000 -> Train loss: 0.11646428708832689,         Validation loss: 0.12151481477277619\n"
     ]
    },
    {
     "name": "stderr",
     "output_type": "stream",
     "text": [
      "Model Training Progress:   5%|▍         | 243/5000 [1:33:39<28:43:49, 21.74s/it, Step=4, Train Loss=0.118]               "
     ]
    },
    {
     "name": "stdout",
     "output_type": "stream",
     "text": [
      "Epoch 243/5000 -> Train loss: 0.11689667483688863,         Validation loss: 0.1219835958310536\n"
     ]
    },
    {
     "name": "stderr",
     "output_type": "stream",
     "text": [
      "Model Training Progress:   5%|▍         | 244/5000 [1:34:01<28:39:39, 21.69s/it, Step=4, Train Loss=0.111]               "
     ]
    },
    {
     "name": "stdout",
     "output_type": "stream",
     "text": [
      "Epoch 244/5000 -> Train loss: 0.11646239077843772,         Validation loss: 0.12120476959805404\n"
     ]
    },
    {
     "name": "stderr",
     "output_type": "stream",
     "text": [
      "Model Training Progress:   5%|▍         | 245/5000 [1:34:22<28:33:24, 21.62s/it, Step=4, Train Loss=0.123]               "
     ]
    },
    {
     "name": "stdout",
     "output_type": "stream",
     "text": [
      "Epoch 245/5000 -> Train loss: 0.11664237273982697,         Validation loss: 0.12235780052973756\n"
     ]
    },
    {
     "name": "stderr",
     "output_type": "stream",
     "text": [
      "Model Training Progress:   5%|▍         | 246/5000 [1:34:43<28:24:52, 21.52s/it, Step=4, Train Loss=0.123]               "
     ]
    },
    {
     "name": "stdout",
     "output_type": "stream",
     "text": [
      "Epoch 246/5000 -> Train loss: 0.11675444686431095,         Validation loss: 0.12162106609238045\n"
     ]
    },
    {
     "name": "stderr",
     "output_type": "stream",
     "text": [
      "Model Training Progress:   5%|▍         | 247/5000 [1:35:05<28:25:02, 21.52s/it, Step=4, Train Loss=0.106]               "
     ]
    },
    {
     "name": "stdout",
     "output_type": "stream",
     "text": [
      "Epoch 247/5000 -> Train loss: 0.11663047617381336,         Validation loss: 0.12164669032208622\n"
     ]
    },
    {
     "name": "stderr",
     "output_type": "stream",
     "text": [
      "Model Training Progress:   5%|▍         | 248/5000 [1:35:26<28:28:10, 21.57s/it, Step=4, Train Loss=0.107]               "
     ]
    },
    {
     "name": "stdout",
     "output_type": "stream",
     "text": [
      "Epoch 248/5000 -> Train loss: 0.1168786299192101,         Validation loss: 0.12136722915539784\n"
     ]
    },
    {
     "name": "stderr",
     "output_type": "stream",
     "text": [
      "Model Training Progress:   5%|▍         | 249/5000 [1:35:48<28:32:28, 21.63s/it, Step=4, Train Loss=0.124]               "
     ]
    },
    {
     "name": "stdout",
     "output_type": "stream",
     "text": [
      "Epoch 249/5000 -> Train loss: 0.11655944133280245,         Validation loss: 0.12153978111621525\n"
     ]
    },
    {
     "name": "stderr",
     "output_type": "stream",
     "text": [
      "Model Training Progress:   5%|▍         | 249/5000 [1:36:09<30:34:51, 23.17s/it, Train Loss=0.116, Validation Loss=0.122]"
     ]
    },
    {
     "name": "stdout",
     "output_type": "stream",
     "text": [
      "Epoch 250/5000 -> Train loss: 0.11637537309362844,         Validation loss: 0.12159926760276514\n",
      "Validation loss did not improve for         10 epochs, interrupting training.\n"
     ]
    },
    {
     "name": "stderr",
     "output_type": "stream",
     "text": [
      "\n"
     ]
    }
   ],
   "source": [
    "early_stopping = EarlyStopping(10, .0001)\n",
    "auto_save = AutoSave(NET_NAME)\n",
    "history = {'train_loss': [], 'val_loss': []}\n",
    "\n",
    "# Training Loop\n",
    "pbar = tqdm(range(EPOCHS), desc='Model Training Progress', position=0)\n",
    "for epoch in pbar:\n",
    "    model.train(True)\n",
    "    train_loss = 0\n",
    "    val_loss = 0\n",
    "    \n",
    "    for i, (data, _) in enumerate(train_loader):\n",
    "        data = data.to(DEVICE)\n",
    "        optimizer.zero_grad()\n",
    "        \n",
    "        data_noise = torch.randn(data.shape).to(DEVICE)\n",
    "        data_noise = data + data_noise\n",
    "        \n",
    "        recon_batch = model(data_noise.to(DEVICE))\n",
    "        loss = criterion(recon_batch, data)\n",
    "        loss.backward()\n",
    "        \n",
    "        train_loss += loss.item() * len(data)\n",
    "        optimizer.step()\n",
    "        \n",
    "        pbar.set_postfix({'Step': i+1, 'Train Loss': train_loss/(i+1)})\n",
    "        \n",
    "    train_loss = train_loss / len(train_loader)\n",
    "    model.eval()\n",
    "    \n",
    "    with torch.no_grad():\n",
    "        for j, (vdata, _) in enumerate(val_loader):\n",
    "            vdata = vdata.to(DEVICE)\n",
    "            \n",
    "            vdata_noise = torch.randn(vdata.shape).to(DEVICE)\n",
    "            vdata_noise = vdata + vdata_noise\n",
    "            \n",
    "            vouts = model(vdata_noise.to(DEVICE))\n",
    "            vloss = criterion(vouts, vdata)\n",
    "            \n",
    "            val_loss += vloss.item() * len(vdata)\n",
    "            \n",
    "            pbar.set_postfix({\n",
    "                'Train Loss': train_loss, \n",
    "                'Validation Loss': val_loss / (j+1)\n",
    "            })\n",
    "            \n",
    "    val_loss = val_loss / len(val_loader)\n",
    "    history['train_loss'].append(train_loss)\n",
    "    history['val_loss'].append(val_loss)\n",
    "    pbar.write(f'Epoch {epoch+1}/{EPOCHS} -> Train loss: {train_loss}, \\\n",
    "        Validation loss: {val_loss}')\n",
    "    \n",
    "    auto_save.check_save(model, val_loss)\n",
    "    \n",
    "    if early_stopping.early_stop(val_loss):\n",
    "        print(f'Validation loss did not improve for \\\n",
    "        {early_stopping.patience} epochs, interrupting training.')\n",
    "        break\n",
    "    \n",
    "# pbar.write(f'Final Stats -> Train Loss: {train_loss}, Validation Loss: {val_loss}')"
   ]
  },
  {
   "cell_type": "markdown",
   "metadata": {},
   "source": [
    "## Results"
   ]
  },
  {
   "cell_type": "code",
   "execution_count": 35,
   "metadata": {},
   "outputs": [
    {
     "data": {
      "text/plain": [
       "<Axes: >"
      ]
     },
     "execution_count": 35,
     "metadata": {},
     "output_type": "execute_result"
    },
    {
     "data": {
      "image/png": "[encoded data removed]",
      "text/plain": [
       "<Figure size 640x480 with 1 Axes>"
      ]
     },
     "metadata": {},
     "output_type": "display_data"
    }
   ],
   "source": [
    "sns.lineplot(history)"
   ]
  },
  {
   "cell_type": "code",
   "execution_count": 28,
   "metadata": {},
   "outputs": [
    {
     "ename": "ValueError",
     "evalue": "batch_size should be a positive integer value, but got batch_size=0",
     "output_type": "error",
     "traceback": [
      "\u001b[0;31m---------------------------------------------------------------------------\u001b[0m",
      "\u001b[0;31mValueError\u001b[0m                                Traceback (most recent call last)",
      "Cell \u001b[0;32mIn[28], line 12\u001b[0m\n\u001b[1;32m      9\u001b[0m test_set_good \u001b[38;5;241m=\u001b[39m Subset(test_set, indices_good)\n\u001b[1;32m     10\u001b[0m test_set_bad \u001b[38;5;241m=\u001b[39m Subset(test_set, indices_bad)\n\u001b[0;32m---> 12\u001b[0m test_loader_good \u001b[38;5;241m=\u001b[39m \u001b[43mDataLoader\u001b[49m\u001b[43m(\u001b[49m\u001b[43mtest_set_good\u001b[49m\u001b[43m,\u001b[49m\u001b[43m \u001b[49m\u001b[38;5;28;43mlen\u001b[39;49m\u001b[43m(\u001b[49m\u001b[43mindices_good\u001b[49m\u001b[43m)\u001b[49m\u001b[43m)\u001b[49m\n\u001b[1;32m     13\u001b[0m test_loader_bad \u001b[38;5;241m=\u001b[39m DataLoader(test_set_bad, \u001b[38;5;28mlen\u001b[39m(indices_bad))\n",
      "File \u001b[0;32m~/miniconda3/envs/mpt/lib/python3.9/site-packages/torch/utils/data/dataloader.py:357\u001b[0m, in \u001b[0;36mDataLoader.__init__\u001b[0;34m(self, dataset, batch_size, shuffle, sampler, batch_sampler, num_workers, collate_fn, pin_memory, drop_last, timeout, worker_init_fn, multiprocessing_context, generator, prefetch_factor, persistent_workers, pin_memory_device)\u001b[0m\n\u001b[1;32m    353\u001b[0m             sampler \u001b[38;5;241m=\u001b[39m SequentialSampler(dataset)  \u001b[38;5;66;03m# type: ignore[arg-type]\u001b[39;00m\n\u001b[1;32m    355\u001b[0m \u001b[38;5;28;01mif\u001b[39;00m batch_size \u001b[38;5;129;01mis\u001b[39;00m \u001b[38;5;129;01mnot\u001b[39;00m \u001b[38;5;28;01mNone\u001b[39;00m \u001b[38;5;129;01mand\u001b[39;00m batch_sampler \u001b[38;5;129;01mis\u001b[39;00m \u001b[38;5;28;01mNone\u001b[39;00m:\n\u001b[1;32m    356\u001b[0m     \u001b[38;5;66;03m# auto_collation without custom batch_sampler\u001b[39;00m\n\u001b[0;32m--> 357\u001b[0m     batch_sampler \u001b[38;5;241m=\u001b[39m \u001b[43mBatchSampler\u001b[49m\u001b[43m(\u001b[49m\u001b[43msampler\u001b[49m\u001b[43m,\u001b[49m\u001b[43m \u001b[49m\u001b[43mbatch_size\u001b[49m\u001b[43m,\u001b[49m\u001b[43m \u001b[49m\u001b[43mdrop_last\u001b[49m\u001b[43m)\u001b[49m\n\u001b[1;32m    359\u001b[0m \u001b[38;5;28mself\u001b[39m\u001b[38;5;241m.\u001b[39mbatch_size \u001b[38;5;241m=\u001b[39m batch_size\n\u001b[1;32m    360\u001b[0m \u001b[38;5;28mself\u001b[39m\u001b[38;5;241m.\u001b[39mdrop_last \u001b[38;5;241m=\u001b[39m drop_last\n",
      "File \u001b[0;32m~/miniconda3/envs/mpt/lib/python3.9/site-packages/torch/utils/data/sampler.py:268\u001b[0m, in \u001b[0;36mBatchSampler.__init__\u001b[0;34m(self, sampler, batch_size, drop_last)\u001b[0m\n\u001b[1;32m    262\u001b[0m \u001b[38;5;28;01mdef\u001b[39;00m \u001b[38;5;21m__init__\u001b[39m(\u001b[38;5;28mself\u001b[39m, sampler: Union[Sampler[\u001b[38;5;28mint\u001b[39m], Iterable[\u001b[38;5;28mint\u001b[39m]], batch_size: \u001b[38;5;28mint\u001b[39m, drop_last: \u001b[38;5;28mbool\u001b[39m) \u001b[38;5;241m-\u001b[39m\u001b[38;5;241m>\u001b[39m \u001b[38;5;28;01mNone\u001b[39;00m:\n\u001b[1;32m    263\u001b[0m     \u001b[38;5;66;03m# Since collections.abc.Iterable does not check for `__getitem__`, which\u001b[39;00m\n\u001b[1;32m    264\u001b[0m     \u001b[38;5;66;03m# is one way for an object to be an iterable, we don't do an `isinstance`\u001b[39;00m\n\u001b[1;32m    265\u001b[0m     \u001b[38;5;66;03m# check here.\u001b[39;00m\n\u001b[1;32m    266\u001b[0m     \u001b[38;5;28;01mif\u001b[39;00m \u001b[38;5;129;01mnot\u001b[39;00m \u001b[38;5;28misinstance\u001b[39m(batch_size, \u001b[38;5;28mint\u001b[39m) \u001b[38;5;129;01mor\u001b[39;00m \u001b[38;5;28misinstance\u001b[39m(batch_size, \u001b[38;5;28mbool\u001b[39m) \u001b[38;5;129;01mor\u001b[39;00m \\\n\u001b[1;32m    267\u001b[0m             batch_size \u001b[38;5;241m<\u001b[39m\u001b[38;5;241m=\u001b[39m \u001b[38;5;241m0\u001b[39m:\n\u001b[0;32m--> 268\u001b[0m         \u001b[38;5;28;01mraise\u001b[39;00m \u001b[38;5;167;01mValueError\u001b[39;00m(\u001b[38;5;124mf\u001b[39m\u001b[38;5;124m\"\u001b[39m\u001b[38;5;124mbatch_size should be a positive integer value, but got batch_size=\u001b[39m\u001b[38;5;132;01m{\u001b[39;00mbatch_size\u001b[38;5;132;01m}\u001b[39;00m\u001b[38;5;124m\"\u001b[39m)\n\u001b[1;32m    269\u001b[0m     \u001b[38;5;28;01mif\u001b[39;00m \u001b[38;5;129;01mnot\u001b[39;00m \u001b[38;5;28misinstance\u001b[39m(drop_last, \u001b[38;5;28mbool\u001b[39m):\n\u001b[1;32m    270\u001b[0m         \u001b[38;5;28;01mraise\u001b[39;00m \u001b[38;5;167;01mValueError\u001b[39;00m(\u001b[38;5;124mf\u001b[39m\u001b[38;5;124m\"\u001b[39m\u001b[38;5;124mdrop_last should be a boolean value, but got drop_last=\u001b[39m\u001b[38;5;132;01m{\u001b[39;00mdrop_last\u001b[38;5;132;01m}\u001b[39;00m\u001b[38;5;124m\"\u001b[39m)\n",
      "\u001b[0;31mValueError\u001b[0m: batch_size should be a positive integer value, but got batch_size=0"
     ]
    }
   ],
   "source": [
    "test_set = datasets.ImageFolder(\n",
    "    os.path.join(DATA_DIR, 'test'),\n",
    "    transform=img_transforms,\n",
    ")\n",
    "\n",
    "indices_bad = (torch.tensor(test_set.targets)[..., None] == 0).any(-1).nonzero(as_tuple=True)[0]\n",
    "indices_good = (torch.tensor(test_set.targets)[..., None] == 1).any(-1).nonzero(as_tuple=True)[0]\n",
    "\n",
    "test_set_good = Subset(test_set, indices_good)\n",
    "test_set_bad = Subset(test_set, indices_bad)\n",
    "\n",
    "test_loader_good = DataLoader(test_set_good, len(indices_good))\n",
    "test_loader_bad = DataLoader(test_set_bad, len(indices_bad))"
   ]
  },
  {
   "cell_type": "code",
   "execution_count": 27,
   "metadata": {},
   "outputs": [
    {
     "ename": "NameError",
     "evalue": "name 'test_loader_bad' is not defined",
     "output_type": "error",
     "traceback": [
      "\u001b[0;31m---------------------------------------------------------------------------\u001b[0m",
      "\u001b[0;31mNameError\u001b[0m                                 Traceback (most recent call last)",
      "Cell \u001b[0;32mIn[27], line 2\u001b[0m\n\u001b[1;32m      1\u001b[0m \u001b[38;5;28;01mwith\u001b[39;00m torch\u001b[38;5;241m.\u001b[39mno_grad():\n\u001b[0;32m----> 2\u001b[0m     \u001b[38;5;28;01mfor\u001b[39;00m data, _ \u001b[38;5;129;01min\u001b[39;00m \u001b[43mtest_loader_bad\u001b[49m:\n\u001b[1;32m      3\u001b[0m         data \u001b[38;5;241m=\u001b[39m data\u001b[38;5;241m.\u001b[39mto(DEVICE)\n\u001b[1;32m      4\u001b[0m         recon \u001b[38;5;241m=\u001b[39m model(data)\n",
      "\u001b[0;31mNameError\u001b[0m: name 'test_loader_bad' is not defined"
     ]
    }
   ],
   "source": [
    "\n",
    "with torch.no_grad():\n",
    "    for data, _ in test_loader_bad:\n",
    "        data = data.to(DEVICE)\n",
    "        recon = model(data)\n",
    "        break\n",
    "\n",
    "import matplotlib.pyplot as plt\n",
    "plt.figure(dpi=250)\n",
    "fig, ax = plt.subplots(2, 7, figsize=(15, 4))\n",
    "for i in range(7):\n",
    "    ax[0, i].imshow(data[i].cpu().numpy().transpose((1, 2, 0)))\n",
    "    ax[1, i].imshow(recon[i].cpu().numpy().transpose((1, 2, 0)))\n",
    "    ax[0, i].axis('OFF')\n",
    "    ax[1, i].axis('OFF')\n",
    "plt.show()\n"
   ]
  },
  {
   "cell_type": "code",
   "execution_count": null,
   "metadata": {},
   "outputs": [],
   "source": [
    "fig.savefig(os.path.join(GRAPH_OUT, NET_NAME + '_anom_sample.png'))"
   ]
  },
  {
   "cell_type": "code",
   "execution_count": null,
   "metadata": {},
   "outputs": [],
   "source": [
    "def pearson_correlation(p1, p2):\n",
    "    return np.corrcoef(p1.flatten(), p2.flatten(), rowvar=False)[0][1]\n",
    "\n",
    "good_corr = list(map(pearson_correlation, data.cpu().numpy(), recon.cpu().numpy()))\n",
    "\n",
    "print(f'Pearson Correlation Coefficients:\\n\\\n",
    "    Min: {np.min(good_corr)}\\n\\\n",
    "    Median: {np.median(good_corr)}\\n\\\n",
    "    Max: {np.max(good_corr)}')"
   ]
  },
  {
   "cell_type": "code",
   "execution_count": null,
   "metadata": {},
   "outputs": [],
   "source": [
    "def euclidean_dist(p1, p2):\n",
    "    return np.linalg.norm(p1-p2)\n",
    "\n",
    "dists = list(map(euclidean_dist, data.cpu().numpy(), recon.cpu().numpy()))\n",
    "\n",
    "print(f'Euclidean Distances:\\n\\\n",
    "    Min: {np.min(dists)}\\n\\\n",
    "    Median: {np.median(dists)}\\n\\\n",
    "    Max: {np.max(dists)}')"
   ]
  },
  {
   "cell_type": "code",
   "execution_count": null,
   "metadata": {},
   "outputs": [],
   "source": [
    "def root_mean_squared_error(p1, p2):\n",
    "    return np.square(np.subtract(p1, p2)).mean()\n",
    "\n",
    "def stats(arr):\n",
    "    \"\"\"Calculates the IQR of array elements.\n",
    "\n",
    "    Args:\n",
    "        arr (np.array): array with numeric values\n",
    "\n",
    "    Returns:\n",
    "        float: IQR calculated from quartiles\n",
    "        float: lower bound for anomaly detection\n",
    "        float: higher bound for anomaly detection\n",
    "    \"\"\"\n",
    "    q75, q25 = np.percentile(arr, [75, 25])\n",
    "    iqr = q75 - q25\n",
    "    return iqr, q25 - 1.5 * iqr, q75 + 1.5 * iqr\n",
    "\n",
    "iqr, lower_bound, higher_bound = stats(list(map(pearson_correlation, data.cpu().numpy(), recon.cpu().numpy())))\n",
    "\n",
    "print(f'IQR: {iqr}\\nLower Bound: {lower_bound}\\nHigher Bound: {higher_bound}')"
   ]
  },
  {
   "cell_type": "code",
   "execution_count": null,
   "metadata": {},
   "outputs": [],
   "source": [
    "with torch.no_grad():\n",
    "    for img, _ in test_loader_good:\n",
    "        img = img.to(DEVICE)\n",
    "        recons = model(img)\n",
    "        break\n",
    "\n",
    "plt.figure(dpi=250)\n",
    "fig, ax = plt.subplots(2, 7, figsize=(15, 4))\n",
    "for i in range(7):\n",
    "    ax[0, i].imshow(img[i].cpu().numpy().transpose((1, 2, 0)))\n",
    "    ax[1, i].imshow(recons[i].cpu().numpy().transpose((1, 2, 0)))\n",
    "    ax[0, i].axis('OFF')\n",
    "    ax[1, i].axis('OFF')\n",
    "plt.show()"
   ]
  },
  {
   "cell_type": "code",
   "execution_count": null,
   "metadata": {},
   "outputs": [],
   "source": [
    "fig.savefig(os.path.join(GRAPH_OUT, NET_NAME + '_normal_sample.png'))"
   ]
  },
  {
   "cell_type": "code",
   "execution_count": null,
   "metadata": {},
   "outputs": [],
   "source": [
    "imgs = img.cpu().numpy()\n",
    "recons_list = recons.cpu().numpy()\n",
    "    \n",
    "iqr, lower_bound, higher_bound = stats(list(map(pearson_correlation, img.cpu().numpy(), recons.cpu().numpy())))\n",
    "print(f'IQR: {iqr}\\nLower Bound: {lower_bound}\\nHigher Bound: {higher_bound}')"
   ]
  },
  {
   "cell_type": "code",
   "execution_count": null,
   "metadata": {},
   "outputs": [],
   "source": [
    "bad_mse = list(map(pearson_correlation, data.cpu().numpy(), recon.cpu().numpy()))\n",
    "print(f'Mean Squared Error on Defects:\\n\\\n",
    "    Min: {np.min(bad_mse)}\\n\\\n",
    "    Median: {np.median(bad_mse)}\\n\\\n",
    "    Max: {np.max(bad_mse)}')"
   ]
  },
  {
   "cell_type": "code",
   "execution_count": null,
   "metadata": {},
   "outputs": [],
   "source": [
    "# plt.boxplot(list(map(root_mean_squared_error, img.cpu().numpy(), recons.cpu().numpy())))\n",
    "# plt.show\n",
    "import seaborn as sns\n",
    "\n",
    "fig, ax = plt.subplots(1, 2)\n",
    "sns.boxplot(list(map(pearson_correlation, data.cpu().numpy(), recon.cpu().numpy())), ax=ax[0])\n",
    "sns.boxplot(list(map(pearson_correlation, img.cpu().numpy(), recons.cpu().numpy())), ax=ax[1])\n",
    "fig.show()"
   ]
  },
  {
   "cell_type": "code",
   "execution_count": null,
   "metadata": {},
   "outputs": [],
   "source": [
    "fig, ax = plt.subplots(figsize=(6,6))\n",
    "bxp = sns.boxplot(list(map(pearson_correlation, img.cpu().numpy(), recons.cpu().numpy())))\n",
    "bxp.set(ylabel='Value', title=f'Pearson Correlation {NET_NAME}')\n",
    "sns.swarmplot(bad_mse, dodge=True)\n",
    "ax.hlines(lower_bound, -.3, .3, colors='red')\n",
    "sns.despine()"
   ]
  },
  {
   "cell_type": "code",
   "execution_count": null,
   "metadata": {},
   "outputs": [],
   "source": [
    "fig.savefig(os.path.join(GRAPH_OUT, NET_NAME + '.png'))"
   ]
  }
 ],
 "metadata": {
  "kernelspec": {
   "display_name": "mpt",
   "language": "python",
   "name": "python3"
  },
  "language_info": {
   "codemirror_mode": {
    "name": "ipython",
    "version": 3
   },
   "file_extension": ".py",
   "mimetype": "text/x-python",
   "name": "python",
   "nbconvert_exporter": "python",
   "pygments_lexer": "ipython3",
   "version": "3.9.18"
  }
 },
 "nbformat": 4,
 "nbformat_minor": 2
}
