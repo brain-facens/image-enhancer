{
 "cells": [
  {
   "cell_type": "markdown",
   "metadata": {},
   "source": [
    "# Pytorch Based Convolutional Autoencoders For Anomaly Detection\n",
    "useful links:\n",
    "- [Base autoencoder model](https://www.geeksforgeeks.org/denoising-autoencoders-in-machine-learning/)\n",
    "- [Batch Normalization Explained](https://towardsdatascience.com/batch-norm-explained-visually-how-it-works-and-why-neural-networks-need-it-b18919692739)\n",
    "- [Build a Neural Network in Pytorch](https://towardsdatascience.com/three-ways-to-build-a-neural-network-in-pytorch-8cea49f9a61a)\n",
    "- [Anomaly Detection With IQR](https://builtin.com/articles/1-5-iqr-rule)"
   ]
  },
  {
   "cell_type": "markdown",
   "metadata": {},
   "source": [
    "## Initial Setup"
   ]
  },
  {
   "cell_type": "code",
   "execution_count": 1,
   "metadata": {},
   "outputs": [
    {
     "name": "stderr",
     "output_type": "stream",
     "text": [
      "/home/nata-brain/miniconda3/envs/mpt/lib/python3.9/site-packages/tqdm/auto.py:21: TqdmWarning: IProgress not found. Please update jupyter and ipywidgets. See https://ipywidgets.readthedocs.io/en/stable/user_install.html\n",
      "  from .autonotebook import tqdm as notebook_tqdm\n"
     ]
    }
   ],
   "source": [
    "import os\n",
    "import matplotlib.pyplot as plt\n",
    "import numpy as np\n",
    "import seaborn as sns\n",
    "import torch\n",
    "\n",
    "from torch import nn, optim\n",
    "from torch.utils.data import DataLoader, random_split, Subset\n",
    "from torchvision import datasets\n",
    "from torchvision.transforms import v2\n",
    "from torchinfo import summary\n",
    "from tqdm.auto import tqdm"
   ]
  },
  {
   "cell_type": "markdown",
   "metadata": {},
   "source": [
    "# Check cuda availability"
   ]
  },
  {
   "cell_type": "code",
   "execution_count": 10,
   "metadata": {},
   "outputs": [
    {
     "data": {
      "text/plain": [
       "True"
      ]
     },
     "execution_count": 10,
     "metadata": {},
     "output_type": "execute_result"
    }
   ],
   "source": [
    "torch.cuda.is_available()"
   ]
  },
  {
   "cell_type": "markdown",
   "metadata": {},
   "source": [
    "# Set Parameters"
   ]
  },
  {
   "cell_type": "code",
   "execution_count": 21,
   "metadata": {},
   "outputs": [
    {
     "name": "stdout",
     "output_type": "stream",
     "text": [
      "cuda\n"
     ]
    }
   ],
   "source": [
    "# Env Parameters\n",
    "DATA_DIR='../datasets/cable_dataset_tester/images/dae_dataset'\n",
    "MODEL_OUT='../models'\n",
    "GRAPH_OUT='results'\n",
    "NET_NAME='cable_novelty_v2.pt'\n",
    "\n",
    "# Hyperparameters\n",
    "DEVICE = 'cuda'\n",
    "print(DEVICE)\n",
    "IMG_SHAPE = (300, 600, 1)\n",
    "\n",
    "BATCH_SIZE = 32 # originaly 16\n",
    "LATENT_DIM = 2\n",
    "LR = 3e-4\n",
    "EPOCHS = 5000\n",
    "\n",
    "os.makedirs(MODEL_OUT, exist_ok=True)\n",
    "os.makedirs(GRAPH_OUT, exist_ok=True)"
   ]
  },
  {
   "cell_type": "markdown",
   "metadata": {},
   "source": [
    "## Neural Network Definition"
   ]
  },
  {
   "cell_type": "code",
   "execution_count": 22,
   "metadata": {},
   "outputs": [],
   "source": [
    "class DAE(nn.Module):\n",
    "    def __init__(self, img_shape: tuple, latent_dim: int) -> None:\n",
    "        super(DAE, self).__init__()\n",
    "        self.img_shape = img_shape\n",
    "        \n",
    "        # Deep Neural Network\n",
    "        self.linear1 = nn.Linear(np.prod(img_shape), 128) # Applies an affine linear transformation to the incoming data: y = x.A^T + b.\n",
    "        self.linear2 = nn.Linear(128, 256)\n",
    "        self.linear3 = nn.Linear(256, 512)\n",
    "        self.linear4 = nn.Linear(512, 256)\n",
    "        self.linear5 = nn.Linear(256, 128)\n",
    "        self.linear6 = nn.Linear(128, np.prod(img_shape))\n",
    "        self.latent1 = nn.Linear(512, latent_dim)\n",
    "        self.latent2 = nn.Linear(latent_dim, 512)\n",
    "\n",
    "        self.relu = nn.LeakyReLU(negative_slope=.1, inplace=True)\n",
    "        self.tanh = nn.Tanh()\n",
    "    \n",
    "    def encode(self, x):\n",
    "        \"\"\"\n",
    "        Encoder Creation\n",
    "        \n",
    "        Args: \n",
    "            x - pixel value\n",
    "            \n",
    "        Return:\n",
    "            Vector encoded\n",
    "        \"\"\"\n",
    "        \n",
    "        h1 = self.relu(self.linear1(x))\n",
    "        h2 = self.relu(self.linear2(h1))\n",
    "        \n",
    "        return self.relu(self.linear3(h2)) # Encoded data\n",
    "    \n",
    "    def decoder(self, z):\n",
    "        \"\"\"\n",
    "        Decoder Creation\n",
    "        \n",
    "        Args: \n",
    "            z - pixel value\n",
    "            \n",
    "        Return:\n",
    "            Vector decoded \n",
    "        \"\"\"\n",
    "        \n",
    "        h4 = self.relu(self.linear4(z))\n",
    "        h5 = self.relu(self.linear5(h4))\n",
    "        \n",
    "        return self.tanh(self.linear6(h5)) # Decoded data\n",
    "        \n",
    "    def forward(self, img):\n",
    "        \"\"\"\n",
    "        Feedfoward function to get the reconstructed image\n",
    "        \n",
    "        Args: \n",
    "            img - image vector\n",
    "            \n",
    "        Return:\n",
    "            Reconstructed vector \n",
    "        \"\"\"\n",
    "        \n",
    "        og_shape = img.shape\n",
    "        img_flat = img.view(img.shape[0], -1)\n",
    "        z = self.encode(img_flat)\n",
    "        recon = self.decoder(z)\n",
    "        \n",
    "        return recon.view(og_shape) # Reconstructed image vector"
   ]
  },
  {
   "cell_type": "markdown",
   "metadata": {},
   "source": [
    "# Model creation "
   ]
  },
  {
   "cell_type": "code",
   "execution_count": 23,
   "metadata": {},
   "outputs": [
    {
     "name": "stdout",
     "output_type": "stream",
     "text": [
      "cuda\n"
     ]
    }
   ],
   "source": [
    "model = DAE(IMG_SHAPE, LATENT_DIM).to(DEVICE)\n",
    "print(DEVICE)"
   ]
  },
  {
   "cell_type": "code",
   "execution_count": 24,
   "metadata": {},
   "outputs": [
    {
     "data": {
      "text/plain": [
       "==========================================================================================\n",
       "Layer (type:depth-idx)                   Output Shape              Param #\n",
       "==========================================================================================\n",
       "DAE                                      [32, 1, 600, 300]         2,562\n",
       "├─Linear: 1-1                            [32, 128]                 23,040,128\n",
       "├─LeakyReLU: 1-2                         [32, 128]                 --\n",
       "├─Linear: 1-3                            [32, 256]                 33,024\n",
       "├─LeakyReLU: 1-4                         [32, 256]                 --\n",
       "├─Linear: 1-5                            [32, 512]                 131,584\n",
       "├─LeakyReLU: 1-6                         [32, 512]                 --\n",
       "├─Linear: 1-7                            [32, 256]                 131,328\n",
       "├─LeakyReLU: 1-8                         [32, 256]                 --\n",
       "├─Linear: 1-9                            [32, 128]                 32,896\n",
       "├─LeakyReLU: 1-10                        [32, 128]                 --\n",
       "├─Linear: 1-11                           [32, 180000]              23,220,000\n",
       "├─Tanh: 1-12                             [32, 180000]              --\n",
       "==========================================================================================\n",
       "Total params: 46,591,522\n",
       "Trainable params: 46,591,522\n",
       "Non-trainable params: 0\n",
       "Total mult-adds (G): 1.49\n",
       "==========================================================================================\n",
       "Input size (MB): 23.04\n",
       "Forward/backward pass size (MB): 46.41\n",
       "Params size (MB): 186.36\n",
       "Estimated Total Size (MB): 255.80\n",
       "=========================================================================================="
      ]
     },
     "execution_count": 24,
     "metadata": {},
     "output_type": "execute_result"
    }
   ],
   "source": [
    "summary(model, input_size=(BATCH_SIZE, 1, 600, 300))"
   ]
  },
  {
   "cell_type": "code",
   "execution_count": 25,
   "metadata": {},
   "outputs": [],
   "source": [
    "# loss and optimizer\n",
    "criterion = nn.MSELoss()\n",
    "optimizer = optim.Adam(model.parameters(), lr=LR)"
   ]
  },
  {
   "cell_type": "code",
   "execution_count": 26,
   "metadata": {},
   "outputs": [],
   "source": [
    "class EarlyStopping:\n",
    "    def __init__(self, patience:int=5, min_delta:int=0) -> None:\n",
    "        self.patience = patience\n",
    "        self.min_delta = min_delta\n",
    "        self.counter = 0\n",
    "        self.min_val_loss = float('inf')\n",
    "    \n",
    "    def early_stop(self, val_loss):\n",
    "        if val_loss < self.min_val_loss:\n",
    "            self.min_val_loss = val_loss\n",
    "            self.counter = 0\n",
    "        elif val_loss > (self.min_val_loss + self.min_delta):\n",
    "            self.counter += 1\n",
    "            if self.counter >= self.patience:\n",
    "                return True\n",
    "        return False"
   ]
  },
  {
   "cell_type": "markdown",
   "metadata": {},
   "source": [
    "## Loading The Data"
   ]
  },
  {
   "cell_type": "code",
   "execution_count": 27,
   "metadata": {},
   "outputs": [],
   "source": [
    "img_transforms = v2.Compose([\n",
    "    v2.Resize(IMG_SHAPE[:-1]),\n",
    "    v2.Grayscale(),\n",
    "    v2.ToImage(),\n",
    "    v2.ToDtype(torch.float32, scale=True)\n",
    "])\n",
    "\n",
    "train_set = datasets.ImageFolder(\n",
    "    os.path.join(DATA_DIR, 'train'), \n",
    "    transform=img_transforms)\n",
    "\n",
    "train_set, val_set = random_split(train_set, [.7,.3])"
   ]
  },
  {
   "cell_type": "code",
   "execution_count": 28,
   "metadata": {},
   "outputs": [],
   "source": [
    "train_loader = DataLoader(train_set, BATCH_SIZE, shuffle=True, drop_last=True)\n",
    "val_loader = DataLoader(val_set, BATCH_SIZE, shuffle=False)"
   ]
  },
  {
   "cell_type": "markdown",
   "metadata": {},
   "source": [
    "## Training"
   ]
  },
  {
   "cell_type": "code",
   "execution_count": 29,
   "metadata": {},
   "outputs": [],
   "source": [
    "class AutoSave:\n",
    "    def __init__(self, filename: str) -> None:\n",
    "        if not filename.endswith('.pt'):\n",
    "            filename += '.pt'\n",
    "        self.filename = filename\n",
    "        self.best_loss = float('inf')\n",
    "        \n",
    "    def check_save(self, model, val_loss):\n",
    "        if val_loss < self.best_loss:\n",
    "            self.best_loss = val_loss\n",
    "            torch.save(model.state_dict(), \n",
    "                       os.path.join(MODEL_OUT, self.filename))"
   ]
  },
  {
   "cell_type": "code",
   "execution_count": 30,
   "metadata": {},
   "outputs": [
    {
     "name": "stderr",
     "output_type": "stream",
     "text": [
      "Model Training Progress:   0%|          | 1/5000 [00:24<34:31:29, 24.86s/it, Train Loss=1.19, Validation Loss=0.693]"
     ]
    },
    {
     "name": "stdout",
     "output_type": "stream",
     "text": [
      "Epoch 1/5000 -> Train loss: 1.1931875901435738,         Validation loss: 0.693364061622156\n"
     ]
    },
    {
     "name": "stderr",
     "output_type": "stream",
     "text": [
      "Model Training Progress:   0%|          | 1/5000 [00:48<34:31:29, 24.86s/it, Train Loss=0.632, Validation Loss=0.548]"
     ]
    },
    {
     "name": "stdout",
     "output_type": "stream",
     "text": [
      "Epoch 2/5000 -> Train loss: 0.632257802006024,         Validation loss: 0.5478468073868297\n"
     ]
    },
    {
     "name": "stderr",
     "output_type": "stream",
     "text": [
      "Model Training Progress:   0%|          | 2/5000 [01:15<35:11:30, 25.35s/it, Train Loss=0.508, Validation Loss=0.457]"
     ]
    },
    {
     "name": "stdout",
     "output_type": "stream",
     "text": [
      "Epoch 3/5000 -> Train loss: 0.5077518335918882,         Validation loss: 0.45687990660856787\n"
     ]
    },
    {
     "name": "stderr",
     "output_type": "stream",
     "text": [
      "Model Training Progress:   0%|          | 3/5000 [01:42<36:07:30, 26.03s/it, Train Loss=0.436, Validation Loss=0.394]"
     ]
    },
    {
     "name": "stdout",
     "output_type": "stream",
     "text": [
      "Epoch 4/5000 -> Train loss: 0.43559567385645054,         Validation loss: 0.39380143348696744\n"
     ]
    },
    {
     "name": "stderr",
     "output_type": "stream",
     "text": [
      "Model Training Progress:   0%|          | 4/5000 [02:08<36:37:15, 26.39s/it, Train Loss=0.377, Validation Loss=0.349]"
     ]
    },
    {
     "name": "stdout",
     "output_type": "stream",
     "text": [
      "Epoch 5/5000 -> Train loss: 0.3767799329401842,         Validation loss: 0.34862933307239374\n"
     ]
    },
    {
     "name": "stderr",
     "output_type": "stream",
     "text": [
      "Model Training Progress:   0%|          | 5/5000 [02:34<36:24:34, 26.24s/it, Train Loss=0.338, Validation Loss=0.319]"
     ]
    },
    {
     "name": "stdout",
     "output_type": "stream",
     "text": [
      "Epoch 6/5000 -> Train loss: 0.338393199933109,         Validation loss: 0.31908389363929424\n"
     ]
    },
    {
     "name": "stderr",
     "output_type": "stream",
     "text": [
      "Model Training Progress:   0%|          | 6/5000 [03:00<36:25:59, 26.26s/it, Train Loss=0.314, Validation Loss=0.301]"
     ]
    },
    {
     "name": "stdout",
     "output_type": "stream",
     "text": [
      "Epoch 7/5000 -> Train loss: 0.3139214827943204,         Validation loss: 0.30066035059280694\n"
     ]
    },
    {
     "name": "stderr",
     "output_type": "stream",
     "text": [
      "Model Training Progress:   0%|          | 7/5000 [03:26<36:21:42, 26.22s/it, Train Loss=0.296, Validation Loss=0.285]"
     ]
    },
    {
     "name": "stdout",
     "output_type": "stream",
     "text": [
      "Epoch 8/5000 -> Train loss: 0.2958134796637208,         Validation loss: 0.28536493262638235\n"
     ]
    },
    {
     "name": "stderr",
     "output_type": "stream",
     "text": [
      "Model Training Progress:   0%|          | 8/5000 [03:54<36:14:50, 26.14s/it, Train Loss=0.281, Validation Loss=0.269]"
     ]
    },
    {
     "name": "stdout",
     "output_type": "stream",
     "text": [
      "Epoch 9/5000 -> Train loss: 0.28143479205779176,         Validation loss: 0.26924963030291515\n"
     ]
    },
    {
     "name": "stderr",
     "output_type": "stream",
     "text": [
      "Model Training Progress:   0%|          | 9/5000 [04:20<36:56:22, 26.64s/it, Train Loss=0.267, Validation Loss=0.257]"
     ]
    },
    {
     "name": "stdout",
     "output_type": "stream",
     "text": [
      "Epoch 10/5000 -> Train loss: 0.26714066235876793,         Validation loss: 0.2570277586120129\n"
     ]
    },
    {
     "name": "stderr",
     "output_type": "stream",
     "text": [
      "Model Training Progress:   0%|          | 10/5000 [04:48<37:31:07, 27.07s/it, Train Loss=0.256, Validation Loss=0.249]"
     ]
    },
    {
     "name": "stdout",
     "output_type": "stream",
     "text": [
      "Epoch 11/5000 -> Train loss: 0.25560223647017977,         Validation loss: 0.2491269484194668\n"
     ]
    },
    {
     "name": "stderr",
     "output_type": "stream",
     "text": [
      "Model Training Progress:   0%|          | 11/5000 [05:14<36:57:18, 26.67s/it, Train Loss=0.246, Validation Loss=0.239]"
     ]
    },
    {
     "name": "stdout",
     "output_type": "stream",
     "text": [
      "Epoch 12/5000 -> Train loss: 0.24588505354390217,         Validation loss: 0.23896299957090783\n"
     ]
    },
    {
     "name": "stderr",
     "output_type": "stream",
     "text": [
      "Model Training Progress:   0%|          | 12/5000 [05:40<36:51:16, 26.60s/it, Train Loss=0.239, Validation Loss=0.232]"
     ]
    },
    {
     "name": "stdout",
     "output_type": "stream",
     "text": [
      "Epoch 13/5000 -> Train loss: 0.23857978053057372,         Validation loss: 0.2323546894476749\n"
     ]
    },
    {
     "name": "stderr",
     "output_type": "stream",
     "text": [
      "Model Training Progress:   0%|          | 13/5000 [06:06<36:29:48, 26.35s/it, Train Loss=0.232, Validation Loss=0.225]"
     ]
    },
    {
     "name": "stdout",
     "output_type": "stream",
     "text": [
      "Epoch 14/5000 -> Train loss: 0.23174133754488246,         Validation loss: 0.22538934945866154\n"
     ]
    },
    {
     "name": "stderr",
     "output_type": "stream",
     "text": [
      "Model Training Progress:   0%|          | 14/5000 [06:32<36:22:27, 26.26s/it, Train Loss=0.226, Validation Loss=0.22] "
     ]
    },
    {
     "name": "stdout",
     "output_type": "stream",
     "text": [
      "Epoch 15/5000 -> Train loss: 0.22575918329295827,         Validation loss: 0.21989722869734074\n"
     ]
    },
    {
     "name": "stderr",
     "output_type": "stream",
     "text": [
      "Model Training Progress:   0%|          | 15/5000 [06:58<36:08:07, 26.10s/it, Train Loss=0.22, Validation Loss=0.214]"
     ]
    },
    {
     "name": "stdout",
     "output_type": "stream",
     "text": [
      "Epoch 16/5000 -> Train loss: 0.22007177961406424,         Validation loss: 0.21435697268397133\n"
     ]
    },
    {
     "name": "stderr",
     "output_type": "stream",
     "text": [
      "Model Training Progress:   0%|          | 16/5000 [07:24<36:13:01, 26.16s/it, Train Loss=0.216, Validation Loss=0.211]"
     ]
    },
    {
     "name": "stdout",
     "output_type": "stream",
     "text": [
      "Epoch 17/5000 -> Train loss: 0.21556465710276987,         Validation loss: 0.2108945245498843\n"
     ]
    },
    {
     "name": "stderr",
     "output_type": "stream",
     "text": [
      "Model Training Progress:   0%|          | 17/5000 [07:50<36:15:35, 26.20s/it, Train Loss=0.21, Validation Loss=0.206] "
     ]
    },
    {
     "name": "stdout",
     "output_type": "stream",
     "text": [
      "Epoch 18/5000 -> Train loss: 0.2104839764869035,         Validation loss: 0.2059053018068274\n"
     ]
    },
    {
     "name": "stderr",
     "output_type": "stream",
     "text": [
      "Model Training Progress:   0%|          | 18/5000 [08:17<36:24:17, 26.31s/it, Train Loss=0.207, Validation Loss=0.203]"
     ]
    },
    {
     "name": "stdout",
     "output_type": "stream",
     "text": [
      "Epoch 19/5000 -> Train loss: 0.20696237923494026,         Validation loss: 0.20331367262406275\n"
     ]
    },
    {
     "name": "stderr",
     "output_type": "stream",
     "text": [
      "Model Training Progress:   0%|          | 19/5000 [08:42<35:59:22, 26.01s/it, Train Loss=0.203, Validation Loss=0.2]  "
     ]
    },
    {
     "name": "stdout",
     "output_type": "stream",
     "text": [
      "Epoch 20/5000 -> Train loss: 0.20277652086606665,         Validation loss: 0.19996251112186453\n"
     ]
    },
    {
     "name": "stderr",
     "output_type": "stream",
     "text": [
      "Model Training Progress:   0%|          | 20/5000 [09:08<35:46:37, 25.86s/it, Train Loss=0.2, Validation Loss=0.197]"
     ]
    },
    {
     "name": "stdout",
     "output_type": "stream",
     "text": [
      "Epoch 21/5000 -> Train loss: 0.19988158972405676,         Validation loss: 0.19658765460351585\n"
     ]
    },
    {
     "name": "stderr",
     "output_type": "stream",
     "text": [
      "Model Training Progress:   0%|          | 21/5000 [09:34<36:06:08, 26.10s/it, Train Loss=0.196, Validation Loss=0.194]"
     ]
    },
    {
     "name": "stdout",
     "output_type": "stream",
     "text": [
      "Epoch 22/5000 -> Train loss: 0.19649647354190028,         Validation loss: 0.19372458949348786\n"
     ]
    },
    {
     "name": "stderr",
     "output_type": "stream",
     "text": [
      "Model Training Progress:   0%|          | 22/5000 [09:59<35:47:29, 25.88s/it, Train Loss=0.194, Validation Loss=0.19] "
     ]
    },
    {
     "name": "stdout",
     "output_type": "stream",
     "text": [
      "Epoch 23/5000 -> Train loss: 0.19365144683353935,         Validation loss: 0.19046590090470594\n"
     ]
    },
    {
     "name": "stderr",
     "output_type": "stream",
     "text": [
      "Model Training Progress:   0%|          | 23/5000 [10:25<35:46:00, 25.87s/it, Train Loss=0.191, Validation Loss=0.19] "
     ]
    },
    {
     "name": "stdout",
     "output_type": "stream",
     "text": [
      "Epoch 24/5000 -> Train loss: 0.19077627311891585,         Validation loss: 0.1897941238809532\n"
     ]
    },
    {
     "name": "stderr",
     "output_type": "stream",
     "text": [
      "Model Training Progress:   0%|          | 24/5000 [10:51<35:35:40, 25.75s/it, Train Loss=0.189, Validation Loss=0.187]"
     ]
    },
    {
     "name": "stdout",
     "output_type": "stream",
     "text": [
      "Epoch 25/5000 -> Train loss: 0.18864182313876365,         Validation loss: 0.18727760130099746\n"
     ]
    },
    {
     "name": "stderr",
     "output_type": "stream",
     "text": [
      "Model Training Progress:   0%|          | 25/5000 [11:16<35:25:06, 25.63s/it, Train Loss=0.186, Validation Loss=0.184]"
     ]
    },
    {
     "name": "stdout",
     "output_type": "stream",
     "text": [
      "Epoch 26/5000 -> Train loss: 0.18640309145201497,         Validation loss: 0.18357888185548493\n"
     ]
    },
    {
     "name": "stderr",
     "output_type": "stream",
     "text": [
      "Model Training Progress:   1%|          | 26/5000 [11:41<35:21:39, 25.59s/it, Train Loss=0.184, Validation Loss=0.183]"
     ]
    },
    {
     "name": "stdout",
     "output_type": "stream",
     "text": [
      "Epoch 27/5000 -> Train loss: 0.18402340494429886,         Validation loss: 0.18255259250549394\n"
     ]
    },
    {
     "name": "stderr",
     "output_type": "stream",
     "text": [
      "Model Training Progress:   1%|          | 27/5000 [12:05<34:50:03, 25.22s/it, Train Loss=0.182, Validation Loss=0.18] "
     ]
    },
    {
     "name": "stdout",
     "output_type": "stream",
     "text": [
      "Epoch 28/5000 -> Train loss: 0.18168778884321896,         Validation loss: 0.1798144586403699\n"
     ]
    },
    {
     "name": "stderr",
     "output_type": "stream",
     "text": [
      "Model Training Progress:   1%|          | 28/5000 [12:29<34:35:02, 25.04s/it, Train Loss=0.179, Validation Loss=0.178]"
     ]
    },
    {
     "name": "stdout",
     "output_type": "stream",
     "text": [
      "Epoch 29/5000 -> Train loss: 0.17906091609107913,         Validation loss: 0.17771126266840534\n"
     ]
    },
    {
     "name": "stderr",
     "output_type": "stream",
     "text": [
      "Model Training Progress:   1%|          | 29/5000 [12:53<34:10:17, 24.75s/it, Train Loss=0.178, Validation Loss=0.177]"
     ]
    },
    {
     "name": "stdout",
     "output_type": "stream",
     "text": [
      "Epoch 30/5000 -> Train loss: 0.1779811372507864,         Validation loss: 0.17691873217376675\n"
     ]
    },
    {
     "name": "stderr",
     "output_type": "stream",
     "text": [
      "Model Training Progress:   1%|          | 30/5000 [13:17<33:40:41, 24.39s/it, Train Loss=0.175, Validation Loss=0.174]"
     ]
    },
    {
     "name": "stdout",
     "output_type": "stream",
     "text": [
      "Epoch 31/5000 -> Train loss: 0.17531965050234724,         Validation loss: 0.17420954659529445\n"
     ]
    },
    {
     "name": "stderr",
     "output_type": "stream",
     "text": [
      "Model Training Progress:   1%|          | 31/5000 [13:41<33:25:09, 24.21s/it, Train Loss=0.173, Validation Loss=0.172]"
     ]
    },
    {
     "name": "stdout",
     "output_type": "stream",
     "text": [
      "Epoch 32/5000 -> Train loss: 0.17301047942531642,         Validation loss: 0.17234450565431164\n"
     ]
    },
    {
     "name": "stderr",
     "output_type": "stream",
     "text": [
      "Model Training Progress:   1%|          | 32/5000 [14:05<33:24:08, 24.20s/it, Train Loss=0.172, Validation Loss=0.172]"
     ]
    },
    {
     "name": "stdout",
     "output_type": "stream",
     "text": [
      "Epoch 33/5000 -> Train loss: 0.17163642073300348,         Validation loss: 0.1716004698084564\n"
     ]
    },
    {
     "name": "stderr",
     "output_type": "stream",
     "text": [
      "Model Training Progress:   1%|          | 33/5000 [14:31<33:30:51, 24.29s/it, Train Loss=0.17, Validation Loss=0.169] "
     ]
    },
    {
     "name": "stdout",
     "output_type": "stream",
     "text": [
      "Epoch 34/5000 -> Train loss: 0.16977579807167623,         Validation loss: 0.16947046713903546\n"
     ]
    },
    {
     "name": "stderr",
     "output_type": "stream",
     "text": [
      "Model Training Progress:   1%|          | 34/5000 [14:56<33:47:04, 24.49s/it, Train Loss=0.168, Validation Loss=0.168]"
     ]
    },
    {
     "name": "stdout",
     "output_type": "stream",
     "text": [
      "Epoch 35/5000 -> Train loss: 0.16784337692296328,         Validation loss: 0.1682421596746685\n"
     ]
    },
    {
     "name": "stderr",
     "output_type": "stream",
     "text": [
      "Model Training Progress:   1%|          | 35/5000 [15:23<34:55:05, 25.32s/it, Train Loss=0.166, Validation Loss=0.166]"
     ]
    },
    {
     "name": "stdout",
     "output_type": "stream",
     "text": [
      "Epoch 36/5000 -> Train loss: 0.16642386530762288,         Validation loss: 0.16560820487211458\n"
     ]
    },
    {
     "name": "stderr",
     "output_type": "stream",
     "text": [
      "Model Training Progress:   1%|          | 36/5000 [15:48<34:55:38, 25.33s/it, Train Loss=0.165, Validation Loss=0.165]"
     ]
    },
    {
     "name": "stdout",
     "output_type": "stream",
     "text": [
      "Epoch 37/5000 -> Train loss: 0.1646841524252251,         Validation loss: 0.16500019382349113\n"
     ]
    },
    {
     "name": "stderr",
     "output_type": "stream",
     "text": [
      "Model Training Progress:   1%|          | 37/5000 [16:13<34:54:27, 25.32s/it, Train Loss=0.164, Validation Loss=0.164]"
     ]
    },
    {
     "name": "stdout",
     "output_type": "stream",
     "text": [
      "Epoch 38/5000 -> Train loss: 0.16363268743700055,         Validation loss: 0.16385812673252076\n"
     ]
    },
    {
     "name": "stderr",
     "output_type": "stream",
     "text": [
      "Model Training Progress:   1%|          | 38/5000 [16:38<34:52:38, 25.30s/it, Train Loss=0.162, Validation Loss=0.162]"
     ]
    },
    {
     "name": "stdout",
     "output_type": "stream",
     "text": [
      "Epoch 39/5000 -> Train loss: 0.16202448906738368,         Validation loss: 0.1622353955107327\n"
     ]
    },
    {
     "name": "stderr",
     "output_type": "stream",
     "text": [
      "Model Training Progress:   1%|          | 39/5000 [17:03<34:47:23, 25.25s/it, Train Loss=0.161, Validation Loss=0.161]"
     ]
    },
    {
     "name": "stdout",
     "output_type": "stream",
     "text": [
      "Epoch 40/5000 -> Train loss: 0.16059816303982663,         Validation loss: 0.1610939491721284\n"
     ]
    },
    {
     "name": "stderr",
     "output_type": "stream",
     "text": [
      "Model Training Progress:   1%|          | 40/5000 [17:29<34:47:52, 25.26s/it, Train Loss=0.159, Validation Loss=0.16] "
     ]
    },
    {
     "name": "stdout",
     "output_type": "stream",
     "text": [
      "Epoch 41/5000 -> Train loss: 0.15948255313421364,         Validation loss: 0.16028167261134108\n"
     ]
    },
    {
     "name": "stderr",
     "output_type": "stream",
     "text": [
      "Model Training Progress:   1%|          | 41/5000 [17:54<34:53:21, 25.33s/it, Train Loss=0.158, Validation Loss=0.158]"
     ]
    },
    {
     "name": "stdout",
     "output_type": "stream",
     "text": [
      "Epoch 42/5000 -> Train loss: 0.15826328688148242,         Validation loss: 0.1583212305914559\n"
     ]
    },
    {
     "name": "stderr",
     "output_type": "stream",
     "text": [
      "Model Training Progress:   1%|          | 43/5000 [18:20<34:02:22, 24.72s/it, Step=4, Train Loss=0.162]               "
     ]
    },
    {
     "name": "stdout",
     "output_type": "stream",
     "text": [
      "Epoch 43/5000 -> Train loss: 0.15718332887140674,         Validation loss: 0.15872379575092863\n"
     ]
    },
    {
     "name": "stderr",
     "output_type": "stream",
     "text": [
      "Model Training Progress:   1%|          | 43/5000 [18:43<34:02:22, 24.72s/it, Train Loss=0.156, Validation Loss=0.157]"
     ]
    },
    {
     "name": "stdout",
     "output_type": "stream",
     "text": [
      "Epoch 44/5000 -> Train loss: 0.1557671064316337,         Validation loss: 0.1570269949022784\n"
     ]
    },
    {
     "name": "stderr",
     "output_type": "stream",
     "text": [
      "Model Training Progress:   1%|          | 44/5000 [19:09<34:24:42, 25.00s/it, Train Loss=0.155, Validation Loss=0.155]"
     ]
    },
    {
     "name": "stdout",
     "output_type": "stream",
     "text": [
      "Epoch 45/5000 -> Train loss: 0.15469521973560105,         Validation loss: 0.15527862893132907\n"
     ]
    },
    {
     "name": "stderr",
     "output_type": "stream",
     "text": [
      "Model Training Progress:   1%|          | 45/5000 [19:34<34:45:16, 25.25s/it, Train Loss=0.154, Validation Loss=0.154]"
     ]
    },
    {
     "name": "stdout",
     "output_type": "stream",
     "text": [
      "Epoch 46/5000 -> Train loss: 0.15358456737959564,         Validation loss: 0.15392544283208232\n"
     ]
    },
    {
     "name": "stderr",
     "output_type": "stream",
     "text": [
      "Model Training Progress:   1%|          | 46/5000 [20:00<34:45:17, 25.26s/it, Train Loss=0.153, Validation Loss=0.153]"
     ]
    },
    {
     "name": "stdout",
     "output_type": "stream",
     "text": [
      "Epoch 47/5000 -> Train loss: 0.1527652322578786,         Validation loss: 0.15309525048360229\n"
     ]
    },
    {
     "name": "stderr",
     "output_type": "stream",
     "text": [
      "Model Training Progress:   1%|          | 47/5000 [20:29<36:06:21, 26.24s/it, Train Loss=0.152, Validation Loss=0.152]"
     ]
    },
    {
     "name": "stdout",
     "output_type": "stream",
     "text": [
      "Epoch 48/5000 -> Train loss: 0.15157099988923145,         Validation loss: 0.15236502572790617\n"
     ]
    },
    {
     "name": "stderr",
     "output_type": "stream",
     "text": [
      "Model Training Progress:   1%|          | 48/5000 [20:56<36:48:45, 26.76s/it, Train Loss=0.151, Validation Loss=0.152]"
     ]
    },
    {
     "name": "stdout",
     "output_type": "stream",
     "text": [
      "Epoch 49/5000 -> Train loss: 0.15080473418556042,         Validation loss: 0.15196921422547247\n"
     ]
    },
    {
     "name": "stderr",
     "output_type": "stream",
     "text": [
      "Model Training Progress:   1%|          | 49/5000 [21:24<37:09:36, 27.02s/it, Train Loss=0.15, Validation Loss=0.152] "
     ]
    },
    {
     "name": "stdout",
     "output_type": "stream",
     "text": [
      "Epoch 50/5000 -> Train loss: 0.14964469435499675,         Validation loss: 0.15155841498118308\n"
     ]
    },
    {
     "name": "stderr",
     "output_type": "stream",
     "text": [
      "Model Training Progress:   1%|          | 50/5000 [21:51<37:00:27, 26.91s/it, Train Loss=0.149, Validation Loss=0.15] "
     ]
    },
    {
     "name": "stdout",
     "output_type": "stream",
     "text": [
      "Epoch 51/5000 -> Train loss: 0.14905358390576803,         Validation loss: 0.15010697995118485\n"
     ]
    },
    {
     "name": "stderr",
     "output_type": "stream",
     "text": [
      "Model Training Progress:   1%|          | 51/5000 [22:16<36:18:12, 26.41s/it, Train Loss=0.148, Validation Loss=0.149]"
     ]
    },
    {
     "name": "stdout",
     "output_type": "stream",
     "text": [
      "Epoch 52/5000 -> Train loss: 0.14773105024846633,         Validation loss: 0.14932642241668267\n"
     ]
    },
    {
     "name": "stderr",
     "output_type": "stream",
     "text": [
      "Model Training Progress:   1%|          | 52/5000 [22:41<35:34:47, 25.89s/it, Train Loss=0.147, Validation Loss=0.149]"
     ]
    },
    {
     "name": "stdout",
     "output_type": "stream",
     "text": [
      "Epoch 53/5000 -> Train loss: 0.1471668957329508,         Validation loss: 0.14872176798396847\n"
     ]
    },
    {
     "name": "stderr",
     "output_type": "stream",
     "text": [
      "Model Training Progress:   1%|          | 54/5000 [23:07<34:39:07, 25.22s/it, Step=4, Train Loss=0.151]               "
     ]
    },
    {
     "name": "stdout",
     "output_type": "stream",
     "text": [
      "Epoch 54/5000 -> Train loss: 0.14692190100452793,         Validation loss: 0.14902745984080765\n"
     ]
    },
    {
     "name": "stderr",
     "output_type": "stream",
     "text": [
      "Model Training Progress:   1%|          | 54/5000 [23:30<34:39:07, 25.22s/it, Train Loss=0.146, Validation Loss=0.147]"
     ]
    },
    {
     "name": "stdout",
     "output_type": "stream",
     "text": [
      "Epoch 55/5000 -> Train loss: 0.14561900881244175,         Validation loss: 0.1472311072575394\n"
     ]
    },
    {
     "name": "stderr",
     "output_type": "stream",
     "text": [
      "Model Training Progress:   1%|          | 55/5000 [23:55<34:36:34, 25.20s/it, Train Loss=0.145, Validation Loss=0.147]"
     ]
    },
    {
     "name": "stdout",
     "output_type": "stream",
     "text": [
      "Epoch 56/5000 -> Train loss: 0.14512459947102105,         Validation loss: 0.14663541665585297\n"
     ]
    },
    {
     "name": "stderr",
     "output_type": "stream",
     "text": [
      "Model Training Progress:   1%|          | 57/5000 [24:21<33:50:34, 24.65s/it, Step=3, Train Loss=0.139]               "
     ]
    },
    {
     "name": "stdout",
     "output_type": "stream",
     "text": [
      "Epoch 57/5000 -> Train loss: 0.14426248320447865,         Validation loss: 0.14707191138748182\n"
     ]
    },
    {
     "name": "stderr",
     "output_type": "stream",
     "text": [
      "Model Training Progress:   1%|          | 57/5000 [24:44<33:50:34, 24.65s/it, Train Loss=0.144, Validation Loss=0.146]"
     ]
    },
    {
     "name": "stdout",
     "output_type": "stream",
     "text": [
      "Epoch 58/5000 -> Train loss: 0.1439813554509362,         Validation loss: 0.14612164900689903\n"
     ]
    },
    {
     "name": "stderr",
     "output_type": "stream",
     "text": [
      "Model Training Progress:   1%|          | 58/5000 [25:09<34:10:36, 24.90s/it, Train Loss=0.143, Validation Loss=0.146]"
     ]
    },
    {
     "name": "stdout",
     "output_type": "stream",
     "text": [
      "Epoch 59/5000 -> Train loss: 0.1432208064331937,         Validation loss: 0.1455409125644817\n"
     ]
    },
    {
     "name": "stderr",
     "output_type": "stream",
     "text": [
      "Model Training Progress:   1%|          | 59/5000 [25:36<34:54:16, 25.43s/it, Train Loss=0.143, Validation Loss=0.145]"
     ]
    },
    {
     "name": "stdout",
     "output_type": "stream",
     "text": [
      "Epoch 60/5000 -> Train loss: 0.1425668729997393,         Validation loss: 0.14450162989022727\n"
     ]
    },
    {
     "name": "stderr",
     "output_type": "stream",
     "text": [
      "Model Training Progress:   1%|          | 60/5000 [26:02<35:08:01, 25.60s/it, Train Loss=0.142, Validation Loss=0.144]"
     ]
    },
    {
     "name": "stdout",
     "output_type": "stream",
     "text": [
      "Epoch 61/5000 -> Train loss: 0.14174894047762032,         Validation loss: 0.14417615372803994\n"
     ]
    },
    {
     "name": "stderr",
     "output_type": "stream",
     "text": [
      "Model Training Progress:   1%|          | 62/5000 [26:28<34:07:58, 24.88s/it, Step=4, Train Loss=0.132]               "
     ]
    },
    {
     "name": "stdout",
     "output_type": "stream",
     "text": [
      "Epoch 62/5000 -> Train loss: 0.14159244127682785,         Validation loss: 0.14420134469724466\n"
     ]
    },
    {
     "name": "stderr",
     "output_type": "stream",
     "text": [
      "Model Training Progress:   1%|          | 62/5000 [26:51<34:07:58, 24.88s/it, Train Loss=0.141, Validation Loss=0.143]"
     ]
    },
    {
     "name": "stdout",
     "output_type": "stream",
     "text": [
      "Epoch 63/5000 -> Train loss: 0.14073110638714548,         Validation loss: 0.14294261470139544\n"
     ]
    },
    {
     "name": "stderr",
     "output_type": "stream",
     "text": [
      "Model Training Progress:   1%|▏         | 64/5000 [27:16<33:33:05, 24.47s/it, Step=4, Train Loss=0.151]               "
     ]
    },
    {
     "name": "stdout",
     "output_type": "stream",
     "text": [
      "Epoch 64/5000 -> Train loss: 0.14037228173284388,         Validation loss: 0.143031580706722\n"
     ]
    },
    {
     "name": "stderr",
     "output_type": "stream",
     "text": [
      "Model Training Progress:   1%|▏         | 64/5000 [27:39<33:33:05, 24.47s/it, Train Loss=0.14, Validation Loss=0.142]"
     ]
    },
    {
     "name": "stdout",
     "output_type": "stream",
     "text": [
      "Epoch 65/5000 -> Train loss: 0.13994665882035867,         Validation loss: 0.14220664301279207\n"
     ]
    },
    {
     "name": "stderr",
     "output_type": "stream",
     "text": [
      "Model Training Progress:   1%|▏         | 65/5000 [28:06<34:14:09, 24.97s/it, Train Loss=0.14, Validation Loss=0.142]"
     ]
    },
    {
     "name": "stdout",
     "output_type": "stream",
     "text": [
      "Epoch 66/5000 -> Train loss: 0.13972278955712247,         Validation loss: 0.1420308829142919\n"
     ]
    },
    {
     "name": "stderr",
     "output_type": "stream",
     "text": [
      "Model Training Progress:   1%|▏         | 66/5000 [28:32<34:34:30, 25.23s/it, Train Loss=0.139, Validation Loss=0.142]"
     ]
    },
    {
     "name": "stdout",
     "output_type": "stream",
     "text": [
      "Epoch 67/5000 -> Train loss: 0.13871304977740814,         Validation loss: 0.14189936680486426\n"
     ]
    },
    {
     "name": "stderr",
     "output_type": "stream",
     "text": [
      "Model Training Progress:   1%|▏         | 68/5000 [28:57<33:56:54, 24.78s/it, Step=3, Train Loss=0.139]               "
     ]
    },
    {
     "name": "stdout",
     "output_type": "stream",
     "text": [
      "Epoch 68/5000 -> Train loss: 0.13822011498372946,         Validation loss: 0.14209770383766024\n"
     ]
    },
    {
     "name": "stderr",
     "output_type": "stream",
     "text": [
      "Model Training Progress:   1%|▏         | 68/5000 [29:20<33:56:54, 24.78s/it, Train Loss=0.138, Validation Loss=0.141]"
     ]
    },
    {
     "name": "stdout",
     "output_type": "stream",
     "text": [
      "Epoch 69/5000 -> Train loss: 0.13765352595208297,         Validation loss: 0.14119515953158648\n"
     ]
    },
    {
     "name": "stderr",
     "output_type": "stream",
     "text": [
      "Model Training Progress:   1%|▏         | 69/5000 [29:46<34:07:39, 24.92s/it, Train Loss=0.137, Validation Loss=0.14] "
     ]
    },
    {
     "name": "stdout",
     "output_type": "stream",
     "text": [
      "Epoch 70/5000 -> Train loss: 0.13741928181096688,         Validation loss: 0.1397380005607071\n"
     ]
    },
    {
     "name": "stderr",
     "output_type": "stream",
     "text": [
      "Model Training Progress:   1%|▏         | 71/5000 [30:13<34:09:06, 24.94s/it, Step=3, Train Loss=0.135]               "
     ]
    },
    {
     "name": "stdout",
     "output_type": "stream",
     "text": [
      "Epoch 71/5000 -> Train loss: 0.13686881470146464,         Validation loss: 0.14005269152888408\n"
     ]
    },
    {
     "name": "stderr",
     "output_type": "stream",
     "text": [
      "Model Training Progress:   1%|▏         | 71/5000 [30:37<34:09:06, 24.94s/it, Train Loss=0.137, Validation Loss=0.14] "
     ]
    },
    {
     "name": "stdout",
     "output_type": "stream",
     "text": [
      "Epoch 72/5000 -> Train loss: 0.13668515037244824,         Validation loss: 0.13956544420862985\n"
     ]
    },
    {
     "name": "stderr",
     "output_type": "stream",
     "text": [
      "Model Training Progress:   1%|▏         | 72/5000 [31:02<34:26:25, 25.16s/it, Train Loss=0.136, Validation Loss=0.139]"
     ]
    },
    {
     "name": "stdout",
     "output_type": "stream",
     "text": [
      "Epoch 73/5000 -> Train loss: 0.13627029968731438,         Validation loss: 0.1387572027548837\n"
     ]
    },
    {
     "name": "stderr",
     "output_type": "stream",
     "text": [
      "Model Training Progress:   1%|▏         | 74/5000 [31:28<34:01:14, 24.86s/it, Step=4, Train Loss=0.146]               "
     ]
    },
    {
     "name": "stdout",
     "output_type": "stream",
     "text": [
      "Epoch 74/5000 -> Train loss: 0.13575193846403663,         Validation loss: 0.13876881547750802\n"
     ]
    },
    {
     "name": "stderr",
     "output_type": "stream",
     "text": [
      "Model Training Progress:   1%|▏         | 74/5000 [31:51<34:01:14, 24.86s/it, Train Loss=0.135, Validation Loss=0.137]"
     ]
    },
    {
     "name": "stdout",
     "output_type": "stream",
     "text": [
      "Epoch 75/5000 -> Train loss: 0.1353319886905044,         Validation loss: 0.13731479741464783\n"
     ]
    },
    {
     "name": "stderr",
     "output_type": "stream",
     "text": [
      "Model Training Progress:   2%|▏         | 76/5000 [32:17<33:33:08, 24.53s/it, Step=3, Train Loss=0.146]               "
     ]
    },
    {
     "name": "stdout",
     "output_type": "stream",
     "text": [
      "Epoch 76/5000 -> Train loss: 0.13480724292014962,         Validation loss: 0.1378791190396037\n"
     ]
    },
    {
     "name": "stderr",
     "output_type": "stream",
     "text": [
      "Model Training Progress:   2%|▏         | 76/5000 [32:40<33:33:08, 24.53s/it, Train Loss=0.134, Validation Loss=0.137]"
     ]
    },
    {
     "name": "stdout",
     "output_type": "stream",
     "text": [
      "Epoch 77/5000 -> Train loss: 0.13435779852208807,         Validation loss: 0.13680048361614658\n"
     ]
    },
    {
     "name": "stderr",
     "output_type": "stream",
     "text": [
      "Model Training Progress:   2%|▏         | 78/5000 [33:05<33:23:14, 24.42s/it, Step=4, Train Loss=0.125]               "
     ]
    },
    {
     "name": "stdout",
     "output_type": "stream",
     "text": [
      "Epoch 78/5000 -> Train loss: 0.13392188233226093,         Validation loss: 0.137460781125507\n"
     ]
    },
    {
     "name": "stderr",
     "output_type": "stream",
     "text": [
      "Model Training Progress:   2%|▏         | 78/5000 [33:29<33:23:14, 24.42s/it, Train Loss=0.134, Validation Loss=0.136]"
     ]
    },
    {
     "name": "stdout",
     "output_type": "stream",
     "text": [
      "Epoch 79/5000 -> Train loss: 0.13364614586331952,         Validation loss: 0.1364686790556233\n"
     ]
    },
    {
     "name": "stderr",
     "output_type": "stream",
     "text": [
      "Model Training Progress:   2%|▏         | 79/5000 [33:55<34:08:57, 24.98s/it, Train Loss=0.133, Validation Loss=0.136]"
     ]
    },
    {
     "name": "stdout",
     "output_type": "stream",
     "text": [
      "Epoch 80/5000 -> Train loss: 0.13339302172856543,         Validation loss: 0.13601762552247643\n"
     ]
    },
    {
     "name": "stderr",
     "output_type": "stream",
     "text": [
      "Model Training Progress:   2%|▏         | 81/5000 [34:21<33:38:10, 24.62s/it, Step=4, Train Loss=0.137]               "
     ]
    },
    {
     "name": "stdout",
     "output_type": "stream",
     "text": [
      "Epoch 81/5000 -> Train loss: 0.13270339078422802,         Validation loss: 0.13680705795316803\n"
     ]
    },
    {
     "name": "stderr",
     "output_type": "stream",
     "text": [
      "Model Training Progress:   2%|▏         | 81/5000 [34:45<33:38:10, 24.62s/it, Train Loss=0.133, Validation Loss=0.136]"
     ]
    },
    {
     "name": "stdout",
     "output_type": "stream",
     "text": [
      "Epoch 82/5000 -> Train loss: 0.13270126022954484,         Validation loss: 0.13571996181174958\n"
     ]
    },
    {
     "name": "stderr",
     "output_type": "stream",
     "text": [
      "Model Training Progress:   2%|▏         | 83/5000 [35:10<33:38:41, 24.63s/it, Step=3, Train Loss=0.137]               "
     ]
    },
    {
     "name": "stdout",
     "output_type": "stream",
     "text": [
      "Epoch 83/5000 -> Train loss: 0.13208316451133187,         Validation loss: 0.13625543846865185\n"
     ]
    },
    {
     "name": "stderr",
     "output_type": "stream",
     "text": [
      "Model Training Progress:   2%|▏         | 83/5000 [35:34<33:38:41, 24.63s/it, Train Loss=0.132, Validation Loss=0.135]"
     ]
    },
    {
     "name": "stdout",
     "output_type": "stream",
     "text": [
      "Epoch 84/5000 -> Train loss: 0.1321635313665689,         Validation loss: 0.13458015620320415\n"
     ]
    },
    {
     "name": "stderr",
     "output_type": "stream",
     "text": [
      "Model Training Progress:   2%|▏         | 85/5000 [36:00<33:42:30, 24.69s/it, Step=4, Train Loss=0.119]               "
     ]
    },
    {
     "name": "stdout",
     "output_type": "stream",
     "text": [
      "Epoch 85/5000 -> Train loss: 0.13146658177251247,         Validation loss: 0.13561463556834497\n"
     ]
    },
    {
     "name": "stderr",
     "output_type": "stream",
     "text": [
      "Model Training Progress:   2%|▏         | 86/5000 [36:24<33:09:29, 24.29s/it, Step=4, Train Loss=0.138]               "
     ]
    },
    {
     "name": "stdout",
     "output_type": "stream",
     "text": [
      "Epoch 86/5000 -> Train loss: 0.13136736096730872,         Validation loss: 0.13537285379910222\n"
     ]
    },
    {
     "name": "stderr",
     "output_type": "stream",
     "text": [
      "Model Training Progress:   2%|▏         | 86/5000 [36:47<33:09:29, 24.29s/it, Train Loss=0.131, Validation Loss=0.134]"
     ]
    },
    {
     "name": "stdout",
     "output_type": "stream",
     "text": [
      "Epoch 87/5000 -> Train loss: 0.13087763299248112,         Validation loss: 0.1343544033313972\n"
     ]
    },
    {
     "name": "stderr",
     "output_type": "stream",
     "text": [
      "Model Training Progress:   2%|▏         | 87/5000 [37:16<34:33:53, 25.33s/it, Train Loss=0.131, Validation Loss=0.133]"
     ]
    },
    {
     "name": "stdout",
     "output_type": "stream",
     "text": [
      "Epoch 88/5000 -> Train loss: 0.13050065100637834,         Validation loss: 0.13340646393286684\n"
     ]
    },
    {
     "name": "stderr",
     "output_type": "stream",
     "text": [
      "Model Training Progress:   2%|▏         | 89/5000 [37:47<35:49:09, 26.26s/it, Step=4, Train Loss=0.123]               "
     ]
    },
    {
     "name": "stdout",
     "output_type": "stream",
     "text": [
      "Epoch 89/5000 -> Train loss: 0.1304186480926044,         Validation loss: 0.13391955653140838\n"
     ]
    },
    {
     "name": "stderr",
     "output_type": "stream",
     "text": [
      "Model Training Progress:   2%|▏         | 89/5000 [38:11<35:49:09, 26.26s/it, Train Loss=0.13, Validation Loss=0.132]"
     ]
    },
    {
     "name": "stdout",
     "output_type": "stream",
     "text": [
      "Epoch 90/5000 -> Train loss: 0.12966412421482712,         Validation loss: 0.1324352661370843\n"
     ]
    },
    {
     "name": "stderr",
     "output_type": "stream",
     "text": [
      "Model Training Progress:   2%|▏         | 91/5000 [38:40<35:35:43, 26.10s/it, Step=4, Train Loss=0.137]               "
     ]
    },
    {
     "name": "stdout",
     "output_type": "stream",
     "text": [
      "Epoch 91/5000 -> Train loss: 0.12941580937424702,         Validation loss: 0.13401445472037368\n"
     ]
    },
    {
     "name": "stderr",
     "output_type": "stream",
     "text": [
      "Model Training Progress:   2%|▏         | 92/5000 [39:04<35:04:02, 25.72s/it, Step=3, Train Loss=0.143]               "
     ]
    },
    {
     "name": "stdout",
     "output_type": "stream",
     "text": [
      "Epoch 92/5000 -> Train loss: 0.12944359149950654,         Validation loss: 0.13248618501529563\n"
     ]
    },
    {
     "name": "stderr",
     "output_type": "stream",
     "text": [
      "Model Training Progress:   2%|▏         | 93/5000 [39:28<34:18:17, 25.17s/it, Step=3, Train Loss=0.119]               "
     ]
    },
    {
     "name": "stdout",
     "output_type": "stream",
     "text": [
      "Epoch 93/5000 -> Train loss: 0.12905316261658029,         Validation loss: 0.13258788882618924\n"
     ]
    },
    {
     "name": "stderr",
     "output_type": "stream",
     "text": [
      "Model Training Progress:   2%|▏         | 93/5000 [39:52<34:18:17, 25.17s/it, Train Loss=0.129, Validation Loss=0.132]"
     ]
    },
    {
     "name": "stdout",
     "output_type": "stream",
     "text": [
      "Epoch 94/5000 -> Train loss: 0.12890892480291538,         Validation loss: 0.13240413552395897\n"
     ]
    },
    {
     "name": "stderr",
     "output_type": "stream",
     "text": [
      "Model Training Progress:   2%|▏         | 95/5000 [40:22<35:05:22, 25.75s/it, Step=3, Train Loss=0.139]               "
     ]
    },
    {
     "name": "stdout",
     "output_type": "stream",
     "text": [
      "Epoch 95/5000 -> Train loss: 0.12867141741870056,         Validation loss: 0.1326311737438017\n"
     ]
    },
    {
     "name": "stderr",
     "output_type": "stream",
     "text": [
      "Model Training Progress:   2%|▏         | 95/5000 [40:46<35:05:22, 25.75s/it, Train Loss=0.128, Validation Loss=0.132]"
     ]
    },
    {
     "name": "stdout",
     "output_type": "stream",
     "text": [
      "Epoch 96/5000 -> Train loss: 0.12825585863928296,         Validation loss: 0.13178386752002147\n"
     ]
    },
    {
     "name": "stderr",
     "output_type": "stream",
     "text": [
      "Model Training Progress:   2%|▏         | 96/5000 [41:16<36:52:29, 27.07s/it, Train Loss=0.128, Validation Loss=0.131]"
     ]
    },
    {
     "name": "stdout",
     "output_type": "stream",
     "text": [
      "Epoch 97/5000 -> Train loss: 0.1279826671329897,         Validation loss: 0.13098923205365687\n"
     ]
    },
    {
     "name": "stderr",
     "output_type": "stream",
     "text": [
      "Model Training Progress:   2%|▏         | 98/5000 [41:44<35:40:46, 26.20s/it, Step=4, Train Loss=0.121]               "
     ]
    },
    {
     "name": "stdout",
     "output_type": "stream",
     "text": [
      "Epoch 98/5000 -> Train loss: 0.12773793497637137,         Validation loss: 0.13164810955964235\n"
     ]
    },
    {
     "name": "stderr",
     "output_type": "stream",
     "text": [
      "Model Training Progress:   2%|▏         | 98/5000 [42:07<35:40:46, 26.20s/it, Train Loss=0.128, Validation Loss=0.131]"
     ]
    },
    {
     "name": "stdout",
     "output_type": "stream",
     "text": [
      "Epoch 99/5000 -> Train loss: 0.12758849194245553,         Validation loss: 0.13086767953225514\n"
     ]
    },
    {
     "name": "stderr",
     "output_type": "stream",
     "text": [
      "Model Training Progress:   2%|▏         | 100/5000 [42:33<34:36:46, 25.43s/it, Step=3, Train Loss=0.121]               "
     ]
    },
    {
     "name": "stdout",
     "output_type": "stream",
     "text": [
      "Epoch 100/5000 -> Train loss: 0.12766255867570195,         Validation loss: 0.13164149835615213\n"
     ]
    },
    {
     "name": "stderr",
     "output_type": "stream",
     "text": [
      "Model Training Progress:   2%|▏         | 101/5000 [42:57<33:54:41, 24.92s/it, Step=4, Train Loss=0.121]               "
     ]
    },
    {
     "name": "stdout",
     "output_type": "stream",
     "text": [
      "Epoch 101/5000 -> Train loss: 0.12714879915340624,         Validation loss: 0.13131089651950686\n"
     ]
    },
    {
     "name": "stderr",
     "output_type": "stream",
     "text": [
      "Model Training Progress:   2%|▏         | 101/5000 [43:20<33:54:41, 24.92s/it, Train Loss=0.127, Validation Loss=0.13] "
     ]
    },
    {
     "name": "stdout",
     "output_type": "stream",
     "text": [
      "Epoch 102/5000 -> Train loss: 0.1266257671055509,         Validation loss: 0.1301279984877005\n"
     ]
    },
    {
     "name": "stderr",
     "output_type": "stream",
     "text": [
      "Model Training Progress:   2%|▏         | 102/5000 [43:48<34:37:18, 25.45s/it, Train Loss=0.126, Validation Loss=0.13] "
     ]
    },
    {
     "name": "stdout",
     "output_type": "stream",
     "text": [
      "Epoch 103/5000 -> Train loss: 0.12634594360394263,         Validation loss: 0.1300669654350107\n"
     ]
    },
    {
     "name": "stderr",
     "output_type": "stream",
     "text": [
      "Model Training Progress:   2%|▏         | 103/5000 [44:12<34:35:09, 25.43s/it, Train Loss=0.126, Validation Loss=0.13] "
     ]
    },
    {
     "name": "stdout",
     "output_type": "stream",
     "text": [
      "Epoch 104/5000 -> Train loss: 0.12633820425218611,         Validation loss: 0.12991001335709976\n"
     ]
    },
    {
     "name": "stderr",
     "output_type": "stream",
     "text": [
      "Model Training Progress:   2%|▏         | 105/5000 [44:39<34:03:58, 25.05s/it, Step=4, Train Loss=0.124]               "
     ]
    },
    {
     "name": "stdout",
     "output_type": "stream",
     "text": [
      "Epoch 105/5000 -> Train loss: 0.12611202775542416,         Validation loss: 0.13011324619906695\n"
     ]
    },
    {
     "name": "stderr",
     "output_type": "stream",
     "text": [
      "Model Training Progress:   2%|▏         | 105/5000 [45:02<34:03:58, 25.05s/it, Train Loss=0.126, Validation Loss=0.129]"
     ]
    },
    {
     "name": "stdout",
     "output_type": "stream",
     "text": [
      "Epoch 106/5000 -> Train loss: 0.125767047614304,         Validation loss: 0.12934179778029728\n"
     ]
    },
    {
     "name": "stderr",
     "output_type": "stream",
     "text": [
      "Model Training Progress:   2%|▏         | 107/5000 [45:28<33:29:06, 24.64s/it, Step=3, Train Loss=0.133]               "
     ]
    },
    {
     "name": "stdout",
     "output_type": "stream",
     "text": [
      "Epoch 107/5000 -> Train loss: 0.12553631714475688,         Validation loss: 0.12951578270197692\n"
     ]
    },
    {
     "name": "stderr",
     "output_type": "stream",
     "text": [
      "Model Training Progress:   2%|▏         | 108/5000 [45:51<32:58:33, 24.27s/it, Step=3, Train Loss=0.125]               "
     ]
    },
    {
     "name": "stdout",
     "output_type": "stream",
     "text": [
      "Epoch 108/5000 -> Train loss: 0.12555808651803144,         Validation loss: 0.12960529816013555\n"
     ]
    },
    {
     "name": "stderr",
     "output_type": "stream",
     "text": [
      "Model Training Progress:   2%|▏         | 108/5000 [46:15<32:58:33, 24.27s/it, Train Loss=0.125, Validation Loss=0.129]"
     ]
    },
    {
     "name": "stdout",
     "output_type": "stream",
     "text": [
      "Epoch 109/5000 -> Train loss: 0.12530024959080255,         Validation loss: 0.12885357260044353\n"
     ]
    },
    {
     "name": "stderr",
     "output_type": "stream",
     "text": [
      "Model Training Progress:   2%|▏         | 109/5000 [46:41<33:34:09, 24.71s/it, Train Loss=0.125, Validation Loss=0.129]"
     ]
    },
    {
     "name": "stdout",
     "output_type": "stream",
     "text": [
      "Epoch 110/5000 -> Train loss: 0.12489878194990443,         Validation loss: 0.1285569121246226\n"
     ]
    },
    {
     "name": "stderr",
     "output_type": "stream",
     "text": [
      "Model Training Progress:   2%|▏         | 111/5000 [47:07<33:23:51, 24.59s/it, Step=4, Train Loss=0.114]               "
     ]
    },
    {
     "name": "stdout",
     "output_type": "stream",
     "text": [
      "Epoch 111/5000 -> Train loss: 0.12481421906111845,         Validation loss: 0.12969570591424903\n"
     ]
    },
    {
     "name": "stderr",
     "output_type": "stream",
     "text": [
      "Model Training Progress:   2%|▏         | 112/5000 [47:30<32:55:03, 24.24s/it, Step=3, Train Loss=0.128]               "
     ]
    },
    {
     "name": "stdout",
     "output_type": "stream",
     "text": [
      "Epoch 112/5000 -> Train loss: 0.12466974836676868,         Validation loss: 0.12882795217673346\n"
     ]
    },
    {
     "name": "stderr",
     "output_type": "stream",
     "text": [
      "Model Training Progress:   2%|▏         | 113/5000 [47:55<33:06:05, 24.38s/it, Step=3, Train Loss=0.127]               "
     ]
    },
    {
     "name": "stdout",
     "output_type": "stream",
     "text": [
      "Epoch 113/5000 -> Train loss: 0.12496678591219347,         Validation loss: 0.12907377721179122\n"
     ]
    },
    {
     "name": "stderr",
     "output_type": "stream",
     "text": [
      "Model Training Progress:   2%|▏         | 114/5000 [48:21<33:46:20, 24.88s/it, Step=3, Train Loss=0.118]               "
     ]
    },
    {
     "name": "stdout",
     "output_type": "stream",
     "text": [
      "Epoch 114/5000 -> Train loss: 0.12472037032468995,         Validation loss: 0.12858788220101916\n"
     ]
    },
    {
     "name": "stderr",
     "output_type": "stream",
     "text": [
      "Model Training Progress:   2%|▏         | 114/5000 [48:44<33:46:20, 24.88s/it, Train Loss=0.124, Validation Loss=0.128]"
     ]
    },
    {
     "name": "stdout",
     "output_type": "stream",
     "text": [
      "Epoch 115/5000 -> Train loss: 0.12422088484710722,         Validation loss: 0.12770204469335214\n"
     ]
    },
    {
     "name": "stderr",
     "output_type": "stream",
     "text": [
      "Model Training Progress:   2%|▏         | 116/5000 [49:13<34:15:25, 25.25s/it, Step=3, Train Loss=0.125]               "
     ]
    },
    {
     "name": "stdout",
     "output_type": "stream",
     "text": [
      "Epoch 116/5000 -> Train loss: 0.12383831670479988,         Validation loss: 0.12803020005877544\n"
     ]
    },
    {
     "name": "stderr",
     "output_type": "stream",
     "text": [
      "Model Training Progress:   2%|▏         | 116/5000 [49:37<34:15:25, 25.25s/it, Train Loss=0.124, Validation Loss=0.127]"
     ]
    },
    {
     "name": "stdout",
     "output_type": "stream",
     "text": [
      "Epoch 117/5000 -> Train loss: 0.1237436567002268,         Validation loss: 0.1274445873940648\n"
     ]
    },
    {
     "name": "stderr",
     "output_type": "stream",
     "text": [
      "Model Training Progress:   2%|▏         | 118/5000 [50:02<33:41:30, 24.84s/it, Step=3, Train Loss=0.126]               "
     ]
    },
    {
     "name": "stdout",
     "output_type": "stream",
     "text": [
      "Epoch 118/5000 -> Train loss: 0.12376238481322331,         Validation loss: 0.12814680141390353\n"
     ]
    },
    {
     "name": "stderr",
     "output_type": "stream",
     "text": [
      "Model Training Progress:   2%|▏         | 119/5000 [50:26<33:04:48, 24.40s/it, Step=4, Train Loss=0.129]               "
     ]
    },
    {
     "name": "stdout",
     "output_type": "stream",
     "text": [
      "Epoch 119/5000 -> Train loss: 0.12374829959068726,         Validation loss: 0.12753394235429974\n"
     ]
    },
    {
     "name": "stderr",
     "output_type": "stream",
     "text": [
      "Model Training Progress:   2%|▏         | 120/5000 [50:49<32:27:56, 23.95s/it, Step=4, Train Loss=0.12]                "
     ]
    },
    {
     "name": "stdout",
     "output_type": "stream",
     "text": [
      "Epoch 120/5000 -> Train loss: 0.12309545238516224,         Validation loss: 0.1276854870520765\n"
     ]
    },
    {
     "name": "stderr",
     "output_type": "stream",
     "text": [
      "Model Training Progress:   2%|▏         | 121/5000 [51:12<32:03:02, 23.65s/it, Step=3, Train Loss=0.112]               "
     ]
    },
    {
     "name": "stdout",
     "output_type": "stream",
     "text": [
      "Epoch 121/5000 -> Train loss: 0.12318745233229737,         Validation loss: 0.12776620361869895\n"
     ]
    },
    {
     "name": "stderr",
     "output_type": "stream",
     "text": [
      "Model Training Progress:   2%|▏         | 121/5000 [51:35<32:03:02, 23.65s/it, Train Loss=0.123, Validation Loss=0.127]"
     ]
    },
    {
     "name": "stdout",
     "output_type": "stream",
     "text": [
      "Epoch 122/5000 -> Train loss: 0.12335771642514129,         Validation loss: 0.12696991109502656\n"
     ]
    },
    {
     "name": "stderr",
     "output_type": "stream",
     "text": [
      "Model Training Progress:   2%|▏         | 123/5000 [52:01<32:45:20, 24.18s/it, Step=3, Train Loss=0.125]               "
     ]
    },
    {
     "name": "stdout",
     "output_type": "stream",
     "text": [
      "Epoch 123/5000 -> Train loss: 0.12314575129925315,         Validation loss: 0.1272491690049517\n"
     ]
    },
    {
     "name": "stderr",
     "output_type": "stream",
     "text": [
      "Model Training Progress:   2%|▏         | 123/5000 [52:25<32:45:20, 24.18s/it, Train Loss=0.123, Validation Loss=0.126]"
     ]
    },
    {
     "name": "stdout",
     "output_type": "stream",
     "text": [
      "Epoch 124/5000 -> Train loss: 0.12280756041629991,         Validation loss: 0.12648941403959826\n"
     ]
    },
    {
     "name": "stderr",
     "output_type": "stream",
     "text": [
      "Model Training Progress:   2%|▎         | 125/5000 [52:51<33:10:38, 24.50s/it, Step=3, Train Loss=0.12]                "
     ]
    },
    {
     "name": "stdout",
     "output_type": "stream",
     "text": [
      "Epoch 125/5000 -> Train loss: 0.12295798001004689,         Validation loss: 0.12753186649772236\n"
     ]
    },
    {
     "name": "stderr",
     "output_type": "stream",
     "text": [
      "Model Training Progress:   3%|▎         | 126/5000 [53:15<32:55:21, 24.32s/it, Step=3, Train Loss=0.133]               "
     ]
    },
    {
     "name": "stdout",
     "output_type": "stream",
     "text": [
      "Epoch 126/5000 -> Train loss: 0.12256291172842482,         Validation loss: 0.1273499014480169\n"
     ]
    },
    {
     "name": "stderr",
     "output_type": "stream",
     "text": [
      "Model Training Progress:   3%|▎         | 127/5000 [53:39<32:31:23, 24.03s/it, Step=4, Train Loss=0.124]               "
     ]
    },
    {
     "name": "stdout",
     "output_type": "stream",
     "text": [
      "Epoch 127/5000 -> Train loss: 0.1223005512312277,         Validation loss: 0.12687084345088806\n"
     ]
    },
    {
     "name": "stderr",
     "output_type": "stream",
     "text": [
      "Model Training Progress:   3%|▎         | 128/5000 [54:02<32:19:20, 23.88s/it, Step=4, Train Loss=0.119]               "
     ]
    },
    {
     "name": "stdout",
     "output_type": "stream",
     "text": [
      "Epoch 128/5000 -> Train loss: 0.12238628099213786,         Validation loss: 0.12719434261412566\n"
     ]
    },
    {
     "name": "stderr",
     "output_type": "stream",
     "text": [
      "Model Training Progress:   3%|▎         | 129/5000 [54:26<32:09:53, 23.77s/it, Step=4, Train Loss=0.114]               "
     ]
    },
    {
     "name": "stdout",
     "output_type": "stream",
     "text": [
      "Epoch 129/5000 -> Train loss: 0.1222442499514836,         Validation loss: 0.1268134009296773\n"
     ]
    },
    {
     "name": "stderr",
     "output_type": "stream",
     "text": [
      "Model Training Progress:   3%|▎         | 129/5000 [54:49<32:09:53, 23.77s/it, Train Loss=0.122, Validation Loss=0.126]"
     ]
    },
    {
     "name": "stdout",
     "output_type": "stream",
     "text": [
      "Epoch 130/5000 -> Train loss: 0.12231797059970116,         Validation loss: 0.12613881832738924\n"
     ]
    },
    {
     "name": "stderr",
     "output_type": "stream",
     "text": [
      "Model Training Progress:   3%|▎         | 131/5000 [55:15<32:50:09, 24.28s/it, Step=3, Train Loss=0.107]               "
     ]
    },
    {
     "name": "stdout",
     "output_type": "stream",
     "text": [
      "Epoch 131/5000 -> Train loss: 0.1220755393158144,         Validation loss: 0.1269921680650441\n"
     ]
    },
    {
     "name": "stderr",
     "output_type": "stream",
     "text": [
      "Model Training Progress:   3%|▎         | 132/5000 [55:39<32:38:56, 24.14s/it, Step=4, Train Loss=0.12]                "
     ]
    },
    {
     "name": "stdout",
     "output_type": "stream",
     "text": [
      "Epoch 132/5000 -> Train loss: 0.12202247441259782,         Validation loss: 0.12674208678234006\n"
     ]
    },
    {
     "name": "stderr",
     "output_type": "stream",
     "text": [
      "Model Training Progress:   3%|▎         | 133/5000 [56:03<32:26:23, 23.99s/it, Step=4, Train Loss=0.122]               "
     ]
    },
    {
     "name": "stdout",
     "output_type": "stream",
     "text": [
      "Epoch 133/5000 -> Train loss: 0.12209296273206596,         Validation loss: 0.12617938850760563\n"
     ]
    },
    {
     "name": "stderr",
     "output_type": "stream",
     "text": [
      "Model Training Progress:   3%|▎         | 133/5000 [56:27<32:26:23, 23.99s/it, Train Loss=0.122, Validation Loss=0.126]"
     ]
    },
    {
     "name": "stdout",
     "output_type": "stream",
     "text": [
      "Epoch 134/5000 -> Train loss: 0.1218038471999453,         Validation loss: 0.12600326004192336\n"
     ]
    },
    {
     "name": "stderr",
     "output_type": "stream",
     "text": [
      "Model Training Progress:   3%|▎         | 135/5000 [56:53<32:55:31, 24.36s/it, Step=4, Train Loss=0.12]                "
     ]
    },
    {
     "name": "stdout",
     "output_type": "stream",
     "text": [
      "Epoch 135/5000 -> Train loss: 0.12143713787420472,         Validation loss: 0.1265639816766553\n"
     ]
    },
    {
     "name": "stderr",
     "output_type": "stream",
     "text": [
      "Model Training Progress:   3%|▎         | 135/5000 [57:16<32:55:31, 24.36s/it, Train Loss=0.121, Validation Loss=0.126]"
     ]
    },
    {
     "name": "stdout",
     "output_type": "stream",
     "text": [
      "Epoch 136/5000 -> Train loss: 0.12125154520148662,         Validation loss: 0.1256585201594539\n"
     ]
    },
    {
     "name": "stderr",
     "output_type": "stream",
     "text": [
      "Model Training Progress:   3%|▎         | 137/5000 [57:41<32:52:50, 24.34s/it, Step=3, Train Loss=0.13]                "
     ]
    },
    {
     "name": "stdout",
     "output_type": "stream",
     "text": [
      "Epoch 137/5000 -> Train loss: 0.12142637614438782,         Validation loss: 0.1257492758773474\n"
     ]
    },
    {
     "name": "stderr",
     "output_type": "stream",
     "text": [
      "Model Training Progress:   3%|▎         | 137/5000 [58:05<32:52:50, 24.34s/it, Train Loss=0.122, Validation Loss=0.125]"
     ]
    },
    {
     "name": "stdout",
     "output_type": "stream",
     "text": [
      "Epoch 138/5000 -> Train loss: 0.1216814661648736,         Validation loss: 0.12539125698094722\n"
     ]
    },
    {
     "name": "stderr",
     "output_type": "stream",
     "text": [
      "Model Training Progress:   3%|▎         | 139/5000 [58:31<32:53:05, 24.35s/it, Step=4, Train Loss=0.127]               "
     ]
    },
    {
     "name": "stdout",
     "output_type": "stream",
     "text": [
      "Epoch 139/5000 -> Train loss: 0.12112124664569969,         Validation loss: 0.12590018249789459\n"
     ]
    },
    {
     "name": "stderr",
     "output_type": "stream",
     "text": [
      "Model Training Progress:   3%|▎         | 140/5000 [58:53<32:13:15, 23.87s/it, Step=4, Train Loss=0.112]               "
     ]
    },
    {
     "name": "stdout",
     "output_type": "stream",
     "text": [
      "Epoch 140/5000 -> Train loss: 0.1213359089929666,         Validation loss: 0.12551196958035385\n"
     ]
    },
    {
     "name": "stderr",
     "output_type": "stream",
     "text": [
      "Model Training Progress:   3%|▎         | 140/5000 [59:16<32:13:15, 23.87s/it, Train Loss=0.121, Validation Loss=0.125]"
     ]
    },
    {
     "name": "stdout",
     "output_type": "stream",
     "text": [
      "Epoch 141/5000 -> Train loss: 0.12107382152062743,         Validation loss: 0.12500704116407885\n"
     ]
    },
    {
     "name": "stderr",
     "output_type": "stream",
     "text": [
      "Model Training Progress:   3%|▎         | 142/5000 [59:43<32:37:25, 24.18s/it, Step=3, Train Loss=0.122]               "
     ]
    },
    {
     "name": "stdout",
     "output_type": "stream",
     "text": [
      "Epoch 142/5000 -> Train loss: 0.12074052115429693,         Validation loss: 0.12531890304752677\n"
     ]
    },
    {
     "name": "stderr",
     "output_type": "stream",
     "text": [
      "Model Training Progress:   3%|▎         | 143/5000 [1:00:06<32:21:40, 23.99s/it, Step=3, Train Loss=0.119]               "
     ]
    },
    {
     "name": "stdout",
     "output_type": "stream",
     "text": [
      "Epoch 143/5000 -> Train loss: 0.12117512980059011,         Validation loss: 0.12596409194358987\n"
     ]
    },
    {
     "name": "stderr",
     "output_type": "stream",
     "text": [
      "Model Training Progress:   3%|▎         | 144/5000 [1:00:30<32:05:54, 23.80s/it, Step=4, Train Loss=0.131]               "
     ]
    },
    {
     "name": "stdout",
     "output_type": "stream",
     "text": [
      "Epoch 144/5000 -> Train loss: 0.12110358347643667,         Validation loss: 0.1258379256291341\n"
     ]
    },
    {
     "name": "stderr",
     "output_type": "stream",
     "text": [
      "Model Training Progress:   3%|▎         | 144/5000 [1:00:53<32:05:54, 23.80s/it, Train Loss=0.121, Validation Loss=0.125]"
     ]
    },
    {
     "name": "stdout",
     "output_type": "stream",
     "text": [
      "Epoch 145/5000 -> Train loss: 0.12067238728501903,         Validation loss: 0.12455844951263215\n"
     ]
    },
    {
     "name": "stderr",
     "output_type": "stream",
     "text": [
      "Model Training Progress:   3%|▎         | 146/5000 [1:01:19<32:28:28, 24.08s/it, Step=3, Train Loss=0.121]               "
     ]
    },
    {
     "name": "stdout",
     "output_type": "stream",
     "text": [
      "Epoch 146/5000 -> Train loss: 0.12044001399581113,         Validation loss: 0.12485777062506208\n"
     ]
    },
    {
     "name": "stderr",
     "output_type": "stream",
     "text": [
      "Model Training Progress:   3%|▎         | 147/5000 [1:01:43<32:20:03, 23.99s/it, Step=3, Train Loss=0.115]              "
     ]
    },
    {
     "name": "stdout",
     "output_type": "stream",
     "text": [
      "Epoch 147/5000 -> Train loss: 0.12043875240123093,         Validation loss: 0.12533745718570166\n"
     ]
    },
    {
     "name": "stderr",
     "output_type": "stream",
     "text": [
      "Model Training Progress:   3%|▎         | 148/5000 [1:02:06<32:07:56, 23.84s/it, Step=4, Train Loss=0.116]              "
     ]
    },
    {
     "name": "stdout",
     "output_type": "stream",
     "text": [
      "Epoch 148/5000 -> Train loss: 0.12027754894833066,         Validation loss: 0.12507786597739645\n"
     ]
    },
    {
     "name": "stderr",
     "output_type": "stream",
     "text": [
      "Model Training Progress:   3%|▎         | 148/5000 [1:02:29<32:07:56, 23.84s/it, Train Loss=0.12, Validation Loss=0.124]"
     ]
    },
    {
     "name": "stdout",
     "output_type": "stream",
     "text": [
      "Epoch 149/5000 -> Train loss: 0.12042726569656116,         Validation loss: 0.12414612838054179\n"
     ]
    },
    {
     "name": "stderr",
     "output_type": "stream",
     "text": [
      "Model Training Progress:   3%|▎         | 150/5000 [1:02:55<32:26:17, 24.08s/it, Step=3, Train Loss=0.111]               "
     ]
    },
    {
     "name": "stdout",
     "output_type": "stream",
     "text": [
      "Epoch 150/5000 -> Train loss: 0.12082567479628235,         Validation loss: 0.1258485849911166\n"
     ]
    },
    {
     "name": "stderr",
     "output_type": "stream",
     "text": [
      "Model Training Progress:   3%|▎         | 151/5000 [1:03:18<32:07:19, 23.85s/it, Step=4, Train Loss=0.113]              "
     ]
    },
    {
     "name": "stdout",
     "output_type": "stream",
     "text": [
      "Epoch 151/5000 -> Train loss: 0.12034905786389735,         Validation loss: 0.12447910391589782\n"
     ]
    },
    {
     "name": "stderr",
     "output_type": "stream",
     "text": [
      "Model Training Progress:   3%|▎         | 152/5000 [1:03:42<32:10:49, 23.90s/it, Step=4, Train Loss=0.106]              "
     ]
    },
    {
     "name": "stdout",
     "output_type": "stream",
     "text": [
      "Epoch 152/5000 -> Train loss: 0.12018626287801942,         Validation loss: 0.12439856103770176\n"
     ]
    },
    {
     "name": "stderr",
     "output_type": "stream",
     "text": [
      "Model Training Progress:   3%|▎         | 152/5000 [1:04:06<32:10:49, 23.90s/it, Train Loss=0.12, Validation Loss=0.124]"
     ]
    },
    {
     "name": "stdout",
     "output_type": "stream",
     "text": [
      "Epoch 153/5000 -> Train loss: 0.12003605632639643,         Validation loss: 0.12412054271650656\n"
     ]
    },
    {
     "name": "stderr",
     "output_type": "stream",
     "text": [
      "Model Training Progress:   3%|▎         | 154/5000 [1:04:31<32:28:38, 24.13s/it, Step=4, Train Loss=0.116]              "
     ]
    },
    {
     "name": "stdout",
     "output_type": "stream",
     "text": [
      "Epoch 154/5000 -> Train loss: 0.12005265384022869,         Validation loss: 0.12450270380779532\n"
     ]
    },
    {
     "name": "stderr",
     "output_type": "stream",
     "text": [
      "Model Training Progress:   3%|▎         | 155/5000 [1:04:55<32:10:21, 23.91s/it, Step=4, Train Loss=0.126]              "
     ]
    },
    {
     "name": "stdout",
     "output_type": "stream",
     "text": [
      "Epoch 155/5000 -> Train loss: 0.12028947372489901,         Validation loss: 0.12442272467402897\n"
     ]
    },
    {
     "name": "stderr",
     "output_type": "stream",
     "text": [
      "Model Training Progress:   3%|▎         | 156/5000 [1:05:18<31:58:41, 23.77s/it, Step=4, Train Loss=0.12]               "
     ]
    },
    {
     "name": "stdout",
     "output_type": "stream",
     "text": [
      "Epoch 156/5000 -> Train loss: 0.12010840282066544,         Validation loss: 0.12431593648862974\n"
     ]
    },
    {
     "name": "stderr",
     "output_type": "stream",
     "text": [
      "Model Training Progress:   3%|▎         | 156/5000 [1:05:41<31:58:41, 23.77s/it, Train Loss=0.12, Validation Loss=0.124]"
     ]
    },
    {
     "name": "stdout",
     "output_type": "stream",
     "text": [
      "Epoch 157/5000 -> Train loss: 0.11987307387501446,         Validation loss: 0.12410510546437258\n"
     ]
    },
    {
     "name": "stderr",
     "output_type": "stream",
     "text": [
      "Model Training Progress:   3%|▎         | 158/5000 [1:06:11<33:21:43, 24.80s/it, Step=3, Train Loss=0.113]              "
     ]
    },
    {
     "name": "stdout",
     "output_type": "stream",
     "text": [
      "Epoch 158/5000 -> Train loss: 0.11999836684162937,         Validation loss: 0.12419675849701485\n"
     ]
    },
    {
     "name": "stderr",
     "output_type": "stream",
     "text": [
      "Model Training Progress:   3%|▎         | 159/5000 [1:06:35<32:56:30, 24.50s/it, Step=4, Train Loss=0.111]              "
     ]
    },
    {
     "name": "stdout",
     "output_type": "stream",
     "text": [
      "Epoch 159/5000 -> Train loss: 0.11973875289532676,         Validation loss: 0.12421891097457977\n"
     ]
    },
    {
     "name": "stderr",
     "output_type": "stream",
     "text": [
      "Model Training Progress:   3%|▎         | 160/5000 [1:06:58<32:22:41, 24.08s/it, Step=3, Train Loss=0.13]               "
     ]
    },
    {
     "name": "stdout",
     "output_type": "stream",
     "text": [
      "Epoch 160/5000 -> Train loss: 0.11985328364283292,         Validation loss: 0.12445259348896798\n"
     ]
    },
    {
     "name": "stderr",
     "output_type": "stream",
     "text": [
      "Model Training Progress:   3%|▎         | 160/5000 [1:07:20<32:22:41, 24.08s/it, Train Loss=0.12, Validation Loss=0.124]"
     ]
    },
    {
     "name": "stdout",
     "output_type": "stream",
     "text": [
      "Epoch 161/5000 -> Train loss: 0.1196362526559118,         Validation loss: 0.12389953004054001\n"
     ]
    },
    {
     "name": "stderr",
     "output_type": "stream",
     "text": [
      "Model Training Progress:   3%|▎         | 162/5000 [1:07:46<32:11:49, 23.96s/it, Step=3, Train Loss=0.104]              "
     ]
    },
    {
     "name": "stdout",
     "output_type": "stream",
     "text": [
      "Epoch 162/5000 -> Train loss: 0.11951929980249547,         Validation loss: 0.12406531115347105\n"
     ]
    },
    {
     "name": "stderr",
     "output_type": "stream",
     "text": [
      "Model Training Progress:   3%|▎         | 163/5000 [1:08:08<31:39:09, 23.56s/it, Step=4, Train Loss=0.113]              "
     ]
    },
    {
     "name": "stdout",
     "output_type": "stream",
     "text": [
      "Epoch 163/5000 -> Train loss: 0.11974523254294894,         Validation loss: 0.12476288740355004\n"
     ]
    },
    {
     "name": "stderr",
     "output_type": "stream",
     "text": [
      "Model Training Progress:   3%|▎         | 163/5000 [1:08:31<31:39:09, 23.56s/it, Train Loss=0.12, Validation Loss=0.123]"
     ]
    },
    {
     "name": "stdout",
     "output_type": "stream",
     "text": [
      "Epoch 164/5000 -> Train loss: 0.11981072839516313,         Validation loss: 0.12343398105036209\n"
     ]
    },
    {
     "name": "stderr",
     "output_type": "stream",
     "text": [
      "Model Training Progress:   3%|▎         | 165/5000 [1:08:57<32:01:45, 23.85s/it, Step=4, Train Loss=0.121]               "
     ]
    },
    {
     "name": "stdout",
     "output_type": "stream",
     "text": [
      "Epoch 165/5000 -> Train loss: 0.11938985414914231,         Validation loss: 0.12391378508537956\n"
     ]
    },
    {
     "name": "stderr",
     "output_type": "stream",
     "text": [
      "Model Training Progress:   3%|▎         | 166/5000 [1:09:20<31:36:04, 23.53s/it, Step=3, Train Loss=0.12]                "
     ]
    },
    {
     "name": "stdout",
     "output_type": "stream",
     "text": [
      "Epoch 166/5000 -> Train loss: 0.11932462909773214,         Validation loss: 0.12377146522986651\n"
     ]
    },
    {
     "name": "stderr",
     "output_type": "stream",
     "text": [
      "Model Training Progress:   3%|▎         | 167/5000 [1:09:43<31:17:48, 23.31s/it, Step=4, Train Loss=0.119]               "
     ]
    },
    {
     "name": "stdout",
     "output_type": "stream",
     "text": [
      "Epoch 167/5000 -> Train loss: 0.119314500667266,         Validation loss: 0.12466466933579391\n"
     ]
    },
    {
     "name": "stderr",
     "output_type": "stream",
     "text": [
      "Model Training Progress:   3%|▎         | 168/5000 [1:10:06<31:07:26, 23.19s/it, Step=4, Train Loss=0.122]              "
     ]
    },
    {
     "name": "stdout",
     "output_type": "stream",
     "text": [
      "Epoch 168/5000 -> Train loss: 0.11951055940407426,         Validation loss: 0.12355383538750983\n"
     ]
    },
    {
     "name": "stderr",
     "output_type": "stream",
     "text": [
      "Model Training Progress:   3%|▎         | 169/5000 [1:10:28<30:59:05, 23.09s/it, Step=3, Train Loss=0.122]               "
     ]
    },
    {
     "name": "stdout",
     "output_type": "stream",
     "text": [
      "Epoch 169/5000 -> Train loss: 0.1192175070518878,         Validation loss: 0.1237757716201789\n"
     ]
    },
    {
     "name": "stderr",
     "output_type": "stream",
     "text": [
      "Model Training Progress:   3%|▎         | 170/5000 [1:10:51<30:56:27, 23.06s/it, Step=4, Train Loss=0.123]               "
     ]
    },
    {
     "name": "stdout",
     "output_type": "stream",
     "text": [
      "Epoch 170/5000 -> Train loss: 0.11896016969164806,         Validation loss: 0.12396656831616484\n"
     ]
    },
    {
     "name": "stderr",
     "output_type": "stream",
     "text": [
      "Model Training Progress:   3%|▎         | 170/5000 [1:11:14<30:56:27, 23.06s/it, Train Loss=0.119, Validation Loss=0.123]"
     ]
    },
    {
     "name": "stdout",
     "output_type": "stream",
     "text": [
      "Epoch 171/5000 -> Train loss: 0.11911144225455042,         Validation loss: 0.12334356896786226\n"
     ]
    },
    {
     "name": "stderr",
     "output_type": "stream",
     "text": [
      "Model Training Progress:   3%|▎         | 172/5000 [1:11:40<31:34:25, 23.54s/it, Step=4, Train Loss=0.115]               "
     ]
    },
    {
     "name": "stdout",
     "output_type": "stream",
     "text": [
      "Epoch 172/5000 -> Train loss: 0.11915263551384656,         Validation loss: 0.12415429219577669\n"
     ]
    },
    {
     "name": "stderr",
     "output_type": "stream",
     "text": [
      "Model Training Progress:   3%|▎         | 173/5000 [1:12:03<31:30:10, 23.50s/it, Step=4, Train Loss=0.121]               "
     ]
    },
    {
     "name": "stdout",
     "output_type": "stream",
     "text": [
      "Epoch 173/5000 -> Train loss: 0.11925927863192202,         Validation loss: 0.12356300681777713\n"
     ]
    },
    {
     "name": "stderr",
     "output_type": "stream",
     "text": [
      "Model Training Progress:   3%|▎         | 174/5000 [1:12:27<31:35:48, 23.57s/it, Step=3, Train Loss=0.117]               "
     ]
    },
    {
     "name": "stdout",
     "output_type": "stream",
     "text": [
      "Epoch 174/5000 -> Train loss: 0.11923056293779345,         Validation loss: 0.12441485169175495\n"
     ]
    },
    {
     "name": "stderr",
     "output_type": "stream",
     "text": [
      "Model Training Progress:   4%|▎         | 175/5000 [1:12:51<31:44:17, 23.68s/it, Step=4, Train Loss=0.122]               "
     ]
    },
    {
     "name": "stdout",
     "output_type": "stream",
     "text": [
      "Epoch 175/5000 -> Train loss: 0.11886965861516212,         Validation loss: 0.12420294104797197\n"
     ]
    },
    {
     "name": "stderr",
     "output_type": "stream",
     "text": [
      "Model Training Progress:   4%|▎         | 175/5000 [1:13:15<31:44:17, 23.68s/it, Train Loss=0.119, Validation Loss=0.123]"
     ]
    },
    {
     "name": "stdout",
     "output_type": "stream",
     "text": [
      "Epoch 176/5000 -> Train loss: 0.1193472116295971,         Validation loss: 0.12333979594889873\n"
     ]
    },
    {
     "name": "stderr",
     "output_type": "stream",
     "text": [
      "Model Training Progress:   4%|▎         | 177/5000 [1:13:40<32:06:38, 23.97s/it, Step=4, Train Loss=0.123]               "
     ]
    },
    {
     "name": "stdout",
     "output_type": "stream",
     "text": [
      "Epoch 177/5000 -> Train loss: 0.11892691205686598,         Validation loss: 0.12373759133172119\n"
     ]
    },
    {
     "name": "stderr",
     "output_type": "stream",
     "text": [
      "Model Training Progress:   4%|▎         | 178/5000 [1:14:03<31:46:58, 23.73s/it, Step=3, Train Loss=0.12]                "
     ]
    },
    {
     "name": "stdout",
     "output_type": "stream",
     "text": [
      "Epoch 178/5000 -> Train loss: 0.11891586237878941,         Validation loss: 0.12405410223194242\n"
     ]
    },
    {
     "name": "stderr",
     "output_type": "stream",
     "text": [
      "Model Training Progress:   4%|▎         | 178/5000 [1:14:27<31:46:58, 23.73s/it, Train Loss=0.119, Validation Loss=0.123]"
     ]
    },
    {
     "name": "stdout",
     "output_type": "stream",
     "text": [
      "Epoch 179/5000 -> Train loss: 0.11879684640400445,         Validation loss: 0.12324190419814032\n"
     ]
    },
    {
     "name": "stderr",
     "output_type": "stream",
     "text": [
      "Model Training Progress:   4%|▎         | 180/5000 [1:14:52<32:07:03, 23.99s/it, Step=4, Train Loss=0.118]               "
     ]
    },
    {
     "name": "stdout",
     "output_type": "stream",
     "text": [
      "Epoch 180/5000 -> Train loss: 0.11872579975804286,         Validation loss: 0.12365870569515715\n"
     ]
    },
    {
     "name": "stderr",
     "output_type": "stream",
     "text": [
      "Model Training Progress:   4%|▎         | 180/5000 [1:15:15<32:07:03, 23.99s/it, Train Loss=0.118, Validation Loss=0.123]"
     ]
    },
    {
     "name": "stdout",
     "output_type": "stream",
     "text": [
      "Epoch 181/5000 -> Train loss: 0.11840560783201189,         Validation loss: 0.123163308699279\n"
     ]
    },
    {
     "name": "stderr",
     "output_type": "stream",
     "text": [
      "Model Training Progress:   4%|▎         | 182/5000 [1:15:41<32:21:37, 24.18s/it, Step=3, Train Loss=0.124]               "
     ]
    },
    {
     "name": "stdout",
     "output_type": "stream",
     "text": [
      "Epoch 182/5000 -> Train loss: 0.11853565280117205,         Validation loss: 0.12377100732798378\n"
     ]
    },
    {
     "name": "stderr",
     "output_type": "stream",
     "text": [
      "Model Training Progress:   4%|▎         | 182/5000 [1:16:04<32:21:37, 24.18s/it, Train Loss=0.119, Validation Loss=0.122]"
     ]
    },
    {
     "name": "stdout",
     "output_type": "stream",
     "text": [
      "Epoch 183/5000 -> Train loss: 0.11866001393367995,         Validation loss: 0.12243605207509568\n"
     ]
    },
    {
     "name": "stderr",
     "output_type": "stream",
     "text": [
      "Model Training Progress:   4%|▎         | 184/5000 [1:16:30<32:25:29, 24.24s/it, Step=4, Train Loss=0.121]               "
     ]
    },
    {
     "name": "stdout",
     "output_type": "stream",
     "text": [
      "Epoch 184/5000 -> Train loss: 0.11863765396288971,         Validation loss: 0.12361193105203307\n"
     ]
    },
    {
     "name": "stderr",
     "output_type": "stream",
     "text": [
      "Model Training Progress:   4%|▎         | 185/5000 [1:16:54<32:18:15, 24.15s/it, Step=4, Train Loss=0.124]               "
     ]
    },
    {
     "name": "stdout",
     "output_type": "stream",
     "text": [
      "Epoch 185/5000 -> Train loss: 0.11847418546676636,         Validation loss: 0.12378801131692146\n"
     ]
    },
    {
     "name": "stderr",
     "output_type": "stream",
     "text": [
      "Model Training Progress:   4%|▎         | 186/5000 [1:17:17<32:05:40, 24.00s/it, Step=3, Train Loss=0.113]               "
     ]
    },
    {
     "name": "stdout",
     "output_type": "stream",
     "text": [
      "Epoch 186/5000 -> Train loss: 0.1182684091267301,         Validation loss: 0.12310183664764433\n"
     ]
    },
    {
     "name": "stderr",
     "output_type": "stream",
     "text": [
      "Model Training Progress:   4%|▎         | 187/5000 [1:17:41<31:56:26, 23.89s/it, Step=3, Train Loss=0.121]               "
     ]
    },
    {
     "name": "stdout",
     "output_type": "stream",
     "text": [
      "Epoch 187/5000 -> Train loss: 0.1186740782723498,         Validation loss: 0.1232573154848069\n"
     ]
    },
    {
     "name": "stderr",
     "output_type": "stream",
     "text": [
      "Model Training Progress:   4%|▍         | 188/5000 [1:18:05<31:54:32, 23.87s/it, Step=3, Train Loss=0.114]               "
     ]
    },
    {
     "name": "stdout",
     "output_type": "stream",
     "text": [
      "Epoch 188/5000 -> Train loss: 0.11825815292436685,         Validation loss: 0.12254883729716919\n"
     ]
    },
    {
     "name": "stderr",
     "output_type": "stream",
     "text": [
      "Model Training Progress:   4%|▍         | 189/5000 [1:18:29<31:54:45, 23.88s/it, Step=4, Train Loss=0.128]               "
     ]
    },
    {
     "name": "stdout",
     "output_type": "stream",
     "text": [
      "Epoch 189/5000 -> Train loss: 0.11821827897384986,         Validation loss: 0.12308010651839948\n"
     ]
    },
    {
     "name": "stderr",
     "output_type": "stream",
     "text": [
      "Model Training Progress:   4%|▍         | 189/5000 [1:18:52<31:54:45, 23.88s/it, Train Loss=0.118, Validation Loss=0.122]"
     ]
    },
    {
     "name": "stdout",
     "output_type": "stream",
     "text": [
      "Epoch 190/5000 -> Train loss: 0.11830820532432243,         Validation loss: 0.12232829284686078\n"
     ]
    },
    {
     "name": "stderr",
     "output_type": "stream",
     "text": [
      "Model Training Progress:   4%|▍         | 191/5000 [1:19:18<32:11:56, 24.10s/it, Step=4, Train Loss=0.113]               "
     ]
    },
    {
     "name": "stdout",
     "output_type": "stream",
     "text": [
      "Epoch 191/5000 -> Train loss: 0.11846416714920927,         Validation loss: 0.12302234254538133\n"
     ]
    },
    {
     "name": "stderr",
     "output_type": "stream",
     "text": [
      "Model Training Progress:   4%|▍         | 192/5000 [1:19:41<31:57:02, 23.92s/it, Step=4, Train Loss=0.117]               "
     ]
    },
    {
     "name": "stdout",
     "output_type": "stream",
     "text": [
      "Epoch 192/5000 -> Train loss: 0.11818745111796393,         Validation loss: 0.12258788509805324\n"
     ]
    },
    {
     "name": "stderr",
     "output_type": "stream",
     "text": [
      "Model Training Progress:   4%|▍         | 193/5000 [1:20:05<31:46:17, 23.79s/it, Step=3, Train Loss=0.117]               "
     ]
    },
    {
     "name": "stdout",
     "output_type": "stream",
     "text": [
      "Epoch 193/5000 -> Train loss: 0.11806034563637491,         Validation loss: 0.12267142263105295\n"
     ]
    },
    {
     "name": "stderr",
     "output_type": "stream",
     "text": [
      "Model Training Progress:   4%|▍         | 194/5000 [1:20:28<31:45:42, 23.79s/it, Step=3, Train Loss=0.12]                "
     ]
    },
    {
     "name": "stdout",
     "output_type": "stream",
     "text": [
      "Epoch 194/5000 -> Train loss: 0.11819963479664788,         Validation loss: 0.12284842271765228\n"
     ]
    },
    {
     "name": "stderr",
     "output_type": "stream",
     "text": [
      "Model Training Progress:   4%|▍         | 195/5000 [1:20:52<31:49:05, 23.84s/it, Step=4, Train Loss=0.131]               "
     ]
    },
    {
     "name": "stdout",
     "output_type": "stream",
     "text": [
      "Epoch 195/5000 -> Train loss: 0.11831308872397266,         Validation loss: 0.12331942222792552\n"
     ]
    },
    {
     "name": "stderr",
     "output_type": "stream",
     "text": [
      "Model Training Progress:   4%|▍         | 196/5000 [1:21:16<31:51:23, 23.87s/it, Step=4, Train Loss=0.125]               "
     ]
    },
    {
     "name": "stdout",
     "output_type": "stream",
     "text": [
      "Epoch 196/5000 -> Train loss: 0.11819583631273525,         Validation loss: 0.12324832710146438\n"
     ]
    },
    {
     "name": "stderr",
     "output_type": "stream",
     "text": [
      "Model Training Progress:   4%|▍         | 197/5000 [1:21:40<31:45:17, 23.80s/it, Step=4, Train Loss=0.115]               "
     ]
    },
    {
     "name": "stdout",
     "output_type": "stream",
     "text": [
      "Epoch 197/5000 -> Train loss: 0.11814238789366252,         Validation loss: 0.12280808832696898\n"
     ]
    },
    {
     "name": "stderr",
     "output_type": "stream",
     "text": [
      "Model Training Progress:   4%|▍         | 198/5000 [1:22:03<31:35:16, 23.68s/it, Step=4, Train Loss=0.117]               "
     ]
    },
    {
     "name": "stdout",
     "output_type": "stream",
     "text": [
      "Epoch 198/5000 -> Train loss: 0.11814046417599294,         Validation loss: 0.12284944681030335\n"
     ]
    },
    {
     "name": "stderr",
     "output_type": "stream",
     "text": [
      "Model Training Progress:   4%|▍         | 199/5000 [1:22:26<31:19:15, 23.49s/it, Step=3, Train Loss=0.13]                "
     ]
    },
    {
     "name": "stdout",
     "output_type": "stream",
     "text": [
      "Epoch 199/5000 -> Train loss: 0.11805163034752233,         Validation loss: 0.12318300560097366\n"
     ]
    },
    {
     "name": "stderr",
     "output_type": "stream",
     "text": [
      "Model Training Progress:   4%|▍         | 199/5000 [1:22:50<33:18:37, 24.98s/it, Train Loss=0.118, Validation Loss=0.123]"
     ]
    },
    {
     "name": "stdout",
     "output_type": "stream",
     "text": [
      "Epoch 200/5000 -> Train loss: 0.1179715160113662,         Validation loss: 0.12280582807498933\n",
      "Validation loss did not improve for         10 epochs, interrupting training.\n"
     ]
    },
    {
     "name": "stderr",
     "output_type": "stream",
     "text": [
      "\n"
     ]
    }
   ],
   "source": [
    "early_stopping = EarlyStopping(10, .0001)\n",
    "auto_save = AutoSave(NET_NAME)\n",
    "history = {'train_loss': [], 'val_loss': []}\n",
    "\n",
    "# Training Loop\n",
    "pbar = tqdm(range(EPOCHS), desc='Model Training Progress', position=0)\n",
    "for epoch in pbar:\n",
    "    model.train(True)\n",
    "    train_loss = 0\n",
    "    val_loss = 0\n",
    "    \n",
    "    for i, (data, _) in enumerate(train_loader):\n",
    "        data = data.to(DEVICE)\n",
    "        optimizer.zero_grad()\n",
    "        \n",
    "        data_noise = torch.randn(data.shape).to(DEVICE)\n",
    "        data_noise = data + data_noise\n",
    "        \n",
    "        recon_batch = model(data_noise.to(DEVICE))\n",
    "        loss = criterion(recon_batch, data)\n",
    "        loss.backward()\n",
    "        \n",
    "        train_loss += loss.item() * len(data)\n",
    "        optimizer.step()\n",
    "        \n",
    "        pbar.set_postfix({'Step': i+1, 'Train Loss': train_loss/(i+1)})\n",
    "        \n",
    "    train_loss = train_loss / len(train_loader)\n",
    "    model.eval()\n",
    "    \n",
    "    with torch.no_grad():\n",
    "        for j, (vdata, _) in enumerate(val_loader):\n",
    "            vdata = vdata.to(DEVICE)\n",
    "            \n",
    "            vdata_noise = torch.randn(vdata.shape).to(DEVICE)\n",
    "            vdata_noise = vdata + vdata_noise\n",
    "            \n",
    "            vouts = model(vdata_noise.to(DEVICE))\n",
    "            vloss = criterion(vouts, vdata)\n",
    "            \n",
    "            val_loss += vloss.item() * len(vdata)\n",
    "            \n",
    "            pbar.set_postfix({\n",
    "                'Train Loss': train_loss, \n",
    "                'Validation Loss': val_loss / (j+1)\n",
    "            })\n",
    "            \n",
    "    val_loss = val_loss / len(val_loader)\n",
    "    history['train_loss'].append(train_loss)\n",
    "    history['val_loss'].append(val_loss)\n",
    "    pbar.write(f'Epoch {epoch+1}/{EPOCHS} -> Train loss: {train_loss}, \\\n",
    "        Validation loss: {val_loss}')\n",
    "    \n",
    "    auto_save.check_save(model, val_loss)\n",
    "    \n",
    "    if early_stopping.early_stop(val_loss):\n",
    "        print(f'Validation loss did not improve for \\\n",
    "        {early_stopping.patience} epochs, interrupting training.')\n",
    "        break\n",
    "    \n",
    "# pbar.write(f'Final Stats -> Train Loss: {train_loss}, Validation Loss: {val_loss}')"
   ]
  },
  {
   "cell_type": "markdown",
   "metadata": {},
   "source": [
    "## Results\n",
    "\n",
    "\n",
    "\n",
    "\n",
    "\n",
    "\n",
    "\n",
    "\n",
    "\n",
    "\n",
    "\n",
    "\n",
    "\n",
    "\n",
    "\n",
    "\n",
    "\n",
    "\n",
    "\n"
   ]
  },
  {
   "cell_type": "code",
   "execution_count": null,
   "metadata": {},
   "outputs": [],
   "source": [
    "sns.lineplot(history)"
   ]
  },
  {
   "cell_type": "code",
   "execution_count": null,
   "metadata": {},
   "outputs": [],
   "source": [
    "test_set = datasets.ImageFolder(\n",
    "    os.path.join(DATA_DIR, 'test'),\n",
    "    transform=img_transforms,\n",
    ")\n",
    "\n",
    "indices_bad = (torch.tensor(test_set.targets)[..., None] == 0).any(-1).nonzero(as_tuple=True)[0]\n",
    "indices_good = (torch.tensor(test_set.targets)[..., None] == 1).any(-1).nonzero(as_tuple=True)[0]\n",
    "\n",
    "test_set_good = Subset(test_set, indices_good)\n",
    "test_set_bad = Subset(test_set, indices_bad)\n",
    "\n",
    "test_loader_good = DataLoader(test_set_good, len(indices_good))\n",
    "test_loader_bad = DataLoader(test_set_bad, len(indices_bad))"
   ]
  },
  {
   "cell_type": "code",
   "execution_count": null,
   "metadata": {},
   "outputs": [],
   "source": [
    "\n",
    "with torch.no_grad():\n",
    "    for data, _ in test_loader_bad:\n",
    "        data = data.to(DEVICE)\n",
    "        recon = model(data)\n",
    "        break\n",
    "\n",
    "import matplotlib.pyplot as plt\n",
    "plt.figure(dpi=250)\n",
    "fig, ax = plt.subplots(2, 7, figsize=(15, 4))\n",
    "for i in range(7):\n",
    "    ax[0, i].imshow(data[i].cpu().numpy().transpose((1, 2, 0)))\n",
    "    ax[1, i].imshow(recon[i].cpu().numpy().transpose((1, 2, 0)))\n",
    "    ax[0, i].axis('OFF')\n",
    "    ax[1, i].axis('OFF')\n",
    "plt.show()\n"
   ]
  },
  {
   "cell_type": "code",
   "execution_count": null,
   "metadata": {},
   "outputs": [],
   "source": [
    "fig.savefig(os.path.join(GRAPH_OUT, NET_NAME + '_anom_sample.png'))"
   ]
  },
  {
   "cell_type": "code",
   "execution_count": null,
   "metadata": {},
   "outputs": [],
   "source": [
    "def pearson_correlation(p1, p2):\n",
    "    return np.corrcoef(p1.flatten(), p2.flatten(), rowvar=False)[0][1]\n",
    "\n",
    "good_corr = list(map(pearson_correlation, data.cpu().numpy(), recon.cpu().numpy()))\n",
    "\n",
    "print(f'Pearson Correlation Coefficients:\\n\\\n",
    "    Min: {np.min(good_corr)}\\n\\\n",
    "    Median: {np.median(good_corr)}\\n\\\n",
    "    Max: {np.max(good_corr)}')"
   ]
  },
  {
   "cell_type": "code",
   "execution_count": null,
   "metadata": {},
   "outputs": [],
   "source": [
    "def euclidean_dist(p1, p2):\n",
    "    return np.linalg.norm(p1-p2)\n",
    "\n",
    "dists = list(map(euclidean_dist, data.cpu().numpy(), recon.cpu().numpy()))\n",
    "\n",
    "print(f'Euclidean Distances:\\n\\\n",
    "    Min: {np.min(dists)}\\n\\\n",
    "    Median: {np.median(dists)}\\n\\\n",
    "    Max: {np.max(dists)}')"
   ]
  },
  {
   "cell_type": "code",
   "execution_count": null,
   "metadata": {},
   "outputs": [],
   "source": [
    "def root_mean_squared_error(p1, p2):\n",
    "    return np.square(np.subtract(p1, p2)).mean()\n",
    "\n",
    "def stats(arr):\n",
    "    \"\"\"Calculates the IQR of array elements.\n",
    "\n",
    "    Args:\n",
    "        arr (np.array): array with numeric values\n",
    "\n",
    "    Returns:\n",
    "        float: IQR calculated from quartiles\n",
    "        float: lower bound for anomaly detection\n",
    "        float: higher bound for anomaly detection\n",
    "    \"\"\"\n",
    "    q75, q25 = np.percentile(arr, [75, 25])\n",
    "    iqr = q75 - q25\n",
    "    return iqr, q25 - 1.5 * iqr, q75 + 1.5 * iqr\n",
    "\n",
    "iqr, lower_bound, higher_bound = stats(list(map(pearson_correlation, data.cpu().numpy(), recon.cpu().numpy())))\n",
    "\n",
    "print(f'IQR: {iqr}\\nLower Bound: {lower_bound}\\nHigher Bound: {higher_bound}')"
   ]
  },
  {
   "cell_type": "code",
   "execution_count": null,
   "metadata": {},
   "outputs": [],
   "source": [
    "with torch.no_grad():\n",
    "    for img, _ in test_loader_good:\n",
    "        img = img.to(DEVICE)\n",
    "        recons = model(img)\n",
    "        break\n",
    "\n",
    "plt.figure(dpi=250)\n",
    "fig, ax = plt.subplots(2, 7, figsize=(15, 4))\n",
    "for i in range(7):\n",
    "    ax[0, i].imshow(img[i].cpu().numpy().transpose((1, 2, 0)))\n",
    "    ax[1, i].imshow(recons[i].cpu().numpy().transpose((1, 2, 0)))\n",
    "    ax[0, i].axis('OFF')\n",
    "    ax[1, i].axis('OFF')\n",
    "plt.show()"
   ]
  },
  {
   "cell_type": "code",
   "execution_count": null,
   "metadata": {},
   "outputs": [],
   "source": [
    "fig.savefig(os.path.join(GRAPH_OUT, NET_NAME + '_normal_sample.png'))"
   ]
  },
  {
   "cell_type": "code",
   "execution_count": null,
   "metadata": {},
   "outputs": [],
   "source": [
    "imgs = img.cpu().numpy()\n",
    "recons_list = recons.cpu().numpy()\n",
    "    \n",
    "iqr, lower_bound, higher_bound = stats(list(map(pearson_correlation, img.cpu().numpy(), recons.cpu().numpy())))\n",
    "print(f'IQR: {iqr}\\nLower Bound: {lower_bound}\\nHigher Bound: {higher_bound}')"
   ]
  },
  {
   "cell_type": "code",
   "execution_count": null,
   "metadata": {},
   "outputs": [],
   "source": [
    "bad_mse = list(map(pearson_correlation, data.cpu().numpy(), recon.cpu().numpy()))\n",
    "print(f'Mean Squared Error on Defects:\\n\\\n",
    "    Min: {np.min(bad_mse)}\\n\\\n",
    "    Median: {np.median(bad_mse)}\\n\\\n",
    "    Max: {np.max(bad_mse)}')"
   ]
  },
  {
   "cell_type": "code",
   "execution_count": null,
   "metadata": {},
   "outputs": [],
   "source": [
    "# plt.boxplot(list(map(root_mean_squared_error, img.cpu().numpy(), recons.cpu().numpy())))\n",
    "# plt.show\n",
    "import seaborn as sns\n",
    "\n",
    "fig, ax = plt.subplots(1, 2)\n",
    "sns.boxplot(list(map(pearson_correlation, data.cpu().numpy(), recon.cpu().numpy())), ax=ax[0])\n",
    "sns.boxplot(list(map(pearson_correlation, img.cpu().numpy(), recons.cpu().numpy())), ax=ax[1])\n",
    "fig.show()"
   ]
  },
  {
   "cell_type": "code",
   "execution_count": null,
   "metadata": {},
   "outputs": [],
   "source": [
    "fig, ax = plt.subplots(figsize=(6,6))\n",
    "bxp = sns.boxplot(list(map(pearson_correlation, img.cpu().numpy(), recons.cpu().numpy())))\n",
    "bxp.set(ylabel='Value', title=f'Pearson Correlation {NET_NAME}')\n",
    "sns.swarmplot(bad_mse, dodge=True)\n",
    "ax.hlines(lower_bound, -.3, .3, colors='red')\n",
    "sns.despine()"
   ]
  },
  {
   "cell_type": "code",
   "execution_count": null,
   "metadata": {},
   "outputs": [],
   "source": [
    "fig.savefig(os.path.join(GRAPH_OUT, NET_NAME + '.png'))"
   ]
  }
 ],
 "metadata": {
  "kernelspec": {
   "display_name": "mpt",
   "language": "python",
   "name": "python3"
  },
  "language_info": {
   "codemirror_mode": {
    "name": "ipython",
    "version": 3
   },
   "file_extension": ".py",
   "mimetype": "text/x-python",
   "name": "python",
   "nbconvert_exporter": "python",
   "pygments_lexer": "ipython3",
   "version": "3.9.18"
  }
 },
 "nbformat": 4,
 "nbformat_minor": 2
}
